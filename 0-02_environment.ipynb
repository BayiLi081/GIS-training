{
 "cells": [
  {
   "cell_type": "markdown",
   "metadata": {},
   "source": [
    "<div align=\"center\"><img src=\"./images/LKYCIC_Header.jpg\"></div>"
   ]
  },
  {
   "cell_type": "markdown",
   "metadata": {},
   "source": [
    "# Introduction to the Coding Environment"
   ]
  },
  {
   "cell_type": "markdown",
   "metadata": {},
   "source": [
    "## Jupyter Notebook\n",
    "\n",
    "> Jupyter Notebook is an open-source web application that allows you to create and share documents that contain live code, equations, visualisations, and narrative text. \n",
    "\n",
    "It is a popular tool among data scientists, researchers, and educators for its flexibility and ease of use.\n",
    "\n",
    "Key features of Jupyter Notebook include:\n",
    "\n",
    "- Interactive Computing: Execute code in real-time and see the results immediately.\n",
    "\n",
    "- Rich Outputs: Display results as text, HTML, LaTeX, charts, images, and more.\n",
    "\n",
    "- Flexible Environment: Combine code, text, and media in a single document."
   ]
  },
  {
   "cell_type": "markdown",
   "metadata": {},
   "source": [
    "### Jupyter Notebook Interface\n",
    "\n",
    "The core element of a Jupyter Notebook is the **Notebook Cell**:  \n",
    "\n",
    "These are the building blocks of a notebook and can be one of the following types:  \n",
    "\n",
    "1. **Code:**  Run programming code and display the output.\n",
    "   \n",
    "   Jupyter supports various programming languages, which can be utilised through [different Jupyter kernels](https://github.com/jupyter/jupyter/wiki/Jupyter-kernels). Python is the default and most widely used kernel. \n",
    "\n",
    "   For each cell, you can:\n",
    "\n",
    "   Press Shift + Enter (or Ctrl + Enter) to run a cell.\n",
    "\n",
    "2. **Text:**  Add narrative text using Markdown syntax.\n",
    "   \n",
    "   [Markdown](https://www.markdownguide.org/) is a lightweight markup language that enables users to format plain text documents without requiring HTML tags or a dedicated text editor.  \n",
    "\n",
    "3. **Raw Data:**  This includes text or code that is not intended to be executed.  "
   ]
  },
  {
   "cell_type": "markdown",
   "metadata": {},
   "source": [
    "If you are using Google Colab and have trouble open the Jupyter Notebook, you may try the following url:\n",
    "\n",
    "https://githubtocolab.com/BayiLi081/GIS-training/blob/main/0-02_environment.ipynb"
   ]
  },
  {
   "cell_type": "markdown",
   "metadata": {},
   "source": [
    "Select the cell.\n",
    "\n",
    "Press **Shift + Enter** to run the cell and move to the next one, or use the **Run** button on the toolbar.\n",
    "\n",
    "Writing and Running Code\n",
    "\n",
    "Here is a simple Python example:"
   ]
  },
  {
   "cell_type": "code",
   "execution_count": null,
   "metadata": {},
   "outputs": [],
   "source": [
    "print(\"Hello, SUTD!\")"
   ]
  },
  {
   "cell_type": "markdown",
   "metadata": {},
   "source": [
    "## Installing Packages"
   ]
  },
  {
   "cell_type": "markdown",
   "metadata": {},
   "source": [
    "Using the command `!pip install package_name` directly within a Jupyter cell, replacing `package_name` with the name of the package you need.\n",
    "\n",
    "Why the exclamation mark !? It allows you to run shell commands from within a Jupyter Lab notebook. \n",
    "\n",
    "> A shell command is a simple instruction you type to tell your computer to do something, like installing a program or managing files."
   ]
  },
  {
   "cell_type": "markdown",
   "metadata": {},
   "source": [
    "Run the following code to install the packages required for this bootcamp"
   ]
  },
  {
   "cell_type": "code",
   "execution_count": null,
   "metadata": {},
   "outputs": [],
   "source": [
    "!pip install pandas geopandas matplotlib seaborn cartopy folium rasterio"
   ]
  },
  {
   "cell_type": "markdown",
   "metadata": {},
   "source": [
    "## Importing Packages"
   ]
  },
  {
   "cell_type": "markdown",
   "metadata": {},
   "source": [
    "A package is a collection of code that someone else wrote and put in a sharable format. Usually it's designed to add specific functionalities to Python. \n",
    "\n",
    "Importing is done with the `import package_name`. \n",
    "\n",
    "We simply run import [PACKAGE_NAME], and everything inside the package becomes available to use."
   ]
  },
  {
   "cell_type": "code",
   "execution_count": null,
   "metadata": {},
   "outputs": [],
   "source": [
    "import pandas"
   ]
  },
  {
   "cell_type": "markdown",
   "metadata": {},
   "source": [
    "Another way is import only part of the package, for example, a specific function.\n",
    "\n",
    "In this case, we will use `from package_name import function`."
   ]
  },
  {
   "cell_type": "code",
   "execution_count": null,
   "metadata": {},
   "outputs": [],
   "source": [
    "from matplotlib import pyplot"
   ]
  },
  {
   "cell_type": "markdown",
   "metadata": {},
   "source": [
    "Alias is often used to simplify the following code. For example, the common alias for `pandas` is `pd`.\n",
    "\n",
    "After you assign an alias to a package or a function, you can use the alias to represent it.\n",
    "\n",
    "The syntax to use is `import keyword as alias` or `from package_name import function as alias`"
   ]
  },
  {
   "cell_type": "code",
   "execution_count": null,
   "metadata": {},
   "outputs": [],
   "source": [
    "import pandas as pd\n",
    "from matplotlib import pyplot as plt"
   ]
  },
  {
   "cell_type": "markdown",
   "metadata": {},
   "source": [
    "## Python Check \n",
    "\n",
    "A successful run of the notebook implies no errors returned in any cell. \n",
    "\n",
    "This ensures a correct environment and libraries installed."
   ]
  },
  {
   "cell_type": "code",
   "execution_count": null,
   "metadata": {},
   "outputs": [],
   "source": [
    "import pandas as pd\n",
    "\n",
    "float(pd.__version__[:3]) >= 0.1"
   ]
  },
  {
   "cell_type": "code",
   "execution_count": null,
   "metadata": {},
   "outputs": [],
   "source": [
    "import geopandas as gpd\n",
    "\n",
    "float(gpd.__version__[:3]) >= 0.1"
   ]
  },
  {
   "cell_type": "code",
   "execution_count": null,
   "metadata": {},
   "outputs": [],
   "source": [
    "import matplotlib as mpl\n",
    "\n",
    "float(mpl.__version__[:3]) >= 3.5"
   ]
  },
  {
   "cell_type": "code",
   "execution_count": null,
   "metadata": {},
   "outputs": [],
   "source": [
    "import seaborn as sns\n",
    "\n",
    "float(sns.__version__[:3]) >= 0.1"
   ]
  },
  {
   "cell_type": "code",
   "execution_count": null,
   "metadata": {},
   "outputs": [],
   "source": [
    "import numpy as np\n",
    "\n",
    "np.__version__"
   ]
  },
  {
   "cell_type": "code",
   "execution_count": null,
   "metadata": {},
   "outputs": [],
   "source": [
    "import rasterio as rio\n",
    "\n",
    "rio.__version__"
   ]
  },
  {
   "cell_type": "markdown",
   "metadata": {},
   "source": [
    "## Data Check"
   ]
  },
  {
   "cell_type": "markdown",
   "metadata": {},
   "source": [
    "### Mount your Google Drive (For Google Colab User)\n",
    "\n",
    "<div align=\"center\">  \n",
    "    <img src=\"./images/colab_mount_gdrive.png\" width=\"300px\">  \n",
    "    <br>  \n",
    "    <p>Mount your Google Drive to your Google Colab.</p>  \n",
    "</div>\n",
    "\n",
    "Alternatively, you can run the following code to mount to Google Drive"
   ]
  },
  {
   "cell_type": "code",
   "execution_count": null,
   "metadata": {},
   "outputs": [],
   "source": [
    "from google.colab import drive\n",
    "drive.mount('/content/drive')"
   ]
  },
  {
   "cell_type": "code",
   "execution_count": null,
   "metadata": {},
   "outputs": [],
   "source": [
    "shp = gpd.read_file(\"<path to your Google Drive Files>\")\n",
    "shp.head()"
   ]
  },
  {
   "cell_type": "markdown",
   "metadata": {},
   "source": [
    "For local development users, use relative path will be sufficient to read the file:"
   ]
  },
  {
   "cell_type": "code",
   "execution_count": null,
   "metadata": {},
   "outputs": [],
   "source": [
    "shp = gpd.read_file('./data/raw/part_ii/mrt_sg/MRT_LRT_Stations.shp')\n",
    "shp.head()"
   ]
  },
  {
   "cell_type": "code",
   "execution_count": null,
   "metadata": {},
   "outputs": [],
   "source": [
    "shp.crs"
   ]
  },
  {
   "cell_type": "code",
   "execution_count": null,
   "metadata": {},
   "outputs": [],
   "source": [
    "db_projected = shp.to_crs(epsg=3857)\n",
    "db_projected.plot()"
   ]
  },
  {
   "cell_type": "markdown",
   "metadata": {},
   "source": [
    "## Next Step"
   ]
  },
  {
   "cell_type": "markdown",
   "metadata": {},
   "source": [
    "Congratulation! You have finished the set up and environment check.\n",
    "\n",
    "You may leave the rest to the bootcamp time."
   ]
  },
  {
   "cell_type": "markdown",
   "metadata": {},
   "source": [
    "Go to [1-01: Data Types and Structures](./jupyters/1-01_data.ipynb)"
   ]
  }
 ],
 "metadata": {
  "kernelspec": {
   "display_name": "geospatial",
   "language": "python",
   "name": "python3"
  },
  "language_info": {
   "codemirror_mode": {
    "name": "ipython",
    "version": 3
   },
   "file_extension": ".py",
   "mimetype": "text/x-python",
   "name": "python",
   "nbconvert_exporter": "python",
   "pygments_lexer": "ipython3",
   "version": "3.10.15"
  }
 },
 "nbformat": 4,
 "nbformat_minor": 2
}
