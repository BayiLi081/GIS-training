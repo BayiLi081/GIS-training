{
 "cells": [
  {
   "cell_type": "markdown",
   "metadata": {},
   "source": [
    "<div align=\"center\"><img src=\"../images/LKYCIC_Header.jpg\"></div>"
   ]
  },
  {
   "cell_type": "markdown",
   "metadata": {},
   "source": [
    "**Table of contents**<a id='toc0_'></a>    \n",
    "- [1-01: Data Types and Structures](#toc1_)    \n",
    "  - [Data Types](#toc1_1_)    \n",
    "    - [Integer](#toc1_1_1_)    \n",
    "    - [Float](#toc1_1_2_)    \n",
    "    - [String](#toc1_1_3_)    \n",
    "  - [Variable](#toc1_2_)    \n",
    "    - [Check type](#toc1_2_1_)    \n",
    "    - [Operations and functions](#toc1_2_2_)    \n",
    "      - [Numeric Operations](#toc1_2_2_1_)    \n",
    "      - [String Operations](#toc1_2_2_2_)    \n",
    "  - [Data Structures](#toc1_3_)    \n",
    "    - [List](#toc1_3_1_)    \n",
    "      - [For loop](#toc1_3_1_1_)    \n",
    "      - [Conditional Statement](#toc1_3_1_2_)    \n",
    "    - [Indexing system](#toc1_3_2_)    \n",
    "      - [Add element to the list](#toc1_3_2_1_)    \n",
    "    - [Dictionary](#toc1_3_3_)    \n",
    "      - [Create Dictionary from Lists](#toc1_3_3_1_)    \n",
    "  - [Next step](#toc1_4_)    \n",
    "\n",
    "<!-- vscode-jupyter-toc-config\n",
    "\tnumbering=false\n",
    "\tanchor=true\n",
    "\tflat=false\n",
    "\tminLevel=1\n",
    "\tmaxLevel=6\n",
    "\t/vscode-jupyter-toc-config -->\n",
    "<!-- THIS CELL WILL BE REPLACED ON TOC UPDATE. DO NOT WRITE YOUR TEXT IN THIS CELL -->"
   ]
  },
  {
   "cell_type": "markdown",
   "metadata": {},
   "source": [
    "# <a id='toc1_'></a>[1-01: Data Types and Structures](#toc0_)"
   ]
  },
  {
   "cell_type": "markdown",
   "metadata": {},
   "source": [
    "We will begin by introducing some of the most commonly used data types in Python, such as **integers, floats, and strings**, which form the foundation for handling different kinds of information in programming.\n",
    "\n",
    "Understanding these data types is essential for performing calculations, managing text, and working with various types of data.  \n",
    "\n",
    "In addition to these fundamental data types, we will explore two versatile and widely used data structures: **lists and dictionaries**. \n",
    "\n",
    "1. List\n",
    "\n",
    "    Lists allow you to store and manage collections of items in an ordered sequence, making it easier to perform operations like iteration and indexing. \n",
    "\n",
    "2. Dictionary\n",
    "    \n",
    "    Dictionaries enable you to store data in a key-value format, offering a flexible way to organise and retrieve information efficiently."
   ]
  },
  {
   "cell_type": "markdown",
   "metadata": {},
   "source": [
    "## <a id='toc1_1_'></a>[Data Types](#toc0_)"
   ]
  },
  {
   "cell_type": "markdown",
   "metadata": {},
   "source": [
    "### <a id='toc1_1_1_'></a>[Integer](#toc0_)"
   ]
  },
  {
   "cell_type": "markdown",
   "metadata": {},
   "source": [
    "For example,\n",
    "\n",
    "- Number of students in a class.  \n",
    "- Population of a city.      \n",
    "- Employee IDs.    \n",
    "- House numbers in addresses.     \n",
    "- Points in a sports game.      \n",
    "- Distance in metres (when rounded).      \n",
    "- Views or likes on a social media post (when displayed as whole numbers).  "
   ]
  },
  {
   "cell_type": "code",
   "execution_count": null,
   "metadata": {},
   "outputs": [],
   "source": [
    "age = 28"
   ]
  },
  {
   "cell_type": "markdown",
   "metadata": {},
   "source": [
    "The last line (if it is a object) is printed automatically.\n",
    "\n",
    "For other lines above, you need to explicitly add print():"
   ]
  },
  {
   "cell_type": "code",
   "execution_count": null,
   "metadata": {},
   "outputs": [],
   "source": [
    "age\n",
    "print(age)"
   ]
  },
  {
   "cell_type": "code",
   "execution_count": null,
   "metadata": {},
   "outputs": [],
   "source": [
    "print(age)\n",
    "age"
   ]
  },
  {
   "cell_type": "code",
   "execution_count": null,
   "metadata": {},
   "outputs": [],
   "source": [
    "print(age)\n",
    "print(age)"
   ]
  },
  {
   "cell_type": "markdown",
   "metadata": {},
   "source": [
    "### <a id='toc1_1_2_'></a>[Float](#toc0_)"
   ]
  },
  {
   "cell_type": "markdown",
   "metadata": {},
   "source": [
    "Floats, or floating-point numbers, represent real numbers that include a fractional component. \n",
    "\n",
    "- Stock prices (e.g., 154.32 per share)  \n",
    "- Interest rates (e.g., 3.75%)   \n",
    "- Latitude and longitude coordinates (e.g., 51.5074, -0.1278)  \n",
    "- Elevation or depth (e.g., 8848.86 m for Mount Everest)  \n",
    "- Wind speed (e.g., 10.5 m/s)   "
   ]
  },
  {
   "cell_type": "code",
   "execution_count": null,
   "metadata": {},
   "outputs": [],
   "source": [
    "bank_balance = 100.50"
   ]
  },
  {
   "cell_type": "code",
   "execution_count": null,
   "metadata": {},
   "outputs": [],
   "source": [
    "print(bank_balance)"
   ]
  },
  {
   "cell_type": "markdown",
   "metadata": {},
   "source": [
    "### <a id='toc1_1_3_'></a>[String](#toc0_)"
   ]
  },
  {
   "cell_type": "markdown",
   "metadata": {},
   "source": [
    "For textual information. Strings are incredibly versatile and can represent virtually any kind of **textual or symbolic data**.   \n",
    " \n",
    "- Addresses: \"221B Baker Street, London\"     \n",
    "- Sentences or paragraphs from books, articles, or documents    \n",
    "- Social media posts or tweets  \n",
    "- Comments: \"Great product, highly recommend!\"  \n",
    "- Search queries: \"best Python tutorials\"  \n",
    "- Survey responses  \n",
    "- Error messages: \"File not found\"     \n",
    "- Country names: \"United Kingdom\"  \n",
    "- City names: \"London\" "
   ]
  },
  {
   "cell_type": "code",
   "execution_count": null,
   "metadata": {},
   "outputs": [],
   "source": [
    "my_info = \"I am 28 years old and I have SG$100.50 in my bank account.\""
   ]
  },
  {
   "cell_type": "code",
   "execution_count": null,
   "metadata": {},
   "outputs": [],
   "source": [
    "print(my_info)"
   ]
  },
  {
   "cell_type": "markdown",
   "metadata": {},
   "source": [
    "## <a id='toc1_2_'></a>[Variable](#toc0_)"
   ]
  },
  {
   "cell_type": "markdown",
   "metadata": {},
   "source": [
    "In Python, a variable is **a named storage location** used to hold data that can be accessed and manipulated during the execution of a program. \n",
    "\n",
    "Think of a variable as a \"container\" that stores a value, which can be changed or reused later."
   ]
  },
  {
   "cell_type": "markdown",
   "metadata": {},
   "source": [
    "### <a id='toc1_2_1_'></a>[Check type](#toc0_)"
   ]
  },
  {
   "cell_type": "markdown",
   "metadata": {},
   "source": [
    "We can use the `type()` **function** to identify the type of a variable."
   ]
  },
  {
   "cell_type": "code",
   "execution_count": null,
   "metadata": {},
   "outputs": [],
   "source": [
    "type(age)"
   ]
  },
  {
   "cell_type": "code",
   "execution_count": null,
   "metadata": {},
   "outputs": [],
   "source": [
    "type(bank_balance)"
   ]
  },
  {
   "cell_type": "code",
   "execution_count": null,
   "metadata": {},
   "outputs": [],
   "source": [
    "type(my_info)"
   ]
  },
  {
   "cell_type": "markdown",
   "metadata": {},
   "source": [
    "### <a id='toc1_2_2_'></a>[Operations and functions](#toc0_)"
   ]
  },
  {
   "cell_type": "markdown",
   "metadata": {},
   "source": [
    "#### <a id='toc1_2_2_1_'></a>[Numeric Operations](#toc0_)"
   ]
  },
  {
   "cell_type": "markdown",
   "metadata": {},
   "source": [
    "`I am one year older, and I made 50 SGD in the last year`. Then:"
   ]
  },
  {
   "cell_type": "code",
   "execution_count": null,
   "metadata": {},
   "outputs": [],
   "source": [
    "print(age, bank_balance)"
   ]
  },
  {
   "cell_type": "code",
   "execution_count": null,
   "metadata": {},
   "outputs": [],
   "source": [
    "age + 1"
   ]
  },
  {
   "cell_type": "code",
   "execution_count": null,
   "metadata": {},
   "outputs": [],
   "source": [
    "bank_balance  + 50"
   ]
  },
  {
   "cell_type": "code",
   "execution_count": null,
   "metadata": {},
   "outputs": [],
   "source": [
    "print(age, bank_balance)"
   ]
  },
  {
   "cell_type": "markdown",
   "metadata": {},
   "source": [
    "We can see the values of these variables remain unchanged no matter which operations conducted. \n",
    "\n",
    "To actually change the value of these variables. We need to use '=' to assign the new value to the variables:"
   ]
  },
  {
   "cell_type": "code",
   "execution_count": null,
   "metadata": {},
   "outputs": [],
   "source": [
    "age = age + 1\n",
    "bank_balance = bank_balance + 50"
   ]
  },
  {
   "cell_type": "code",
   "execution_count": null,
   "metadata": {},
   "outputs": [],
   "source": [
    "print(age, bank_balance)"
   ]
  },
  {
   "cell_type": "markdown",
   "metadata": {},
   "source": [
    "Float <--> integer"
   ]
  },
  {
   "cell_type": "code",
   "execution_count": null,
   "metadata": {},
   "outputs": [],
   "source": [
    "round(bank_balance)"
   ]
  },
  {
   "cell_type": "code",
   "execution_count": null,
   "metadata": {},
   "outputs": [],
   "source": [
    "type(round(bank_balance))"
   ]
  },
  {
   "cell_type": "code",
   "execution_count": null,
   "metadata": {},
   "outputs": [],
   "source": [
    "round(1.566668, 3)"
   ]
  },
  {
   "cell_type": "code",
   "execution_count": null,
   "metadata": {},
   "outputs": [],
   "source": [
    "type(round(1.566668, 3))"
   ]
  },
  {
   "cell_type": "code",
   "execution_count": null,
   "metadata": {},
   "outputs": [],
   "source": [
    "# int to float\n",
    "float(age)"
   ]
  },
  {
   "cell_type": "markdown",
   "metadata": {},
   "source": [
    "*Note:* Hash symbol `\"#\"` is the way of commenting things in Python."
   ]
  },
  {
   "cell_type": "code",
   "execution_count": null,
   "metadata": {},
   "outputs": [],
   "source": [
    "# float to int\n",
    "int(bank_balance)"
   ]
  },
  {
   "cell_type": "markdown",
   "metadata": {},
   "source": [
    "#### <a id='toc1_2_2_2_'></a>[String Operations](#toc0_)"
   ]
  },
  {
   "cell_type": "markdown",
   "metadata": {},
   "source": [
    "Split string varibale:\n",
    "\n",
    "`Task:` Extract the textual address and postcode from the full address"
   ]
  },
  {
   "cell_type": "code",
   "execution_count": null,
   "metadata": {},
   "outputs": [],
   "source": [
    "address = \"Somapah Rd, Singapore 487372\""
   ]
  },
  {
   "cell_type": "code",
   "execution_count": null,
   "metadata": {},
   "outputs": [],
   "source": [
    "address.split(\",\")"
   ]
  },
  {
   "cell_type": "code",
   "execution_count": null,
   "metadata": {},
   "outputs": [],
   "source": [
    "rd_name, post_code = address.split(\",\")\n",
    "\n",
    "print(\"The road name is \" + rd_name + \" and the postal code is \" + post_code)"
   ]
  },
  {
   "cell_type": "code",
   "execution_count": null,
   "metadata": {},
   "outputs": [],
   "source": [
    "rd_name, post_code = address.split(\", Singapore \")\n",
    "\n",
    "print(\"The road name is \" + rd_name + \" and the postal code is \" + post_code)"
   ]
  },
  {
   "cell_type": "markdown",
   "metadata": {},
   "source": [
    "**F-strings**"
   ]
  },
  {
   "cell_type": "markdown",
   "metadata": {},
   "source": [
    "F-strings is a way to format strings in Python. It is a way to embed expressions inside string literals, using curly braces `{}`."
   ]
  },
  {
   "cell_type": "code",
   "execution_count": null,
   "metadata": {},
   "outputs": [],
   "source": [
    "print(my_info)"
   ]
  },
  {
   "cell_type": "code",
   "execution_count": null,
   "metadata": {},
   "outputs": [],
   "source": [
    "print(f\"I am {age} years old and I have SG${bank_balance} in my bank account.\")"
   ]
  },
  {
   "cell_type": "code",
   "execution_count": null,
   "metadata": {},
   "outputs": [],
   "source": [
    "print(f\"I am {age} years old and I have SG${bank_balance:.3f} in my bank account.\")"
   ]
  },
  {
   "cell_type": "markdown",
   "metadata": {},
   "source": [
    "Another way is using string format() function:"
   ]
  },
  {
   "cell_type": "code",
   "execution_count": null,
   "metadata": {},
   "outputs": [],
   "source": [
    "print(\"I am {age} years old and I have SG${bank_balance} in my bank account.\".format(age=age, bank_balance=bank_balance))"
   ]
  },
  {
   "cell_type": "code",
   "execution_count": null,
   "metadata": {},
   "outputs": [],
   "source": [
    "print(\"I am {age} years old and I have SG${bank_balance:.3f} in my bank account.\".format(age=age, bank_balance=bank_balance))"
   ]
  },
  {
   "cell_type": "markdown",
   "metadata": {},
   "source": [
    "Formatted strings (or f-strings) in Python offer a powerful and dynamic way of incorporating variables and expressions into strings. \n",
    "\n",
    "Personally, I use `F-Strings` more often, because it is more straightforward."
   ]
  },
  {
   "cell_type": "markdown",
   "metadata": {},
   "source": [
    "## <a id='toc1_3_'></a>[Data Structures](#toc0_)"
   ]
  },
  {
   "cell_type": "markdown",
   "metadata": {},
   "source": [
    "If you are familiar with **vectors, data frames, and lists in R**, learning their equivalents in Python will be straightforward.  \n",
    "\n",
    "For those who are completely new to programming, these data structures are also quite easy to understand.  "
   ]
  },
  {
   "cell_type": "markdown",
   "metadata": {},
   "source": [
    "### <a id='toc1_3_1_'></a>[List](#toc0_)"
   ]
  },
  {
   "cell_type": "markdown",
   "metadata": {},
   "source": [
    "We specify a list with square brackets: `[]` and **commas separating each entry** in the list:"
   ]
  },
  {
   "cell_type": "markdown",
   "metadata": {},
   "source": [
    "| R                                                            | Python                                                       |\n",
    "| ------------------------------------------------------------ | ------------------------------------------------------------ |\n",
    "| Vectors                                                      | Lists                                                        |\n",
    "| A vector is a one-dimensional, homogeneous data structure (all elements must be of the same type). | A list in Python is one-dimensional but heterogeneous (can contain different data types). |\n",
    "| numeric_vector <- c(1, 2, 3)<br/>character_vector <- c(\"a\", \"b\", \"c\") | numeric_list = [1, 2, 3]<br/>mixed_list = [1, \"a\", True]     |\n",
    "\n",
    "Python lists are more flexible with types."
   ]
  },
  {
   "cell_type": "code",
   "execution_count": null,
   "metadata": {},
   "outputs": [],
   "source": [
    "asean_country_list = ['Brunei Darussalam', 'Cambodia', 'Indonesia', 'Lao PDR', 'Malaysia', 'Myanmar', 'Philippines', 'Singapore', 'Thailand', 'Vietnam']\n",
    "\n",
    "type(asean_country_list)"
   ]
  },
  {
   "cell_type": "markdown",
   "metadata": {},
   "source": [
    "`len()` gives us the number of items in a list. How many countries in the list of Asean countries?"
   ]
  },
  {
   "cell_type": "code",
   "execution_count": null,
   "metadata": {},
   "outputs": [],
   "source": [
    "len(asean_country_list)"
   ]
  },
  {
   "cell_type": "markdown",
   "metadata": {},
   "source": [
    "#### <a id='toc1_3_1_1_'></a>[For loop](#toc0_)\n",
    "\n",
    "```python\n",
    "for variable in sequence:\n",
    "    # Code to execute\n",
    "```\n",
    "\n",
    "Loop print the country name"
   ]
  },
  {
   "cell_type": "code",
   "execution_count": null,
   "metadata": {},
   "outputs": [],
   "source": [
    "for country in asean_country_list:\n",
    "    print(country)"
   ]
  },
  {
   "cell_type": "markdown",
   "metadata": {},
   "source": [
    "Find the country whose name start with 'M'"
   ]
  },
  {
   "cell_type": "code",
   "execution_count": null,
   "metadata": {},
   "outputs": [],
   "source": [
    "for country in asean_country_list:\n",
    "    print(country)\n",
    "    print(country.startswith('M')) # This is a conditional statement to check if the country name starts with 'M'\n",
    "    print('---')"
   ]
  },
  {
   "cell_type": "markdown",
   "metadata": {},
   "source": [
    "#### <a id='toc1_3_1_2_'></a>[Conditional Statement](#toc0_)\n",
    "\n",
    "Any conditional statement will return one of these two values (True or False) to indicate whether the condition is valid.\n",
    "\n",
    "The `if-else` statement is the most common conditional structure used.\n",
    "\n",
    "You can add an `if condition` to your loop to decide whether the country name starts with 'M'. Print different messages depending on the result of the condition:  "
   ]
  },
  {
   "cell_type": "code",
   "execution_count": null,
   "metadata": {},
   "outputs": [],
   "source": [
    "'Singapore'.startswith('M')"
   ]
  },
  {
   "cell_type": "markdown",
   "metadata": {},
   "source": [
    "Yes, in computer systems, the concepts of True and False are represented numerically:\n",
    "\n",
    "1. `True` is represented as 1.\n",
    "\n",
    "2. `False` is represented as 0."
   ]
  },
  {
   "cell_type": "code",
   "execution_count": null,
   "metadata": {},
   "outputs": [],
   "source": [
    "'Singapore'.startswith('S') + 2"
   ]
  },
  {
   "cell_type": "code",
   "execution_count": null,
   "metadata": {},
   "outputs": [],
   "source": [
    "'Singapore'.startswith('M') + 2"
   ]
  },
  {
   "cell_type": "markdown",
   "metadata": {},
   "source": [
    "For if-else statement, the syntax is as follows:"
   ]
  },
  {
   "cell_type": "code",
   "execution_count": null,
   "metadata": {},
   "outputs": [],
   "source": [
    "if 1:\n",
    "    print('This is True')  # Executed because `1` is truthy.\n",
    "    \n",
    "if True:\n",
    "    print('This is also True')  # Executed because `True` is truthy.\n",
    "    \n",
    "if 5:\n",
    "    print('This can be True')  # Executed because any non-zero number is truthy.\n"
   ]
  },
  {
   "cell_type": "code",
   "execution_count": null,
   "metadata": {},
   "outputs": [],
   "source": [
    "if 0:\n",
    "    print('This is False')  # Not executed because `0` is falsy.\n",
    "\n",
    "if False:\n",
    "    print('This is also False')  # Not executed because `False` is falsy.\n",
    "\n",
    "if '':\n",
    "    print('This is False')  # Not executed because an empty string is falsy.\n",
    "\n",
    "if []:\n",
    "    print('This is False')  # Not executed because an empty list is falsy."
   ]
  },
  {
   "cell_type": "markdown",
   "metadata": {},
   "source": [
    "To summarise:\n",
    "\n",
    "The if condition is executed when the value is truthy, such as:\n",
    "\n",
    "1. Non-zero numbers (e.g., 1, 5, -3).\n",
    "\n",
    "2. The boolean value True.\n",
    "\n",
    "The if condition is not executed when the value is falsy, such as:\n",
    "1. 0 (zero).\n",
    "\n",
    "2. The boolean value False.\n",
    "\n",
    "3. Other falsy values like None, empty strings (\"\"), empty lists ([]), etc."
   ]
  },
  {
   "cell_type": "code",
   "execution_count": null,
   "metadata": {},
   "outputs": [],
   "source": [
    "for country in asean_country_list:\n",
    "    print(country)\n",
    "    if country.startswith('M') == True:\n",
    "        print(f\"{country} starts with M\")\n",
    "    else:\n",
    "        print(f\"{country} does not start with M\")\n",
    "    print('---')"
   ]
  },
  {
   "cell_type": "markdown",
   "metadata": {},
   "source": [
    "In programming, `True` is represented as 1, while `False` is represented as 0.\n",
    "\n",
    "So you can replace the `True` with number 1, it will return the same output:"
   ]
  },
  {
   "cell_type": "code",
   "execution_count": null,
   "metadata": {},
   "outputs": [],
   "source": [
    "for country in asean_country_list:\n",
    "    print(country)\n",
    "    if country.startswith('M') == 1:\n",
    "        print(f\"{country} starts with M\")\n",
    "    else:\n",
    "        print(f\"{country} does not start with M\")\n",
    "    print('---')"
   ]
  },
  {
   "cell_type": "markdown",
   "metadata": {},
   "source": [
    "## Function"
   ]
  },
  {
   "cell_type": "markdown",
   "metadata": {},
   "source": [
    "Functions are a very important feature in almost every programming language because they allow us to reuse previously defined code."
   ]
  },
  {
   "cell_type": "markdown",
   "metadata": {},
   "source": [
    "```python\n",
    "def function_name(input):\n",
    "\n",
    "    '''\n",
    "    Every code inbetween\n",
    "    '''\n",
    "\n",
    "    return output\n",
    "```"
   ]
  },
  {
   "cell_type": "code",
   "execution_count": null,
   "metadata": {},
   "outputs": [],
   "source": [
    "age = 28\n",
    "bank_balance = 100.50"
   ]
  },
  {
   "cell_type": "code",
   "execution_count": null,
   "metadata": {},
   "outputs": [],
   "source": [
    "print(age, bank_balance)"
   ]
  },
  {
   "cell_type": "code",
   "execution_count": null,
   "metadata": {},
   "outputs": [],
   "source": [
    "current_year = 2025\n",
    "future_year = 2070\n",
    "\n",
    "age = age + (future_year - current_year)\n",
    "bank_balance = bank_balance + (future_year - current_year) * 50\n",
    "\n",
    "print(age, bank_balance)"
   ]
  },
  {
   "cell_type": "markdown",
   "metadata": {},
   "source": [
    "`Task`: Can you make a function to calculate the balance of the year if my bank_balance increases 50 dollor every year? "
   ]
  },
  {
   "cell_type": "code",
   "execution_count": null,
   "metadata": {},
   "outputs": [],
   "source": [
    "age = 28\n",
    "bank_balance = 100.50\n",
    "current_year = 2025\n",
    "future_year = 2070\n",
    "annual_savings = 50\n",
    "\n",
    "def calculate_future_age_and_bank_balance(age, bank_balance, current_year, future_year, annual_savings):\n",
    "    age = age + (future_year - current_year)\n",
    "    bank_balance = bank_balance + (future_year - current_year) * annual_savings\n",
    "    return age, bank_balance\n",
    "\n",
    "age, bank_balance = calculate_future_age_and_bank_balance(age, bank_balance, current_year, future_year, annual_savings)\n",
    "\n",
    "print(f\"By the year {future_year}, I will be {age} years old and have SG$ {bank_balance} in my bank account.\")"
   ]
  },
  {
   "cell_type": "markdown",
   "metadata": {},
   "source": [
    "`Challenge`: Can you make a function `calculate_future_balance` to calculate the balance of the year if my bank_balance increases 10% every year?"
   ]
  },
  {
   "cell_type": "code",
   "execution_count": null,
   "metadata": {},
   "outputs": [],
   "source": [
    "age = 28\n",
    "bank_balance = 100.50\n",
    "current_year = 2025\n",
    "future_year = 2080\n",
    "growth_rate = 0.1\n",
    "\n",
    "#——————————————————————————————————————————————————————————————————————————————————————————————#\n",
    "\n",
    "\n",
    "#——————————————————————————————————————————————————————————————————————————————————————————————#\n",
    "\n",
    "age, bank_balance = calculate_future_balance(age, bank_balance, growth_rate, current_year, future_year)\n",
    "\n",
    "print(f\"By the year {future_year}, I will be {age} years old and have SG$ {bank_balance} in my bank account.\")"
   ]
  },
  {
   "cell_type": "markdown",
   "metadata": {},
   "source": [
    "### <a id='toc1_3_2_'></a>[Indexing system](#toc0_)"
   ]
  },
  {
   "cell_type": "markdown",
   "metadata": {},
   "source": [
    "Python is **zero-indexed**, which means that the indexing of elements in sequences (such as lists, tuples, and strings) starts from 0. "
   ]
  },
  {
   "cell_type": "code",
   "execution_count": null,
   "metadata": {},
   "outputs": [],
   "source": [
    "print(asean_country_list)"
   ]
  },
  {
   "cell_type": "code",
   "execution_count": null,
   "metadata": {},
   "outputs": [],
   "source": [
    "print(asean_country_list[1])"
   ]
  },
  {
   "cell_type": "markdown",
   "metadata": {},
   "source": [
    "The first element of a sequence has an index of 0, the second element has an index of 1, and so on."
   ]
  },
  {
   "cell_type": "code",
   "execution_count": null,
   "metadata": {},
   "outputs": [],
   "source": [
    "print(asean_country_list[0])"
   ]
  },
  {
   "cell_type": "markdown",
   "metadata": {},
   "source": [
    "Python also supports **negative indexing**, which allows you to access elements from the end of the sequence. The last element is at index -1, the second-last at -2, and so on."
   ]
  },
  {
   "cell_type": "code",
   "execution_count": null,
   "metadata": {},
   "outputs": [],
   "source": [
    "print(asean_country_list[-1])"
   ]
  },
  {
   "cell_type": "markdown",
   "metadata": {},
   "source": [
    "We can also get multiple items from a list. We specify the start index and the end index, separated by a colon `[start:stop]`. \n",
    "\n",
    "Start index is included but not the stop index."
   ]
  },
  {
   "cell_type": "code",
   "execution_count": null,
   "metadata": {},
   "outputs": [],
   "source": [
    "print(asean_country_list[1:3]) # The second element and the third element"
   ]
  },
  {
   "cell_type": "code",
   "execution_count": null,
   "metadata": {},
   "outputs": [],
   "source": [
    "print(asean_country_list[1], asean_country_list[2])"
   ]
  },
  {
   "cell_type": "markdown",
   "metadata": {},
   "source": [
    "If one side of the colon is empty, it indicates using one end of the list as the starting or ending points. "
   ]
  },
  {
   "cell_type": "code",
   "execution_count": null,
   "metadata": {},
   "outputs": [],
   "source": [
    "print(asean_country_list[1:])"
   ]
  },
  {
   "cell_type": "code",
   "execution_count": null,
   "metadata": {},
   "outputs": [],
   "source": [
    "print(asean_country_list[:-3])"
   ]
  },
  {
   "cell_type": "markdown",
   "metadata": {},
   "source": [
    "#### <a id='toc1_3_2_1_'></a>[Add element to the list](#toc0_)\n",
    "\n",
    "Append one country 'Japan' to the list:"
   ]
  },
  {
   "cell_type": "code",
   "execution_count": null,
   "metadata": {},
   "outputs": [],
   "source": [
    "asean_country_list.append('Japan')"
   ]
  },
  {
   "cell_type": "markdown",
   "metadata": {},
   "source": [
    "It will add the new element to the last:"
   ]
  },
  {
   "cell_type": "code",
   "execution_count": null,
   "metadata": {},
   "outputs": [],
   "source": [
    "print(asean_country_list)"
   ]
  },
  {
   "cell_type": "markdown",
   "metadata": {},
   "source": [
    "Remove 'Japan' from the list:"
   ]
  },
  {
   "cell_type": "code",
   "execution_count": null,
   "metadata": {},
   "outputs": [],
   "source": [
    "asean_country_list.remove('Japan')"
   ]
  },
  {
   "cell_type": "code",
   "execution_count": null,
   "metadata": {},
   "outputs": [],
   "source": [
    "print(asean_country_list)"
   ]
  },
  {
   "cell_type": "markdown",
   "metadata": {},
   "source": [
    "### <a id='toc1_3_3_'></a>[Dictionary](#toc0_)"
   ]
  },
  {
   "cell_type": "markdown",
   "metadata": {},
   "source": [
    "Dictionaries are organized in pairs of keys and values. \n",
    "\n",
    "The **keys** can be used to access the **values**."
   ]
  },
  {
   "cell_type": "markdown",
   "metadata": {},
   "source": [
    "| R                                                            | Python                                                       |\n",
    "| ------------------------------------------------------------ | ------------------------------------------------------------ |\n",
    "| Lists                                                        | Dictionaries                                                 |\n",
    "| A list is a versatile structure that can contain elements of different types, including other lists. | A dictionary stores key-value pairs, offering functionality somewhat akin to named lists in R. |\n",
    "| lst <- list(name = \"Alice\", age = 25, scores = c(90, 85, 88)) | person = {\"name\": \"Alice\", \"age\": 25, \"scores\": [90, 85, 88]} |"
   ]
  },
  {
   "cell_type": "markdown",
   "metadata": {},
   "source": [
    "Dictionaries are specified in Python using `{}`. **Colons separate the keys and values**. \n",
    "\n",
    "Let's take a look at an example dictionary:"
   ]
  },
  {
   "cell_type": "code",
   "execution_count": null,
   "metadata": {},
   "outputs": [],
   "source": [
    "# An example dictionary\n",
    "sg_info = {\n",
    "    'country': 'Singapore',\n",
    "    'year': 2025,\n",
    "    'population': 5870750}"
   ]
  },
  {
   "cell_type": "code",
   "execution_count": null,
   "metadata": {},
   "outputs": [],
   "source": [
    "sg_info['year']"
   ]
  },
  {
   "cell_type": "code",
   "execution_count": null,
   "metadata": {},
   "outputs": [],
   "source": [
    "print(f\"The country is {sg_info['country']} and the population is {sg_info['population']} at the year {sg_info['year']}.\") # This is an example of string interpolation"
   ]
  },
  {
   "cell_type": "markdown",
   "metadata": {},
   "source": [
    "#### <a id='toc1_3_3_1_'></a>[Create Dictionary from Lists](#toc0_)"
   ]
  },
  {
   "cell_type": "code",
   "execution_count": null,
   "metadata": {},
   "outputs": [],
   "source": [
    "population = [434000, 16250000, 273523621, 7123205, 32365999, 54339766, 108116615, 5870750, 69950807, 104256076]"
   ]
  },
  {
   "cell_type": "markdown",
   "metadata": {},
   "source": [
    "`zip()` is used to **combine multiple iterables** (such as lists, tuples, etc.) into **a single iterable of tuples**. \n",
    "\n",
    "Each tuple contains elements from the input iterables that are at the same position.\n",
    "\n",
    "*Note*: For iterable and interator in Python, you can read [analyticsvidhya: Iterables and Iterators](https://www.analyticsvidhya.com/blog/2021/07/everything-you-should-know-about-iterables-and-iterators-in-python-as-a-data-scientist/)."
   ]
  },
  {
   "cell_type": "code",
   "execution_count": null,
   "metadata": {},
   "outputs": [],
   "source": [
    "zipped = zip(asean_country_list, population)\n",
    "print(zipped)"
   ]
  },
  {
   "cell_type": "markdown",
   "metadata": {},
   "source": [
    "You cannot directly print a zip object. Because it does not directly saved in the momory.\n",
    "\n",
    "What you can do it is converting it to a collection like `list`, then you can print it properly."
   ]
  },
  {
   "cell_type": "code",
   "execution_count": null,
   "metadata": {},
   "outputs": [],
   "source": [
    "print(list(zipped))"
   ]
  },
  {
   "cell_type": "markdown",
   "metadata": {},
   "source": [
    "zip object is not saved in memory. \n",
    "\n",
    "Once you iterate over it, the items are consumed and cannot be re-iterated unless you create a new zip object."
   ]
  },
  {
   "cell_type": "code",
   "execution_count": null,
   "metadata": {},
   "outputs": [],
   "source": [
    "print(list(zipped))"
   ]
  },
  {
   "cell_type": "markdown",
   "metadata": {},
   "source": [
    "Other common on-the-fly functions are:\n",
    "\n",
    "1. `range()`: Generates a sequence of numbers.\n",
    "\n",
    "2. `enumerate()`: Adds a counter to an iterable and returns it as an enumerate object.\n",
    "\n",
    "3. `map()`: Applies a function to all items in an input list.\n",
    "\n",
    "4. `filter()`: Filters items out of an iterable based on a function."
   ]
  },
  {
   "cell_type": "code",
   "execution_count": null,
   "metadata": {},
   "outputs": [],
   "source": [
    "# transform dictionary to country:population key-value pair\n",
    "asean_country_info = dict(zip(asean_country_list, population))"
   ]
  },
  {
   "cell_type": "code",
   "execution_count": null,
   "metadata": {},
   "outputs": [],
   "source": [
    "print(asean_country_info)"
   ]
  },
  {
   "cell_type": "markdown",
   "metadata": {},
   "source": [
    "**How to make the printed output more readable?**\n",
    "\n",
    "*Trick*: Pretty print `pprint` will display text data and other data types in a more readable manner."
   ]
  },
  {
   "cell_type": "code",
   "execution_count": null,
   "metadata": {},
   "outputs": [],
   "source": [
    "from pprint import pprint # pretty print"
   ]
  },
  {
   "cell_type": "code",
   "execution_count": null,
   "metadata": {},
   "outputs": [],
   "source": [
    "pprint(asean_country_info)"
   ]
  },
  {
   "cell_type": "code",
   "execution_count": null,
   "metadata": {},
   "outputs": [],
   "source": [
    "asean_country_info['Singapore']"
   ]
  },
  {
   "cell_type": "markdown",
   "metadata": {},
   "source": [
    "`Challenge`: Create a dictionary `SUTD`; it has four keys, and their values are:\n",
    "\n",
    "- number of student : 1000,\n",
    "\n",
    "- number of faculty : 100,\n",
    "\n",
    "- location : Changi,\n",
    "\n",
    "- year established : 2009\n",
    "\n",
    "Using `f-string` to print a string \"SUTD has 1000 students and 100 faculty members. It is located at Changi and was established in 2009.\""
   ]
  },
  {
   "cell_type": "code",
   "execution_count": null,
   "metadata": {},
   "outputs": [],
   "source": [
    "#——————————————————————————————————————————————————————————————————————————————————————————————#\n",
    "\n",
    "\n",
    "#——————————————————————————————————————————————————————————————————————————————————————————————#"
   ]
  },
  {
   "cell_type": "markdown",
   "metadata": {},
   "source": [
    "## <a id='toc1_4_'></a>[Next step](#toc0_)\n",
    "\n",
    "Go to [1-02: DataFrame and GeoDataFrame](./1-02_dataframe_geo.ipynb)"
   ]
  }
 ],
 "metadata": {
  "kernelspec": {
   "display_name": "geospatial",
   "language": "python",
   "name": "python3"
  },
  "language_info": {
   "codemirror_mode": {
    "name": "ipython",
    "version": 3
   },
   "file_extension": ".py",
   "mimetype": "text/x-python",
   "name": "python",
   "nbconvert_exporter": "python",
   "pygments_lexer": "ipython3",
   "version": "3.10.15"
  }
 },
 "nbformat": 4,
 "nbformat_minor": 2
}
