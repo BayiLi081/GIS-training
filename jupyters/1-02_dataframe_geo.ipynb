{
 "cells": [
  {
   "cell_type": "markdown",
   "metadata": {},
   "source": [
    "<div align=\"center\"><img src=\"../images/LKYCIC_Header.jpg\"></div>"
   ]
  },
  {
   "cell_type": "markdown",
   "metadata": {},
   "source": [
    "**Table of contents**<a id='toc0_'></a>    \n",
    "- [1-02: DataFrame and GeoDataFrame](#toc1_)    \n",
    "  - [DataFrame](#toc1_1_)    \n",
    "    - [Dictionary to DataFrame](#toc1_1_1_)    \n",
    "    - [List to DataFrame](#toc1_1_2_)    \n",
    "    - [Read CSV files](#toc1_1_3_)    \n",
    "  - [Method Call / Function / Attribute](#toc1_2_)    \n",
    "      - [Method Call: `object.function()`](#toc1_2_1_1_)    \n",
    "      - [Function: `function(object)`](#toc1_2_1_2_)    \n",
    "      - [Attribute: `object.attribute`](#toc1_2_1_3_)    \n",
    "  - [DataFrame](#toc1_3_)    \n",
    "    - [Select one specific column](#toc1_3_1_)    \n",
    "    - [Select one specific row](#toc1_3_2_)    \n",
    "    - [Modify the contents of DataFrames](#toc1_3_3_)    \n",
    "  - [GeoDataFrame](#toc1_4_)    \n",
    "    - [GeoDataFrame](#toc1_4_1_)    \n",
    "  - [Function enquiry (Example: gpd.points_from_xy):](#toc1_5_)    \n",
    "  - [Next Step](#toc1_6_)    \n",
    "\n",
    "<!-- vscode-jupyter-toc-config\n",
    "\tnumbering=false\n",
    "\tanchor=true\n",
    "\tflat=false\n",
    "\tminLevel=1\n",
    "\tmaxLevel=6\n",
    "\t/vscode-jupyter-toc-config -->\n",
    "<!-- THIS CELL WILL BE REPLACED ON TOC UPDATE. DO NOT WRITE YOUR TEXT IN THIS CELL -->"
   ]
  },
  {
   "cell_type": "markdown",
   "metadata": {},
   "source": [
    "# <a id='toc1_'></a>[1-02: DataFrame and GeoDataFrame](#toc0_)"
   ]
  },
  {
   "cell_type": "markdown",
   "metadata": {},
   "source": [
    "Python offers a robust way to manage **tabular data** through the **Pandas** library, which includes the versatile **DataFrame** structure and a variety of associated functions. \n",
    "\n",
    "For geospatial data, the **GeoDataFrame** (provided by the GeoPandas library) serves as the equivalent, enabling spatial analysis. "
   ]
  },
  {
   "cell_type": "markdown",
   "metadata": {},
   "source": [
    "## <a id='toc1_1_'></a>[DataFrame](#toc0_)"
   ]
  },
  {
   "cell_type": "markdown",
   "metadata": {},
   "source": [
    "In Python, the package similar to `Data Frames` (R) is called Pandas:"
   ]
  },
  {
   "cell_type": "markdown",
   "metadata": {},
   "source": [
    "| R                                                            | Python                                                       |\n",
    "| ------------------------------------------------------------ | ------------------------------------------------------------ |\n",
    "| Data Frames                                                  | Pandas DataFrames                                            |\n",
    "| A data frame is a two-dimensional structure where columns can have different types. | The Pandas `DataFrame` is the equivalent, widely used for tabular data manipulation. |\n",
    "| df <- data.frame(A = c(1, 2, 3), B = c(\"x\", \"y\", \"z\"))       | import pandas as pd<br/>df = pd.DataFrame({\"A\": [1, 2, 3], \"B\": [\"x\", \"y\", \"z\"]}) |\n",
    "\n",
    "Operations like slicing (`df[1:3]`), selecting columns (`df[\"A\"]`), and filtering rows are conceptually similar."
   ]
  },
  {
   "cell_type": "markdown",
   "metadata": {},
   "source": [
    "**Import package**\n",
    "\n",
    "To use a package, you have to **import it**.\n",
    "\n",
    "To import a package, you have to **install it**.\n",
    "\n",
    "As we mentioned in the [environment setting](../0-02_environment.ipynb), using the command `!pip install package_name` directly within a Jupyter cell."
   ]
  },
  {
   "cell_type": "code",
   "execution_count": null,
   "metadata": {},
   "outputs": [],
   "source": [
    "# uncomment the following line to install pandas\n",
    "#!pip install pandas"
   ]
  },
  {
   "cell_type": "markdown",
   "metadata": {},
   "source": [
    "**Syntax of importing a package**\n",
    "\n",
    "Before we can use <u>a package like Pandas</u>, we have to import it into the current session. \n",
    "\n",
    "For many packages, like pandas, we use <u>an alias</u>, or nickname, when importing them. \n",
    "\n",
    "This is just done to save some typing when we refer to the package in the following code.\n",
    "\n",
    "`Task:` Let's import the `pandas` module, and add the alias `pd`."
   ]
  },
  {
   "cell_type": "code",
   "execution_count": null,
   "metadata": {},
   "outputs": [],
   "source": [
    "import pandas as pd"
   ]
  },
  {
   "cell_type": "markdown",
   "metadata": {},
   "source": [
    "### <a id='toc1_1_1_'></a>[Dictionary to DataFrame](#toc0_)"
   ]
  },
  {
   "cell_type": "markdown",
   "metadata": {},
   "source": [
    "| country           | population | area    |\n",
    "|-------------------|------------|---------|\n",
    "| Brunei Darussalam | 434000     | 5765    |\n",
    "| Cambodia          | 16250000   | 181035  |\n",
    "| Indonesia         | 273523621  | 1904569 |\n",
    "| Lao PDR           | 7123205    | 236800  |\n",
    "| Malaysia          | 32365999   | 329847  |\n",
    "| Myanmar           | 54339766   | 676578  |\n",
    "| Philippines       | 108116615  | 300000  |\n",
    "| Singapore         | 5870750    | 710     |\n",
    "| Thailand          | 69950807   | 513120  |\n",
    "| Vietnam           | 104256076  | 331212  |"
   ]
  },
  {
   "cell_type": "markdown",
   "metadata": {},
   "source": [
    "We have learnt how to transform list into dictionary. We can also transform dictionary into dataframe:"
   ]
  },
  {
   "cell_type": "code",
   "execution_count": null,
   "metadata": {},
   "outputs": [],
   "source": [
    "asean_country_list = ['Brunei Darussalam', 'Cambodia', 'Indonesia', 'Lao PDR', 'Malaysia', 'Myanmar', 'Philippines', 'Singapore', 'Thailand', 'Vietnam']\n",
    "\n",
    "population = [434000, 16250000, 273523621, 7123205, 32365999, 54339766, 108116615, 5870750, 69950807, 104256076]\n",
    "\n",
    "area = [5765, 181035, 1904569, 236800, 329847, 676578, 300000, 710, 513120, 331212]"
   ]
  },
  {
   "cell_type": "markdown",
   "metadata": {},
   "source": [
    "If you want to create a DataFrame from multiple lists. Each List represents a column from Excel.\n",
    "\n",
    "The rule is similar: Each column (list) has **same length**."
   ]
  },
  {
   "cell_type": "code",
   "execution_count": null,
   "metadata": {},
   "outputs": [],
   "source": [
    "# transform dictionary to country:population key-value pair\n",
    "asean_country_info = {\n",
    "    'country': asean_country_list,\n",
    "    'population': population,\n",
    "    'area': area\n",
    "}"
   ]
  },
  {
   "cell_type": "code",
   "execution_count": null,
   "metadata": {},
   "outputs": [],
   "source": [
    "type(asean_country_info)"
   ]
  },
  {
   "cell_type": "markdown",
   "metadata": {},
   "source": [
    "`pd.Dataframe.head()` returns the first `n` rows. The default is 5."
   ]
  },
  {
   "cell_type": "code",
   "execution_count": null,
   "metadata": {},
   "outputs": [],
   "source": [
    "asean_country_df = pd.DataFrame(asean_country_info)\n",
    "asean_country_df.head()"
   ]
  },
  {
   "cell_type": "code",
   "execution_count": null,
   "metadata": {},
   "outputs": [],
   "source": [
    "type(asean_country_df)"
   ]
  },
  {
   "cell_type": "markdown",
   "metadata": {},
   "source": [
    "### <a id='toc1_1_2_'></a>[List to DataFrame](#toc0_)"
   ]
  },
  {
   "cell_type": "markdown",
   "metadata": {},
   "source": [
    "You can also directly tranform lists into dataframe using the `zip()` function."
   ]
  },
  {
   "cell_type": "code",
   "execution_count": null,
   "metadata": {},
   "outputs": [],
   "source": [
    "# from pprint import pprint\n",
    "\n",
    "asean_country_df = pd.DataFrame(zip(asean_country_list, population, area), columns=['country', 'population', 'area'])\n",
    "\n",
    "print(asean_country_df.head())"
   ]
  },
  {
   "cell_type": "markdown",
   "metadata": {},
   "source": [
    "### <a id='toc1_1_3_'></a>[Read CSV files](#toc0_)"
   ]
  },
  {
   "cell_type": "markdown",
   "metadata": {},
   "source": [
    "Relative path and absolute path:\n",
    "\n",
    "1. `pwd` The path of current folder\n",
    "\n",
    "2. `../` Go up one folder from where the current file is\n",
    "\n",
    "3. `./` Same folder from where the current file is\n",
    "\n",
    "Relative path allows you can reuse the syntax on other computer. Because it is **the relationship** between your target file and **the current working directory**."
   ]
  },
  {
   "cell_type": "code",
   "execution_count": null,
   "metadata": {},
   "outputs": [],
   "source": [
    "# uncomment to check the path of current working directory\n",
    "#%pwd"
   ]
  },
  {
   "cell_type": "code",
   "execution_count": null,
   "metadata": {},
   "outputs": [],
   "source": [
    "df = pd.read_csv('../data/raw/part_i/mrt_sg_dt.csv')\n",
    "\n",
    "df.head()"
   ]
  },
  {
   "cell_type": "code",
   "execution_count": null,
   "metadata": {},
   "outputs": [],
   "source": [
    "df.tail(3)"
   ]
  },
  {
   "cell_type": "markdown",
   "metadata": {},
   "source": [
    "The above is a example of **method call**."
   ]
  },
  {
   "cell_type": "markdown",
   "metadata": {},
   "source": [
    "## <a id='toc1_2_'></a>[Method Call / Function / Attribute](#toc0_)"
   ]
  },
  {
   "cell_type": "markdown",
   "metadata": {},
   "source": [
    "#### <a id='toc1_2_1_1_'></a>[Method Call: `object.function()`](#toc0_)\n",
    "\n",
    "- **Definition**: A method is a function that is defined within a class and operates on instances of that class.\n",
    "\n",
    "- **Usage**: Called on an instance of the class using the dot notation."
   ]
  },
  {
   "cell_type": "markdown",
   "metadata": {},
   "source": [
    "It calls a function owns by the object.\n",
    "\n",
    "To use an external on the object:\n",
    "\n",
    "#### <a id='toc1_2_1_2_'></a>[Function: `function(object)`](#toc0_)\n",
    "\n",
    "- **Definition**: A function that takes an instance of a class as an argument and operates on it.\n",
    "\n",
    "- **Usage**: Called with the instance passed as an argument.\n"
   ]
  },
  {
   "cell_type": "code",
   "execution_count": null,
   "metadata": {},
   "outputs": [],
   "source": [
    "len(df)"
   ]
  },
  {
   "cell_type": "markdown",
   "metadata": {},
   "source": [
    "#### <a id='toc1_2_1_3_'></a>[Attribute: `object.attribute`](#toc0_)\n",
    "\n",
    "- **Definition**: An attribute is a variable that is bound to an instance of a class.\n",
    "\n",
    "- **Usage**: Accessed directly using the dot notation."
   ]
  },
  {
   "cell_type": "markdown",
   "metadata": {},
   "source": [
    "`.shape` is an attribute of the dataframe."
   ]
  },
  {
   "cell_type": "code",
   "execution_count": null,
   "metadata": {},
   "outputs": [],
   "source": [
    "df.shape"
   ]
  },
  {
   "cell_type": "markdown",
   "metadata": {},
   "source": [
    "similarlly, we can get name of all the columns in the dataframe by using `.columns`"
   ]
  },
  {
   "cell_type": "code",
   "execution_count": null,
   "metadata": {},
   "outputs": [],
   "source": [
    "df.columns"
   ]
  },
  {
   "cell_type": "markdown",
   "metadata": {},
   "source": [
    "- **Method Call (`object.function()`)**: Invokes a method **predefined** within the class, operating on the instance.\n",
    "\n",
    "- **Function (`function(object)`)**: A **standalone** function that takes an instance as an argument and operates on it.\n",
    "\n",
    "- **Attribute (`object.attribute`)**: Accesses **a variable** bound to the instance."
   ]
  },
  {
   "cell_type": "markdown",
   "metadata": {},
   "source": [
    "## <a id='toc1_3_'></a>[DataFrame](#toc0_)\n",
    "\n",
    "### <a id='toc1_3_1_'></a>[Select one specific column](#toc0_)"
   ]
  },
  {
   "cell_type": "code",
   "execution_count": null,
   "metadata": {},
   "outputs": [],
   "source": [
    "df['Name']"
   ]
  },
  {
   "cell_type": "markdown",
   "metadata": {},
   "source": [
    "- `.unique()`: The unique values in the 'Name' column\n",
    "\n",
    "- `.nunique()`: The number of unique values in the 'Name' column"
   ]
  },
  {
   "cell_type": "code",
   "execution_count": null,
   "metadata": {},
   "outputs": [],
   "source": [
    "df['Name'].unique()"
   ]
  },
  {
   "cell_type": "code",
   "execution_count": null,
   "metadata": {},
   "outputs": [],
   "source": [
    "df['Name'].nunique()"
   ]
  },
  {
   "cell_type": "markdown",
   "metadata": {},
   "source": [
    "`Challenge 1:` \n",
    "\n",
    "Is the number returned from `.nunique()` equal to length of the dataframe?"
   ]
  },
  {
   "cell_type": "code",
   "execution_count": null,
   "metadata": {},
   "outputs": [],
   "source": [
    "#——————————————————————————————————————————————————————————————————————————————————————————————#\n",
    "\n",
    "\n",
    "#——————————————————————————————————————————————————————————————————————————————————————————————#"
   ]
  },
  {
   "cell_type": "markdown",
   "metadata": {},
   "source": [
    "If not, what does the difference in number mean?"
   ]
  },
  {
   "cell_type": "markdown",
   "metadata": {},
   "source": [
    "#——————————————————————————————————————————————————————————————————————————————————————————————#\n",
    "\n",
    "\n",
    "#——————————————————————————————————————————————————————————————————————————————————————————————#"
   ]
  },
  {
   "cell_type": "markdown",
   "metadata": {},
   "source": [
    "`Task:` Find the MRT stations which appears more than once and remove it"
   ]
  },
  {
   "cell_type": "markdown",
   "metadata": {},
   "source": [
    "The value_counts() method in pandas returns a Series containing counts of unique values in a DataFrame column. \n",
    "\n",
    "It is often used to get the frequency of each unique value in a column."
   ]
  },
  {
   "cell_type": "markdown",
   "metadata": {},
   "source": [
    "So we can see the MRT station(s) _______ has duplicate entries in the table"
   ]
  },
  {
   "cell_type": "code",
   "execution_count": null,
   "metadata": {},
   "outputs": [],
   "source": [
    "df['Name'].value_counts()"
   ]
  },
  {
   "cell_type": "markdown",
   "metadata": {},
   "source": [
    "Remove the duplicated Bedok Reservoir:"
   ]
  },
  {
   "cell_type": "code",
   "execution_count": null,
   "metadata": {},
   "outputs": [],
   "source": [
    "# Remove the row = Bedok Reservoir\n",
    "df = df.drop(\n",
    "    df[df['Name'] == 'Bedok Reservoir'].index[1:]\n",
    "    )"
   ]
  },
  {
   "cell_type": "code",
   "execution_count": null,
   "metadata": {},
   "outputs": [],
   "source": [
    "df['Name'].value_counts()"
   ]
  },
  {
   "cell_type": "markdown",
   "metadata": {},
   "source": [
    "The `drop_duplicates()` function in pandas dataframe is used to remove duplicate rows. "
   ]
  },
  {
   "cell_type": "code",
   "execution_count": null,
   "metadata": {},
   "outputs": [],
   "source": [
    "df = pd.read_csv('../data/raw/part_i/mrt_sg_dt.csv')"
   ]
  },
  {
   "cell_type": "code",
   "execution_count": null,
   "metadata": {},
   "outputs": [],
   "source": [
    "df['Name'].value_counts()"
   ]
  },
  {
   "cell_type": "code",
   "execution_count": null,
   "metadata": {},
   "outputs": [],
   "source": [
    "df.drop_duplicates(subset='Name', keep='first', inplace=True)"
   ]
  },
  {
   "cell_type": "code",
   "execution_count": null,
   "metadata": {},
   "outputs": [],
   "source": [
    "df['Name'].value_counts()"
   ]
  },
  {
   "cell_type": "markdown",
   "metadata": {},
   "source": [
    "### <a id='toc1_3_2_'></a>[Select one specific row](#toc0_)"
   ]
  },
  {
   "cell_type": "markdown",
   "metadata": {},
   "source": [
    "To select a specific row, what we need is a <u>conditional statement</u>."
   ]
  },
  {
   "cell_type": "code",
   "execution_count": null,
   "metadata": {},
   "outputs": [],
   "source": [
    "df['Name'] == 'Upper Changi'"
   ]
  },
  {
   "cell_type": "code",
   "execution_count": null,
   "metadata": {},
   "outputs": [],
   "source": [
    "(df['Name'] == 'Upper Changi').sum()"
   ]
  },
  {
   "cell_type": "markdown",
   "metadata": {},
   "source": [
    "**Boolean mask**\n",
    "\n",
    "It's a list of **True/False labels** to filter our Data Frame for a certain condition."
   ]
  },
  {
   "cell_type": "code",
   "execution_count": null,
   "metadata": {},
   "outputs": [],
   "source": [
    "df[df['Name'] == 'Upper Changi']"
   ]
  },
  {
   "cell_type": "code",
   "execution_count": null,
   "metadata": {},
   "outputs": [],
   "source": [
    "upper_changi = df[df['Name'] == 'Upper Changi']"
   ]
  },
  {
   "cell_type": "code",
   "execution_count": null,
   "metadata": {},
   "outputs": [],
   "source": [
    "upper_changi"
   ]
  },
  {
   "cell_type": "markdown",
   "metadata": {},
   "source": [
    "Transpose: `transpose()` or `T`\n",
    "\n",
    "This is useful when you want to switch the orientation of your data."
   ]
  },
  {
   "cell_type": "code",
   "execution_count": null,
   "metadata": {},
   "outputs": [],
   "source": [
    "upper_changi.transpose()"
   ]
  },
  {
   "cell_type": "code",
   "execution_count": null,
   "metadata": {},
   "outputs": [],
   "source": [
    "upper_changi.T"
   ]
  },
  {
   "cell_type": "markdown",
   "metadata": {},
   "source": [
    "### <a id='toc1_3_3_'></a>[Modify the contents of DataFrames](#toc0_)"
   ]
  },
  {
   "cell_type": "code",
   "execution_count": null,
   "metadata": {},
   "outputs": [],
   "source": [
    "len(df['Name'])"
   ]
  },
  {
   "cell_type": "code",
   "execution_count": null,
   "metadata": {},
   "outputs": [],
   "source": [
    "type(df['Name'])"
   ]
  },
  {
   "cell_type": "markdown",
   "metadata": {},
   "source": [
    "It is a Pandas series object.\n",
    "\n",
    "The `.str` accessor in pandas is used to apply string functions to each element in a Series that contains string data."
   ]
  },
  {
   "cell_type": "markdown",
   "metadata": {},
   "source": [
    "Then you can apply the string operations in [1-01_data.ipynb](./1-01_data.ipynb)."
   ]
  },
  {
   "cell_type": "code",
   "execution_count": null,
   "metadata": {},
   "outputs": [],
   "source": [
    "df['Name'].str"
   ]
  },
  {
   "cell_type": "code",
   "execution_count": null,
   "metadata": {},
   "outputs": [],
   "source": [
    "df['Name'].str.replace('a', 'e')"
   ]
  },
  {
   "cell_type": "code",
   "execution_count": null,
   "metadata": {},
   "outputs": [],
   "source": [
    "df['Name'].str.split('')"
   ]
  },
  {
   "cell_type": "markdown",
   "metadata": {},
   "source": [
    "Get the names of MRT stations with names longer than 15 characters.\n",
    "\n",
    "`.len()` is a built-in Python function for string that returns the length of string"
   ]
  },
  {
   "cell_type": "code",
   "execution_count": null,
   "metadata": {},
   "outputs": [],
   "source": [
    "df['Name'].str.len()"
   ]
  },
  {
   "cell_type": "code",
   "execution_count": null,
   "metadata": {},
   "outputs": [],
   "source": [
    "df['Name'].str.len() > 15"
   ]
  },
  {
   "cell_type": "code",
   "execution_count": null,
   "metadata": {},
   "outputs": [],
   "source": [
    "df[df['Name'].str.len() > 15]"
   ]
  },
  {
   "cell_type": "markdown",
   "metadata": {},
   "source": [
    "## <a id='toc1_4_'></a>[GeoDataFrame](#toc0_)"
   ]
  },
  {
   "cell_type": "markdown",
   "metadata": {},
   "source": [
    "### <a id='toc1_4_1_'></a>[GeoDataFrame](#toc0_)\n",
    "\n",
    "> A GeoDataFrame object is a pandas.DataFrame that has one or more columns containing geometry.\n",
    "\n",
    "<div align=\"center\">\n",
    "    <img src=\"../images/gpd_structure.webp\">\n",
    "    <br><b>GeoDataFrame Structure</b>\n",
    "    <br>Source: <u>https://geopandas.org/en/stable/docs.html</u>\n",
    "</div>\n",
    "\n",
    "References:\n",
    "\n",
    "1. https://geopandas.org/en/stable/docs/reference/api/geopandas.GeoDataFrame.html#geopandas-geodataframe"
   ]
  },
  {
   "cell_type": "code",
   "execution_count": null,
   "metadata": {},
   "outputs": [],
   "source": [
    "type(df)"
   ]
  },
  {
   "cell_type": "code",
   "execution_count": null,
   "metadata": {},
   "outputs": [],
   "source": [
    "import geopandas as gpd"
   ]
  },
  {
   "cell_type": "code",
   "execution_count": null,
   "metadata": {},
   "outputs": [],
   "source": [
    "gpd.points_from_xy(df.lat, df.lng)"
   ]
  },
  {
   "cell_type": "markdown",
   "metadata": {},
   "source": [
    "## <a id='toc1_5_'></a>[Function enquiry (Example: gpd.points_from_xy):](#toc0_)\n",
    "\n",
    "In addition to ChatGPT, there are two more traditional options to enquiry the function use within the Jupyter Notebook:\n",
    "\n",
    "1. `help()`:\n",
    "    \n",
    "    This calls the **built-in Python** help() function.\n",
    "\n",
    "    It displays the documentation (docstring) for the function.\n",
    "\n",
    "2. `function?`:\n",
    "\n",
    "    This is a feature specific to **IPython and Jupyter notebooks**.\n",
    "    \n",
    "    It displays the documentation (docstring) for the specified function in a more interactive and user-friendly manner. It is used in **Jupyter notebooks**.\n"
   ]
  },
  {
   "cell_type": "code",
   "execution_count": null,
   "metadata": {},
   "outputs": [],
   "source": [
    "help(gpd.points_from_xy)"
   ]
  },
  {
   "cell_type": "code",
   "execution_count": null,
   "metadata": {},
   "outputs": [],
   "source": [
    "gpd.points_from_xy?"
   ]
  },
  {
   "cell_type": "code",
   "execution_count": null,
   "metadata": {},
   "outputs": [],
   "source": [
    "gpd.GeoDataFrame?"
   ]
  },
  {
   "cell_type": "code",
   "execution_count": null,
   "metadata": {},
   "outputs": [],
   "source": [
    "df_gdf = gpd.GeoDataFrame(df, geometry=gpd.points_from_xy(df.lat, df.lng))\n",
    "\n",
    "df_gdf"
   ]
  },
  {
   "cell_type": "code",
   "execution_count": null,
   "metadata": {},
   "outputs": [],
   "source": [
    "type(df_gdf)"
   ]
  },
  {
   "cell_type": "code",
   "execution_count": null,
   "metadata": {},
   "outputs": [],
   "source": [
    "df_gdf.plot()"
   ]
  },
  {
   "cell_type": "markdown",
   "metadata": {},
   "source": [
    "## <a id='toc1_6_'></a>[Next Step](#toc0_)"
   ]
  },
  {
   "cell_type": "markdown",
   "metadata": {},
   "source": [
    "Go to [1-03: Questionnaires and Survey Data Cleaning](./1-03_questionnaires.ipynb)"
   ]
  }
 ],
 "metadata": {
  "kernelspec": {
   "display_name": "geospatial",
   "language": "python",
   "name": "python3"
  },
  "language_info": {
   "codemirror_mode": {
    "name": "ipython",
    "version": 3
   },
   "file_extension": ".py",
   "mimetype": "text/x-python",
   "name": "python",
   "nbconvert_exporter": "python",
   "pygments_lexer": "ipython3",
   "version": "3.12.3"
  }
 },
 "nbformat": 4,
 "nbformat_minor": 2
}
