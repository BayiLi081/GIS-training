{
 "cells": [
  {
   "cell_type": "markdown",
   "metadata": {},
   "source": [
    "<div align=\"center\"><img src=\"../images/LKYCIC_Header.jpg\"></div>"
   ]
  },
  {
   "cell_type": "markdown",
   "metadata": {},
   "source": [
    "# Geospatial Data"
   ]
  },
  {
   "cell_type": "markdown",
   "metadata": {},
   "source": [
    "## Vector"
   ]
  },
  {
   "cell_type": "markdown",
   "metadata": {},
   "source": [
    "### Point, Line and Polygon"
   ]
  },
  {
   "cell_type": "code",
   "execution_count": 2,
   "metadata": {},
   "outputs": [],
   "source": [
    "from shapely.geometry import Point, LineString,Polygon"
   ]
  },
  {
   "cell_type": "code",
   "execution_count": 3,
   "metadata": {},
   "outputs": [
    {
     "data": {
      "image/svg+xml": [
       "<svg xmlns=\"http://www.w3.org/2000/svg\" xmlns:xlink=\"http://www.w3.org/1999/xlink\" width=\"100.0\" height=\"100.0\" viewBox=\"0.0 1.0 2.0 2.0\" preserveAspectRatio=\"xMinYMin meet\"><g transform=\"matrix(1,0,0,-1,0,4.0)\"><circle cx=\"1.0\" cy=\"2.0\" r=\"0.06\" stroke=\"#555555\" stroke-width=\"0.02\" fill=\"#66cc99\" opacity=\"0.6\" /></g></svg>"
      ],
      "text/plain": [
       "<POINT (1 2)>"
      ]
     },
     "execution_count": 3,
     "metadata": {},
     "output_type": "execute_result"
    }
   ],
   "source": [
    "Point(1,2)"
   ]
  },
  {
   "cell_type": "code",
   "execution_count": 6,
   "metadata": {},
   "outputs": [
    {
     "data": {
      "image/svg+xml": [
       "<svg xmlns=\"http://www.w3.org/2000/svg\" xmlns:xlink=\"http://www.w3.org/1999/xlink\" width=\"100.0\" height=\"100.0\" viewBox=\"0.96 0.96 1.08 1.08\" preserveAspectRatio=\"xMinYMin meet\"><g transform=\"matrix(1,0,0,-1,0,3.0)\"><polyline fill=\"none\" stroke=\"#66cc99\" stroke-width=\"0.0216\" points=\"1.0,1.0 2.0,2.0\" opacity=\"0.8\" /></g></svg>"
      ],
      "text/plain": [
       "<LINESTRING (1 1, 2 2)>"
      ]
     },
     "execution_count": 6,
     "metadata": {},
     "output_type": "execute_result"
    }
   ],
   "source": [
    "LineString([(1,1),(2,2)])"
   ]
  },
  {
   "cell_type": "code",
   "execution_count": 7,
   "metadata": {},
   "outputs": [
    {
     "data": {
      "image/svg+xml": [
       "<svg xmlns=\"http://www.w3.org/2000/svg\" xmlns:xlink=\"http://www.w3.org/1999/xlink\" width=\"100.0\" height=\"100.0\" viewBox=\"0.96 0.96 1.08 1.08\" preserveAspectRatio=\"xMinYMin meet\"><g transform=\"matrix(1,0,0,-1,0,3.0)\"><path fill-rule=\"evenodd\" fill=\"#66cc99\" stroke=\"#555555\" stroke-width=\"0.0216\" opacity=\"0.6\" d=\"M 1.0,1.0 L 2.0,2.0 L 2.0,1.0 L 1.0,1.0 z\" /></g></svg>"
      ],
      "text/plain": [
       "<POLYGON ((1 1, 2 2, 2 1, 1 1))>"
      ]
     },
     "execution_count": 7,
     "metadata": {},
     "output_type": "execute_result"
    }
   ],
   "source": [
    "Polygon([(1,1),(2,2),(2,1)])"
   ]
  },
  {
   "cell_type": "code",
   "execution_count": 8,
   "metadata": {},
   "outputs": [
    {
     "data": {
      "image/svg+xml": [
       "<svg xmlns=\"http://www.w3.org/2000/svg\" xmlns:xlink=\"http://www.w3.org/1999/xlink\" width=\"100.0\" height=\"100.0\" viewBox=\"0.96 0.96 1.08 1.08\" preserveAspectRatio=\"xMinYMin meet\"><g transform=\"matrix(1,0,0,-1,0,3.0)\"><path fill-rule=\"evenodd\" fill=\"#66cc99\" stroke=\"#555555\" stroke-width=\"0.0216\" opacity=\"0.6\" d=\"M 1.0,1.0 L 2.0,2.0 L 2.0,1.0 L 1.0,1.0 z\" /></g></svg>"
      ],
      "text/plain": [
       "<POLYGON ((1 1, 2 2, 2 1, 1 1))>"
      ]
     },
     "execution_count": 8,
     "metadata": {},
     "output_type": "execute_result"
    }
   ],
   "source": [
    "Polygon([(1,1),(2,2),(2,1),(1,1)])"
   ]
  },
  {
   "cell_type": "code",
   "execution_count": 9,
   "metadata": {},
   "outputs": [
    {
     "data": {
      "text/html": [
       "<div>\n",
       "<style scoped>\n",
       "    .dataframe tbody tr th:only-of-type {\n",
       "        vertical-align: middle;\n",
       "    }\n",
       "\n",
       "    .dataframe tbody tr th {\n",
       "        vertical-align: top;\n",
       "    }\n",
       "\n",
       "    .dataframe thead th {\n",
       "        text-align: right;\n",
       "    }\n",
       "</style>\n",
       "<table border=\"1\" class=\"dataframe\">\n",
       "  <thead>\n",
       "    <tr style=\"text-align: right;\">\n",
       "      <th></th>\n",
       "      <th>geometry</th>\n",
       "    </tr>\n",
       "  </thead>\n",
       "  <tbody>\n",
       "    <tr>\n",
       "      <th>0</th>\n",
       "      <td>POINT (1 1)</td>\n",
       "    </tr>\n",
       "    <tr>\n",
       "      <th>1</th>\n",
       "      <td>LINESTRING (1 1, 2 2)</td>\n",
       "    </tr>\n",
       "    <tr>\n",
       "      <th>2</th>\n",
       "      <td>POLYGON ((1 1, 2 2, 2 1, 1 1))</td>\n",
       "    </tr>\n",
       "  </tbody>\n",
       "</table>\n",
       "</div>"
      ],
      "text/plain": [
       "                         geometry\n",
       "0                     POINT (1 1)\n",
       "1           LINESTRING (1 1, 2 2)\n",
       "2  POLYGON ((1 1, 2 2, 2 1, 1 1))"
      ]
     },
     "execution_count": 9,
     "metadata": {},
     "output_type": "execute_result"
    }
   ],
   "source": [
    "import geopandas as gpd\n",
    "\n",
    "gdf = gpd.GeoDataFrame(geometry=[Point(1,1),LineString([(1,1),(2,2)]),Polygon([(1,1),(2,2),(2,1)])])\n",
    "\n",
    "gdf"
   ]
  },
  {
   "cell_type": "markdown",
   "metadata": {},
   "source": [
    "### Point Query and Polygon Query"
   ]
  },
  {
   "cell_type": "markdown",
   "metadata": {},
   "source": [
    "## Raster"
   ]
  },
  {
   "cell_type": "markdown",
   "metadata": {},
   "source": [
    "### Mutiband TIFF"
   ]
  },
  {
   "cell_type": "markdown",
   "metadata": {},
   "source": [
    "## Nested Loop (Loop in Loop)"
   ]
  },
  {
   "cell_type": "code",
   "execution_count": 26,
   "metadata": {},
   "outputs": [
    {
     "data": {
      "text/plain": [
       "{'Indonesia': 264,\n",
       " 'Malaysia': 32,\n",
       " 'Philippines': 100,\n",
       " 'Singapore': 5,\n",
       " 'Thailand': 69,\n",
       " 'Brunei': 0.5,\n",
       " 'Vietnam': 96,\n",
       " 'Laos': 7,\n",
       " 'Myanmar': 54,\n",
       " 'Cambodia': 16}"
      ]
     },
     "execution_count": 26,
     "metadata": {},
     "output_type": "execute_result"
    }
   ],
   "source": [
    "list_asean = ['Indonesia', 'Malaysia', 'Philippines', 'Singapore', 'Thailand', 'Brunei', 'Vietnam', 'Laos', 'Myanmar', 'Cambodia']\n",
    "population_asean = [264, 32, 100, 5, 69, 0.5, 96, 7, 54, 16]\n",
    "Dict_asean = dict(zip(list_asean,population_asean))\n",
    "\n",
    "Dict_asean"
   ]
  },
  {
   "cell_type": "code",
   "execution_count": 27,
   "metadata": {},
   "outputs": [
    {
     "data": {
      "text/plain": [
       "{'Indonesia': 264,\n",
       " 'Malaysia': 32,\n",
       " 'Philippines': 100,\n",
       " 'Singapore': 5,\n",
       " 'Thailand': 69,\n",
       " 'Brunei': 0.5,\n",
       " 'Vietnam': 96,\n",
       " 'Laos': 7,\n",
       " 'Myanmar': 54,\n",
       " 'Cambodia': 16}"
      ]
     },
     "execution_count": 27,
     "metadata": {},
     "output_type": "execute_result"
    }
   ],
   "source": [
    "list_north_america = ['United States', 'Canada', 'Mexico']\n",
    "population_north_america = [329, 37, 129]\n",
    "Dict_north_america = dict(zip(list_north_america,population_north_america))\n",
    "\n",
    "Dict_asean"
   ]
  },
  {
   "cell_type": "code",
   "execution_count": 32,
   "metadata": {},
   "outputs": [
    {
     "name": "stdout",
     "output_type": "stream",
     "text": [
      "The difference of population between Indonesia and United States is -65\n",
      "------------------------------------------------------\n",
      "The difference of population between Indonesia and Canada is 227\n",
      "Indonesia has more population than of Canada\n",
      "------------------------------------------------------\n",
      "The difference of population between Indonesia and Mexico is 135\n",
      "Indonesia has more population than of Mexico\n",
      "------------------------------------------------------\n",
      "The difference of population between Malaysia and United States is -297\n",
      "------------------------------------------------------\n",
      "The difference of population between Malaysia and Canada is -5\n",
      "------------------------------------------------------\n",
      "The difference of population between Malaysia and Mexico is -97\n",
      "------------------------------------------------------\n",
      "The difference of population between Philippines and United States is -229\n",
      "------------------------------------------------------\n",
      "The difference of population between Philippines and Canada is 63\n",
      "Philippines has more population than of Canada\n",
      "------------------------------------------------------\n",
      "The difference of population between Philippines and Mexico is -29\n",
      "------------------------------------------------------\n",
      "The difference of population between Singapore and United States is -324\n",
      "------------------------------------------------------\n",
      "The difference of population between Singapore and Canada is -32\n",
      "------------------------------------------------------\n",
      "The difference of population between Singapore and Mexico is -124\n",
      "------------------------------------------------------\n",
      "The difference of population between Thailand and United States is -260\n",
      "------------------------------------------------------\n",
      "The difference of population between Thailand and Canada is 32\n",
      "Thailand has more population than of Canada\n",
      "------------------------------------------------------\n",
      "The difference of population between Thailand and Mexico is -60\n",
      "------------------------------------------------------\n",
      "The difference of population between Brunei and United States is -328.5\n",
      "------------------------------------------------------\n",
      "The difference of population between Brunei and Canada is -36.5\n",
      "------------------------------------------------------\n",
      "The difference of population between Brunei and Mexico is -128.5\n",
      "------------------------------------------------------\n",
      "The difference of population between Vietnam and United States is -233\n",
      "------------------------------------------------------\n",
      "The difference of population between Vietnam and Canada is 59\n",
      "Vietnam has more population than of Canada\n",
      "------------------------------------------------------\n",
      "The difference of population between Vietnam and Mexico is -33\n",
      "------------------------------------------------------\n",
      "The difference of population between Laos and United States is -322\n",
      "------------------------------------------------------\n",
      "The difference of population between Laos and Canada is -30\n",
      "------------------------------------------------------\n",
      "The difference of population between Laos and Mexico is -122\n",
      "------------------------------------------------------\n",
      "The difference of population between Myanmar and United States is -275\n",
      "------------------------------------------------------\n",
      "The difference of population between Myanmar and Canada is 17\n",
      "Myanmar has more population than of Canada\n",
      "------------------------------------------------------\n",
      "The difference of population between Myanmar and Mexico is -75\n",
      "------------------------------------------------------\n",
      "The difference of population between Cambodia and United States is -313\n",
      "------------------------------------------------------\n",
      "The difference of population between Cambodia and Canada is -21\n",
      "------------------------------------------------------\n",
      "The difference of population between Cambodia and Mexico is -113\n",
      "------------------------------------------------------\n"
     ]
    }
   ],
   "source": [
    "for asean in Dict_asean:\n",
    "    for na in Dict_north_america:\n",
    "        print(\"The difference of population between\", asean, \"and\", na, \"is\", Dict_asean[asean] - Dict_north_america[na])\n",
    "        if Dict_asean[asean] > (Dict_north_america[na]):\n",
    "            print(f\"{asean} has more population than of {na}\")\n",
    "\n",
    "        print(\"------------------------------------------------------\")\n",
    "    "
   ]
  },
  {
   "cell_type": "markdown",
   "metadata": {},
   "source": [
    "## <a id='toc1_7_'></a>[Next Section](#toc0_)"
   ]
  },
  {
   "cell_type": "markdown",
   "metadata": {},
   "source": [
    "Go to [3-02: Data Visualization](./3-02_datavis.ipynb)"
   ]
  }
 ],
 "metadata": {
  "kernelspec": {
   "display_name": "geospatial",
   "language": "python",
   "name": "python3"
  },
  "language_info": {
   "codemirror_mode": {
    "name": "ipython",
    "version": 3
   },
   "file_extension": ".py",
   "mimetype": "text/x-python",
   "name": "python",
   "nbconvert_exporter": "python",
   "pygments_lexer": "ipython3",
   "version": "3.12.3"
  }
 },
 "nbformat": 4,
 "nbformat_minor": 2
}
