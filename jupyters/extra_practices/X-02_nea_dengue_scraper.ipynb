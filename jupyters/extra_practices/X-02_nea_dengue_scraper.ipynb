{
 "cells": [
  {
   "cell_type": "markdown",
   "metadata": {},
   "source": [
    "<div align=\"center\"><img src=\"../../images/LKYCIC_Header.jpg\"></div>"
   ]
  },
  {
   "cell_type": "markdown",
   "metadata": {},
   "source": [
    "# Extracting and Processing Dengue Cluster Data from NEA Website\n",
    "\n",
    "## Step 1: Import necessary libraries\n",
    "\n",
    "1. Importing **datetime** to get the current timestamp\n",
    "2. Importing **requests** for sending HTTP requests\n",
    "3. Importing **BeautifulSoup** for parsing HTML content\n",
    "4. Importing **pandas** for data manipulation and saving results"
   ]
  },
  {
   "cell_type": "code",
   "execution_count": null,
   "metadata": {},
   "outputs": [],
   "source": [
    "%pip install requests beautifulsoup4 pandas"
   ]
  },
  {
   "cell_type": "code",
   "execution_count": 1,
   "metadata": {},
   "outputs": [],
   "source": [
    "from datetime import datetime\n",
    "import requests\n",
    "from bs4 import BeautifulSoup\n",
    "import pandas as pd"
   ]
  },
  {
   "cell_type": "code",
   "execution_count": 2,
   "metadata": {},
   "outputs": [
    {
     "name": "stdout",
     "output_type": "stream",
     "text": [
      "Current Timestamp: 2025_0120_1640\n"
     ]
    }
   ],
   "source": [
    "# Step 2: Fetch the current timestamp\n",
    "now = datetime.now()\n",
    "\n",
    "# transform the timestamp into a string\n",
    "now_str = now.strftime(\"%Y_%m%d_%H%M\")\n",
    "print(\"Current Timestamp:\", now_str)"
   ]
  },
  {
   "cell_type": "code",
   "execution_count": 3,
   "metadata": {},
   "outputs": [
    {
     "name": "stdout",
     "output_type": "stream",
     "text": [
      "HTML content successfully fetched!\n",
      "HTML content parsed successfully!\n"
     ]
    }
   ],
   "source": [
    "# Step 3: Define the URL of the webpage to scrape\n",
    "url = \"https://www.nea.gov.sg/dengue-zika/dengue/dengue-clusters\"\n",
    "\n",
    "# Step 4: Send an HTTP GET request to fetch the HTML content\n",
    "response = requests.get(url)\n",
    "\n",
    "# Check if the request was successful\n",
    "response.raise_for_status()  # Raises an exception if an HTTP error occurs\n",
    "\n",
    "# Print a success message\n",
    "print(\"HTML content successfully fetched!\")\n",
    "\n",
    "# Step 5: Parse the HTML content using BeautifulSoup\n",
    "soup = BeautifulSoup(response.text, \"html.parser\")\n",
    "print(\"HTML content parsed successfully!\")"
   ]
  },
  {
   "cell_type": "code",
   "execution_count": 4,
   "metadata": {},
   "outputs": [
    {
     "name": "stdout",
     "output_type": "stream",
     "text": [
      "Extracted Date: 17 Jan 2025\n"
     ]
    },
    {
     "name": "stderr",
     "output_type": "stream",
     "text": [
      "/tmp/ipykernel_53554/355901346.py:3: DeprecationWarning: The 'text' argument to find()-type methods is deprecated. Use 'string' instead.\n",
      "  info_paragraph = soup.find(\"p\", text=lambda t: t and \"accurate as at\" in t)\n"
     ]
    }
   ],
   "source": [
    "# Step 6: Extract the date from the HTML paragraph element\n",
    "# Locate the paragraph containing the date\n",
    "info_paragraph = soup.find(\"p\", text=lambda t: t and \"accurate as at\" in t)\n",
    "\n",
    "# Extract the date using string manipulation if the paragraph exists\n",
    "if info_paragraph:\n",
    "    date_text = info_paragraph.text.strip()\n",
    "    extracted_date = date_text.split(\"accurate as at\")[-1].strip()\n",
    "    print(\"Extracted Date:\", extracted_date)\n",
    "else:\n",
    "    extracted_date = None\n",
    "    print(\"Date information not found.\")\n",
    "\n",
    "extracted_date = extracted_date.replace(\" \", \"_\") # Replace spaces with underscores"
   ]
  },
  {
   "cell_type": "code",
   "execution_count": 5,
   "metadata": {},
   "outputs": [
    {
     "name": "stdout",
     "output_type": "stream",
     "text": [
      "Folder Name: ../data/2025_0120_1640\n"
     ]
    }
   ],
   "source": [
    "# create a folder using the extracted date under the data folder\n",
    "folder_name = f\"../data/{now_str}\"\n",
    "print(\"Folder Name:\", folder_name)\n",
    "\n",
    "import os\n",
    "\n",
    "# Create a new directory to store the data\n",
    "os.makedirs(folder_name, exist_ok=True)"
   ]
  },
  {
   "cell_type": "code",
   "execution_count": 6,
   "metadata": {},
   "outputs": [
    {
     "name": "stdout",
     "output_type": "stream",
     "text": [
      "Subtables processed and saved as 'dengue_clusters_with_subtables.csv'.\n"
     ]
    }
   ],
   "source": [
    "# Step 6: Extract and process subtables (class 'locality-details')\n",
    "rows = []  # List to store extracted rows\n",
    "\n",
    "# Locate all subtables\n",
    "for subtable in soup.find_all(\"table\", class_=\"locality-details\"):\n",
    "    if subtable:\n",
    "        # Extract table headers\n",
    "        headers = [th.text.strip() for th in subtable.find_all(\"th\")]\n",
    "\n",
    "        # Extract each row's data\n",
    "        for row in subtable.find_all(\"tr\"):\n",
    "            cells = [cell.text.strip() for cell in row.find_all(\"td\")]\n",
    "            if cells:  # Skip rows without data\n",
    "                rows.append(cells)\n",
    "\n",
    "        # Remove the processed subtable from the HTML document\n",
    "        subtable.decompose()\n",
    "\n",
    "# Save extracted subtables to a DataFrame\n",
    "if rows:\n",
    "    subtable_df = pd.DataFrame(rows, columns=headers)\n",
    "    subtable_df.to_csv(f\"{folder_name}/dengue_clusters_with_subtables_{extracted_date}.csv\", index=False)\n",
    "    print(\"Subtables processed and saved as 'dengue_clusters_with_subtables.csv'.\")\n",
    "else:\n",
    "    print(\"No subtables found or extracted.\")"
   ]
  },
  {
   "cell_type": "code",
   "execution_count": 7,
   "metadata": {},
   "outputs": [
    {
     "name": "stdout",
     "output_type": "stream",
     "text": [
      "Main table processed successfully and saved as 'dengue_clusters_without_subtables.csv'.\n",
      "Data extraction process completed successfully!\n"
     ]
    }
   ],
   "source": [
    "# Step 7: Extract and process the main table (id 'surveillance-table')\n",
    "main_table = soup.find(\"table\", id=\"surveillance-table\")\n",
    "\n",
    "if main_table:\n",
    "    # Extract headers for the main table\n",
    "    headers = [th.text.strip() for th in main_table.find_all(\"th\")]\n",
    "\n",
    "    # Extract rows of the main table\n",
    "    rows = []\n",
    "    for row in main_table.find_all(\"tr\"):\n",
    "        cells = [cell.text.strip() for cell in row.find_all(\"td\")]\n",
    "        if cells:  # Skip rows without data\n",
    "            rows.append(cells)\n",
    "\n",
    "    # Save the main table data to a DataFrame\n",
    "    main_table_df = pd.DataFrame(rows, columns=headers)\n",
    "    main_table_df.to_csv(f\"{folder_name}/dengue_clusters_without_subtables_{extracted_date}.csv\", index=False)\n",
    "    print(\"Main table processed successfully and saved as 'dengue_clusters_without_subtables.csv'.\")\n",
    "else:\n",
    "    print(\"Main table with id 'surveillance-table' not found on the page.\")\n",
    "\n",
    "# Step 8: Completion message\n",
    "print(\"Data extraction process completed successfully!\")"
   ]
  }
 ],
 "metadata": {
  "kernelspec": {
   "display_name": "geospatial",
   "language": "python",
   "name": "python3"
  },
  "language_info": {
   "codemirror_mode": {
    "name": "ipython",
    "version": 3
   },
   "file_extension": ".py",
   "mimetype": "text/x-python",
   "name": "python",
   "nbconvert_exporter": "python",
   "pygments_lexer": "ipython3",
   "version": "3.12.3"
  }
 },
 "nbformat": 4,
 "nbformat_minor": 2
}
