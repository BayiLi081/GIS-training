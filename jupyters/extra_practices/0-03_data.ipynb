{
 "cells": [
  {
   "cell_type": "markdown",
   "metadata": {},
   "source": [
    "<div align=\"center\"><img src=\"../../images/LKYCIC_Header.jpg\"></div>"
   ]
  },
  {
   "cell_type": "markdown",
   "metadata": {},
   "source": [
    "# Geospatial Data"
   ]
  },
  {
   "cell_type": "markdown",
   "metadata": {},
   "source": [
    "## KML (Keyhole Markup Language)  \n",
    "\n",
    "KML is a file format used to display geographic data in Earth browsers, such as Google Earth. It employs a tag-based structure with nested elements and attributes, following the XML standard.  \n",
    "\n",
    "KML is widely used in tools like [Google: My Maps](https://www.google.com/maps/d/).  \n",
    "\n",
    "For instance, consider a website featuring a Google map with metro station data for Ho Chi Minh City, Vietnam (source: [Ho Chi Minh City Metro 2020 Construction Update](https://futuresoutheastasia.com/ho-chi-minh-city-metro-2020-construction-update/)). If we wish to use the raw data for further analysis, we can export it as a KML file. This format is readable by QGIS and can also be processed in Python using specific libraries, as shown below:  \n",
    "\n",
    "| ![geocoding_002](../../images/kml_GoogleMap.png)                  |\n",
    "| ------------------------------------------------------------ |\n",
    "| Export a Google Map as KML|\n",
    "| ![geocoding_002](../../images/kml_QGIS.png)|\n",
    "| Import KML into QGIS|"
   ]
  },
  {
   "cell_type": "markdown",
   "metadata": {},
   "source": [
    "## Practice: Import KML of HCMC metro and simple process"
   ]
  },
  {
   "cell_type": "code",
   "execution_count": null,
   "metadata": {},
   "outputs": [],
   "source": [
    "#%pip install geopandas fiona\n",
    "import geopandas as gpd\n",
    "import fiona"
   ]
  },
  {
   "cell_type": "code",
   "execution_count": null,
   "metadata": {},
   "outputs": [],
   "source": [
    "# Read a KML file\n",
    "kml_path = \"data/HCMC_Metro.kml\"\n",
    "kml_data = gpd.read_file(kml_path, driver='KML')\n",
    "\n",
    "print(kml_data.head())"
   ]
  },
  {
   "cell_type": "markdown",
   "metadata": {},
   "source": [
    "If there are more complex structure within a geospatial file. It might need extra processes"
   ]
  },
  {
   "cell_type": "code",
   "execution_count": null,
   "metadata": {},
   "outputs": [],
   "source": [
    "# Path to the KML file\n",
    "kml_path = \"data/HCMC_Metro.kml\"\n",
    "\n",
    "# List all layers in the KML file\n",
    "with fiona.Env():\n",
    "    layers = fiona.listlayers(kml_path)\n",
    "\n",
    "print(\"Available layers:\")\n",
    "for layer in layers:\n",
    "    print(f\"- {layer}\")"
   ]
  },
  {
   "cell_type": "code",
   "execution_count": null,
   "metadata": {},
   "outputs": [],
   "source": [
    "#%pip install pandas\n",
    "import pandas as pd"
   ]
  },
  {
   "cell_type": "code",
   "execution_count": null,
   "metadata": {},
   "outputs": [],
   "source": [
    "# Read each layer\n",
    "combined_data = gpd.GeoDataFrame()\n",
    "for layer in layers:\n",
    "    print(f\"\\nReading layer: {layer}\")\n",
    "    data = gpd.read_file(kml_path, driver='KML', layer=layer)\n",
    "    # Add a new column with value of layer name\n",
    "    data['metro'] = layer\n",
    "    combined_data = pd.concat([combined_data, data])\n",
    "    print(data.head())"
   ]
  },
  {
   "cell_type": "code",
   "execution_count": null,
   "metadata": {},
   "outputs": [],
   "source": [
    "combined_data.to_file(\"data/HCMC_Metro_Combined.shp\")"
   ]
  },
  {
   "cell_type": "code",
   "execution_count": null,
   "metadata": {},
   "outputs": [],
   "source": [
    "# plot the data\n",
    "combined_data.plot()"
   ]
  },
  {
   "cell_type": "markdown",
   "metadata": {},
   "source": [
    "For advanced visualisation, we will be conducted in section 3.\n",
    "\n",
    "Python object (GeoDataFrame) could be a useful intermediate for different geospatial formats. For example, transforming a shapefile into KML can be found at [example Jupyter Notebook: SG MRT Shapefile to KML](X-04_shp2kml.ipynb)"
   ]
  },
  {
   "cell_type": "markdown",
   "metadata": {},
   "source": [
    "| <iframe src=\"https://www.google.com/maps/d/embed?mid=1821_umakbckIqqQrcKP2bU-n7vkvGwA&ehbc=2E312F\" width=\"640\" height=\"480\"></iframe> |\n",
    "| ------------------------------------------------------------ |\n",
    "| Can you export the MRT stations in the shared map to geojson? (url: https://www.google.com/maps/d/embed?mid=1821_umakbckIqqQrcKP2bU-n7vkvGwA&ehbc=2E312F)|"
   ]
  }
 ],
 "metadata": {
  "kernelspec": {
   "display_name": "geospatial",
   "language": "python",
   "name": "python3"
  },
  "language_info": {
   "codemirror_mode": {
    "name": "ipython",
    "version": 3
   },
   "file_extension": ".py",
   "mimetype": "text/x-python",
   "name": "python",
   "nbconvert_exporter": "python",
   "pygments_lexer": "ipython3",
   "version": "3.12.3"
  }
 },
 "nbformat": 4,
 "nbformat_minor": 2
}
