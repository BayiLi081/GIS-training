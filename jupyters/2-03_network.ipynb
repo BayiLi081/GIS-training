{
 "cells": [
  {
   "cell_type": "markdown",
   "metadata": {},
   "source": [
    "<div align=\"center\"><img src=\"../images/LKYCIC_Header.jpg\"></div>"
   ]
  },
  {
   "cell_type": "markdown",
   "metadata": {},
   "source": [
    "**Table of contents**<a id='toc0_'></a>    \n",
    "- [2-03: Network Analysis](#toc1_)    \n",
    "  - [Part of a Project](#toc1_1_)    \n",
    "  - [Data](#toc1_2_)    \n",
    "    - [Use OSMnx to get street networks](#toc1_2_1_)    \n",
    "      - [Query/download place boundaries](#toc1_2_1_1_)    \n",
    "      - [Query the data using the boundary](#toc1_2_1_2_)    \n",
    "    - [Export the roadset to GeoJSON](#toc1_2_2_)    \n",
    "    - [Import other dataset](#toc1_2_3_)    \n",
    "  - [Types of Distances](#toc1_3_)    \n",
    "  - [Network Distance Calculation](#toc1_4_)    \n",
    "    - [Preprcossing the Graph of Network](#toc1_4_1_)    \n",
    "    - [Origin-Destination Network Distance](#toc1_4_2_)    \n",
    "  - [Batch Calculation of Network Distance](#toc1_5_)    \n",
    "    - [Calculating for each Hawker Centre](#toc1_5_1_)    \n",
    "  - [Wrap up for second section](#toc1_6_)    \n",
    "  - [Next Section](#toc1_7_)    \n",
    "\n",
    "<!-- vscode-jupyter-toc-config\n",
    "\tnumbering=false\n",
    "\tanchor=true\n",
    "\tflat=false\n",
    "\tminLevel=1\n",
    "\tmaxLevel=6\n",
    "\t/vscode-jupyter-toc-config -->\n",
    "<!-- THIS CELL WILL BE REPLACED ON TOC UPDATE. DO NOT WRITE YOUR TEXT IN THIS CELL -->"
   ]
  },
  {
   "cell_type": "markdown",
   "metadata": {},
   "source": [
    "# <a id='toc1_'></a>[2-03: Network Analysis](#toc0_)"
   ]
  },
  {
   "cell_type": "markdown",
   "metadata": {},
   "source": [
    "Networks can represent geographic, real-world, or social systems. \n",
    "\n",
    "This section will focus on analysing **accessibility** through network analysis. "
   ]
  },
  {
   "cell_type": "markdown",
   "metadata": {},
   "source": [
    "## <a id='toc1_1_'></a>[Part of a Project](#toc0_)\n",
    "\n",
    "This section will be project based. The topic of the project is **Assessing Connectiveness of MRT stations of Hawker Centres in Singapore**."
   ]
  },
  {
   "cell_type": "markdown",
   "metadata": {},
   "source": [
    "## <a id='toc1_2_'></a>[Data](#toc0_)"
   ]
  },
  {
   "cell_type": "markdown",
   "metadata": {},
   "source": [
    "1. Hawker Centre Data:\n",
    "\n",
    "   - Source: NEA\n",
    "\n",
    "   - Attributes needed:\n",
    "\n",
    "     - Geometry\n",
    "\n",
    "     - Number of stalls\n",
    "\n",
    "2. MRT Data:\n",
    "\n",
    "   - Source: OpenDataSG\n",
    "\n",
    "   - Attributes needed:\n",
    "      \n",
    "      - Geometry"
   ]
  },
  {
   "cell_type": "markdown",
   "metadata": {},
   "source": [
    "3. **Road Network Data**:\n",
    "\n",
    "   - Source: OpenStreetMap; We will download it by using **[OSMnx](https://osmnx.readthedocs.io/en/stable/)**\n",
    "\n",
    "   - Attributes needed:\n",
    "      \n",
    "      - Geometry"
   ]
  },
  {
   "cell_type": "markdown",
   "metadata": {},
   "source": [
    "### <a id='toc1_2_1_'></a>[Use OSMnx to get street networks](#toc0_)"
   ]
  },
  {
   "cell_type": "code",
   "execution_count": null,
   "metadata": {},
   "outputs": [],
   "source": [
    "# Uncomment the following line to install osmnx\n",
    "#!pip install osmnx"
   ]
  },
  {
   "cell_type": "code",
   "execution_count": 1,
   "metadata": {},
   "outputs": [
    {
     "data": {
      "text/plain": [
       "'2.0.1'"
      ]
     },
     "execution_count": 1,
     "metadata": {},
     "output_type": "execute_result"
    }
   ],
   "source": [
    "import osmnx as ox\n",
    "import networkx as nx\n",
    "\n",
    "ox.__version__"
   ]
  },
  {
   "cell_type": "markdown",
   "metadata": {},
   "source": [
    "#### <a id='toc1_2_1_1_'></a>[Query/download place boundaries](#toc0_)\n",
    "\n",
    "`ox.geocoder.geocode_to_gdf` retrieve the geometry of a place from the Nominatim geocoding API and return it as a GeoDataFrame."
   ]
  },
  {
   "cell_type": "markdown",
   "metadata": {},
   "source": [
    "In this case, we will retrieve the geometry of **Tampines**."
   ]
  },
  {
   "cell_type": "code",
   "execution_count": 2,
   "metadata": {},
   "outputs": [
    {
     "data": {
      "text/plain": [
       "<Axes: >"
      ]
     },
     "execution_count": 2,
     "metadata": {},
     "output_type": "execute_result"
    },
    {
     "data": {
      "image/png": "[encoded data removed]",
      "text/plain": [
       "<Figure size 640x480 with 1 Axes>"
      ]
     },
     "metadata": {},
     "output_type": "display_data"
    }
   ],
   "source": [
    "# neighborhoods or boroughs\n",
    "tampines_gdf = ox.geocoder.geocode_to_gdf(\"Tampines, Singapore\")\n",
    "\n",
    "tampines_gdf.plot(fc=\"gray\", ec=\"w\")"
   ]
  },
  {
   "cell_type": "code",
   "execution_count": 3,
   "metadata": {},
   "outputs": [
    {
     "data": {
      "text/plain": [
       "<Geographic 2D CRS: EPSG:4326>\n",
       "Name: WGS 84\n",
       "Axis Info [ellipsoidal]:\n",
       "- Lat[north]: Geodetic latitude (degree)\n",
       "- Lon[east]: Geodetic longitude (degree)\n",
       "Area of Use:\n",
       "- name: World.\n",
       "- bounds: (-180.0, -90.0, 180.0, 90.0)\n",
       "Datum: World Geodetic System 1984 ensemble\n",
       "- Ellipsoid: WGS 84\n",
       "- Prime Meridian: Greenwich"
      ]
     },
     "execution_count": 3,
     "metadata": {},
     "output_type": "execute_result"
    }
   ],
   "source": [
    "tampines_gdf.crs"
   ]
  },
  {
   "cell_type": "markdown",
   "metadata": {},
   "source": [
    "`ox.utils_geo.buffer_geometry` will buffer an unprojected Shapely geometry by some distance in meters."
   ]
  },
  {
   "cell_type": "code",
   "execution_count": null,
   "metadata": {},
   "outputs": [],
   "source": [
    "tampines_buffer = ox.utils_geo.buffer_geometry(tampines_gdf.iloc[0][\"geometry\"], 500)"
   ]
  },
  {
   "cell_type": "code",
   "execution_count": null,
   "metadata": {},
   "outputs": [],
   "source": [
    "tampines_buffer.plot(fc=\"gray\", ec=\"w\")"
   ]
  },
  {
   "cell_type": "markdown",
   "metadata": {},
   "source": [
    "The error messege says \"AttributeError: 'Polygon' object has no attribute 'plot'\""
   ]
  },
  {
   "cell_type": "code",
   "execution_count": null,
   "metadata": {},
   "outputs": [],
   "source": [
    "type(tampines_buffer)"
   ]
  },
  {
   "cell_type": "markdown",
   "metadata": {},
   "source": [
    "Only `GeoDataFrame` has `.plot()` function. For a Polygon object, you need to use the Matplotlib library to plot it. "
   ]
  },
  {
   "cell_type": "code",
   "execution_count": null,
   "metadata": {},
   "outputs": [],
   "source": [
    "tampines_buffer"
   ]
  },
  {
   "cell_type": "markdown",
   "metadata": {},
   "source": [
    "You can also use the `matplotlib.pyplot` module to create a plot by extracting the coordinates of the Polygon."
   ]
  },
  {
   "cell_type": "code",
   "execution_count": null,
   "metadata": {},
   "outputs": [],
   "source": [
    "from matplotlib import pyplot as plt\n",
    "\n",
    "x, y = tampines_buffer.exterior.xy\n",
    "\n",
    "plt.plot(x, y, color=\"red\")\n",
    "\n",
    "# Equivalent syntax: plt.plot(*tampines_buffer.exterior.xy, color=\"red\")\n",
    "# The * operator unpacks the tuple returned by tampines_buffer.exterior.xy"
   ]
  },
  {
   "cell_type": "markdown",
   "metadata": {},
   "source": [
    "#### <a id='toc1_2_1_2_'></a>[Query the data using the boundary](#toc0_)"
   ]
  },
  {
   "cell_type": "markdown",
   "metadata": {},
   "source": [
    "The `graph_from_polygon` function downloads and creates a graph within the boundaries of a (Multi)Polygon."
   ]
  },
  {
   "cell_type": "code",
   "execution_count": null,
   "metadata": {},
   "outputs": [],
   "source": [
    "G = ox.graph.graph_from_polygon(tampines_buffer, network_type=\"walk\", simplify=False, retain_all=True)\n",
    "# retain_all=True means we'll keep all the disconnected graph components\n",
    "# simplify=False means we won't simplify the graph topology"
   ]
  },
  {
   "cell_type": "code",
   "execution_count": null,
   "metadata": {},
   "outputs": [],
   "source": [
    "# We can use the plot_graph function provided by OSMnx to plot the graph\n",
    "fig, ax = ox.plot.plot_graph(G, node_size=5, edge_color=\"yellow\", edge_linewidth=0.25)"
   ]
  },
  {
   "cell_type": "markdown",
   "metadata": {},
   "source": [
    "In addition to a polygon of the desired street network's boundaries (The Tampines, Singapore buffered polygon)\n",
    "\n",
    "You can download a street network by providing OSMnx any of the following:\n",
    "\n",
    "- a bounding box\n",
    "\n",
    "- a lat-long point plus a distance\n",
    "\n",
    "- an address plus a distance\n",
    "\n",
    "- a place name or list of place names"
   ]
  },
  {
   "cell_type": "markdown",
   "metadata": {},
   "source": [
    "### <a id='toc1_2_2_'></a>[Export the roadset to GeoJSON](#toc0_)"
   ]
  },
  {
   "cell_type": "markdown",
   "metadata": {},
   "source": [
    "Firstly, we need to use `ox.convert.graph_to_gdfs` to transform it (NetworkX graph object) to GeoDataFrame."
   ]
  },
  {
   "cell_type": "code",
   "execution_count": null,
   "metadata": {},
   "outputs": [],
   "source": [
    "tampines_road = ox.convert.graph_to_gdfs(G, nodes=True, edges=True, node_geometry=True, fill_edge_geometry=True)"
   ]
  },
  {
   "cell_type": "code",
   "execution_count": null,
   "metadata": {},
   "outputs": [],
   "source": [
    "print(type(tampines_road))\n",
    "print(len(tampines_road))"
   ]
  },
  {
   "cell_type": "code",
   "execution_count": null,
   "metadata": {},
   "outputs": [],
   "source": [
    "tampines_road[0].head() # G.nodes"
   ]
  },
  {
   "cell_type": "code",
   "execution_count": null,
   "metadata": {},
   "outputs": [],
   "source": [
    "tampines_road[1].head() # G.edges"
   ]
  },
  {
   "cell_type": "markdown",
   "metadata": {},
   "source": [
    "We can see that it is a tuple (a variable contains multiple GeoDataFrame):\n",
    "\n",
    "1. The first GeoDataFrame is <u>Point data</u> (Facilities, Infrastructure, etc.)\n",
    "\n",
    "2. The second one is <u>Line data</u> (The Road Network data)\n",
    "\n",
    "> Tuples are used to store multiple items in a single variable."
   ]
  },
  {
   "cell_type": "code",
   "execution_count": null,
   "metadata": {},
   "outputs": [],
   "source": [
    "# export the graph to disk as a shapefile\n",
    "tampines_road[1].to_file(\"../data/tampines_road.geojson\", driver=\"GeoJSON\") # G.edges"
   ]
  },
  {
   "cell_type": "markdown",
   "metadata": {},
   "source": [
    "At this time, we have acquired the road network in Tampines."
   ]
  },
  {
   "cell_type": "markdown",
   "metadata": {},
   "source": [
    "You can customise your data using avaliable tags.\n",
    "\n",
    "For example, for **covered road in Tampines**:\n",
    "\n",
    "we can use the tag `covered`, where the value is set to `true`:\n",
    "\n",
    "`[\"covered\"=\"yes\"]`\n",
    "\n",
    "Reference:\n",
    "\n",
    "https://wiki.openstreetmap.org/wiki/Add_sheltered_walkways_in_Singapore"
   ]
  },
  {
   "cell_type": "markdown",
   "metadata": {},
   "source": [
    "We can define our own fine-tuned network type using OSMnx's `custom_filter` parameter (to get just highways, or railways, canals, etc)："
   ]
  },
  {
   "cell_type": "code",
   "execution_count": null,
   "metadata": {},
   "outputs": [],
   "source": [
    "custom_filter = '[\"covered\"=\"yes\"]' # only keep covered ways\n",
    "G_covered = ox.graph.graph_from_polygon(\n",
    "    tampines_buffer,\n",
    "    custom_filter=custom_filter,\n",
    "    simplify=False,\n",
    "    retain_all=True\n",
    ")\n",
    "\n",
    "# We can use the plot_graph function provided by OSMnx to plot the graph\n",
    "fig, ax = ox.plot.plot_graph(G_covered, node_size=0, edge_color=\"#FFFF5C\", edge_linewidth=0.25) "
   ]
  },
  {
   "cell_type": "markdown",
   "metadata": {},
   "source": [
    "### <a id='toc1_2_3_'></a>[Import other dataset](#toc0_)\n",
    "\n",
    "1. Hawker Centre Data: `../data/raw/project/hc_points_cleaned.geojson`\n",
    "\n",
    "2. MRT Data: `../data/processed/part_ii/mrt_sg/MRT_LRT_Stations.shp`"
   ]
  },
  {
   "cell_type": "markdown",
   "metadata": {},
   "source": [
    "`Challenge 1`: Read the above two files as GeoDataFrame and a quick plot"
   ]
  },
  {
   "cell_type": "code",
   "execution_count": null,
   "metadata": {},
   "outputs": [],
   "source": [
    "import geopandas as gpd"
   ]
  },
  {
   "cell_type": "markdown",
   "metadata": {},
   "source": [
    "Read the data:"
   ]
  },
  {
   "cell_type": "code",
   "execution_count": null,
   "metadata": {},
   "outputs": [],
   "source": [
    "#————————————————————————————————————————————————————————————————————————————————#\n",
    "hc_sg = #———————————————————————————————————————————————————————————#\n",
    "mrt_sg = #———————————————————————————————————————————————————————————#\n",
    "hc_sg.plot()\n",
    "mrt_sg.plot()\n",
    "#————————————————————————————————————————————————————————————————————————————————#"
   ]
  },
  {
   "cell_type": "code",
   "execution_count": null,
   "metadata": {},
   "outputs": [],
   "source": [
    "# use the tampines_buffer to extract\n",
    "hc_tampines = hc_sg[hc_sg.within(tampines_buffer)]\n",
    "\n",
    "hc_tampines.plot()"
   ]
  },
  {
   "cell_type": "code",
   "execution_count": null,
   "metadata": {},
   "outputs": [],
   "source": [
    "# use the tampines_buffer to extract\n",
    "mrt_tampines = mrt_sg[mrt_sg.within(tampines_buffer)]\n",
    "\n",
    "mrt_tampines.plot()"
   ]
  },
  {
   "cell_type": "markdown",
   "metadata": {},
   "source": [
    "`Task`: Calculate the nearest MRT station and Hawker centre from SUTD based on road network distance?\n",
    "\n",
    "## <a id='toc1_3_'></a>[Types of Distances](#toc0_)\n",
    "\n",
    "<div align=\"center\">\n",
    "    <img src=\"../images/different_type_distances.jpg\" width=500px>\n",
    "    <br>Different Type of Distance\n",
    "    <br>Source: 10.1186/1476-072X-7-7\n",
    "</div>"
   ]
  },
  {
   "cell_type": "markdown",
   "metadata": {},
   "source": [
    "## <a id='toc1_4_'></a>[Network Distance Calculation](#toc0_)\n",
    "\n",
    "### <a id='toc1_4_1_'></a>[Preprcossing the Graph of Network](#toc0_)"
   ]
  },
  {
   "cell_type": "code",
   "execution_count": null,
   "metadata": {},
   "outputs": [],
   "source": [
    "# Step 1: Project the graph to UTM\n",
    "G_projected = ox.project_graph(G)\n",
    "\n",
    "projected_crs = G_projected.graph['crs']\n",
    "\n",
    "projected_crs"
   ]
  },
  {
   "cell_type": "code",
   "execution_count": null,
   "metadata": {},
   "outputs": [],
   "source": [
    "# Remove all the nodes because the original nodes is the facilities in Singapore\n",
    "# the current nodes will be the edge nodes and intersection nodes of roads\n",
    "G_projected = ox.simplification.simplify_graph(G_projected)"
   ]
  },
  {
   "cell_type": "code",
   "execution_count": null,
   "metadata": {},
   "outputs": [],
   "source": [
    "hc_tampines_projected = hc_tampines.to_crs(projected_crs)\n",
    "\n",
    "mrt_tampines_projected = mrt_tampines.to_crs(projected_crs)"
   ]
  },
  {
   "cell_type": "markdown",
   "metadata": {},
   "source": [
    "### <a id='toc1_4_2_'></a>[Origin-Destination Network Distance](#toc0_)\n",
    "\n",
    "`Task`: Find the nearest MRT station to SUTD and the route from the SUTD to the MRT station."
   ]
  },
  {
   "cell_type": "code",
   "execution_count": null,
   "metadata": {},
   "outputs": [],
   "source": [
    "# SUTD coordinate is 1.3407454955903624, 103.96232069964708\n",
    "sutd = [103.96232069964708, 1.3407454955903624] # lng and lat pair"
   ]
  },
  {
   "cell_type": "markdown",
   "metadata": {},
   "source": [
    "For a longitude and latitude pair, additional steps are required to project it because it is not a geographic object but simply a list containing two numbers.\n",
    "\n",
    "We can use the following code to convert it to the specified CRS"
   ]
  },
  {
   "cell_type": "code",
   "execution_count": null,
   "metadata": {},
   "outputs": [],
   "source": [
    "from pyproj import Transformer"
   ]
  },
  {
   "cell_type": "code",
   "execution_count": null,
   "metadata": {},
   "outputs": [],
   "source": [
    "# Define transformer from WGS 84 (EPSG 4326) to the projected CRS\n",
    "transformer = Transformer.from_crs(\"EPSG:4326\", projected_crs, always_xy=True)\n",
    "\n",
    "# Transform the coordinates\n",
    "x, y = transformer.transform(sutd[0], sutd[1])  # Note: pyproj uses (lon, lat) order\n",
    "\n",
    "print(f\"Projected coordinates: X={x}, Y={y}\")"
   ]
  },
  {
   "cell_type": "markdown",
   "metadata": {},
   "source": [
    "OSMnx and NetworkX calculate distance based on nodes in the graph.\n",
    "\n",
    "Take the SUTD as origin, we use `ox.distance.nearest_nodes()` to find the nearest node in the map to the origin."
   ]
  },
  {
   "cell_type": "code",
   "execution_count": null,
   "metadata": {},
   "outputs": [],
   "source": [
    "# Step 2: Find the nearest node to the origin point\n",
    "origin_node = ox.distance.nearest_nodes(G_projected, X=x, Y=y)\n",
    "\n",
    "ox.plot_graph_route(G_projected, [origin_node])"
   ]
  },
  {
   "cell_type": "code",
   "execution_count": null,
   "metadata": {},
   "outputs": [],
   "source": [
    "for index, row in mrt_tampines_projected.iterrows():\n",
    "    x, y = row[\"geometry\"].x, row[\"geometry\"].y # lng and lat pair\n",
    "    nearest_node = ox.distance.nearest_nodes(G_projected, X=x, Y=y) # find the nearest node\n",
    "    mrt_tampines_projected.at[index, \"nearest_node\"] = nearest_node # store the nearest node\n",
    "\n",
    "mrt_tampines_projected.head()"
   ]
  },
  {
   "cell_type": "code",
   "execution_count": null,
   "metadata": {},
   "outputs": [],
   "source": [
    "for index, row in mrt_tampines_projected.iterrows():\n",
    "    x, y = row[\"geometry\"].x, row[\"geometry\"].y\n",
    "    nearest_node = ox.distance.nearest_nodes(G_projected, X=x, Y=y)\n",
    "    mrt_tampines_projected.at[index, \"nearest_node\"] = nearest_node\n",
    "     \n",
    "    try:\n",
    "        '''\n",
    "        Find the shortest path length between the origin node and the nearest node\n",
    "        '''\n",
    "        distance = nx.shortest_path_length(\n",
    "            G_projected, source=origin_node, target=nearest_node, weight=\"length\"\n",
    "        )\n",
    "        mrt_tampines_projected.at[index, \"distance\"] = distance # store the distance\n",
    "    except nx.NetworkXNoPath:\n",
    "        '''\n",
    "        If there is no path between the origin node and the nearest node\n",
    "        '''\n",
    "        mrt_tampines_projected.at[index, \"distance\"] = None\n",
    "\n",
    "mrt_tampines_projected.head()"
   ]
  },
  {
   "cell_type": "markdown",
   "metadata": {},
   "source": [
    "Sort the dataframe by distance:"
   ]
  },
  {
   "cell_type": "code",
   "execution_count": null,
   "metadata": {},
   "outputs": [],
   "source": [
    "mrt_tampines_projected.sort_values(\"distance\", ascending=True, inplace= True)\n",
    "\n",
    "mrt_tampines_projected.head()"
   ]
  },
  {
   "cell_type": "markdown",
   "metadata": {},
   "source": [
    "Get the name of the closest MRT station:"
   ]
  },
  {
   "cell_type": "code",
   "execution_count": null,
   "metadata": {},
   "outputs": [],
   "source": [
    "cloest_mrt = mrt_tampines_projected.iloc[0]['Name'] \n",
    "\n",
    "print(f\"The closest MRT station to SUTD is {cloest_mrt}\")"
   ]
  },
  {
   "cell_type": "markdown",
   "metadata": {},
   "source": [
    "Get the index of the nearest node"
   ]
  },
  {
   "cell_type": "code",
   "execution_count": null,
   "metadata": {},
   "outputs": [],
   "source": [
    "cloest_mrt_node = int(mrt_tampines_projected.iloc[0]['nearest_node'])\n",
    "\n",
    "cloest_mrt_node"
   ]
  },
  {
   "cell_type": "markdown",
   "metadata": {},
   "source": [
    "Find the shortest path"
   ]
  },
  {
   "cell_type": "code",
   "execution_count": null,
   "metadata": {},
   "outputs": [],
   "source": [
    "shortest_path = nx.shortest_path(G_projected, origin_node, cloest_mrt_node, weight=\"length\") \n",
    "\n",
    "shortest_path"
   ]
  },
  {
   "cell_type": "code",
   "execution_count": null,
   "metadata": {},
   "outputs": [],
   "source": [
    "ox.plot_graph_route(G_projected, shortest_path)"
   ]
  },
  {
   "cell_type": "markdown",
   "metadata": {},
   "source": [
    "## <a id='toc1_5_'></a>[Batch Calculation of Network Distance](#toc0_)\n",
    "\n",
    "### <a id='toc1_5_1_'></a>[Calculating for each Hawker Centre](#toc0_)"
   ]
  },
  {
   "cell_type": "code",
   "execution_count": null,
   "metadata": {},
   "outputs": [],
   "source": [
    "for index, row in hc_tampines_projected.iterrows():\n",
    "    x, y = row[\"geometry\"].x, row[\"geometry\"].y\n",
    "    nearest_node = ox.distance.nearest_nodes(G_projected, X=x, Y=y)\n",
    "    hc_tampines_projected.at[index, \"nearest_node\"] = nearest_node\n",
    "\n",
    "hc_tampines_projected"
   ]
  },
  {
   "cell_type": "code",
   "execution_count": null,
   "metadata": {},
   "outputs": [],
   "source": [
    "for index1, hc in hc_tampines_projected.iterrows():\n",
    "    node_hc = hc[\"nearest_node\"]\n",
    "    distance = {}\n",
    "    for index2, mrt in mrt_tampines_projected.iterrows():\n",
    "        node_mrt = mrt[\"nearest_node\"]\n",
    "        mrt_name = mrt[\"Name\"]\n",
    "        dist = nx.shortest_path_length(G_projected, source=node_hc, target=node_mrt, weight=\"length\")\n",
    "        distance[mrt_name] = dist\n",
    "    nearest_mrt = min(distance, key=distance.get)\n",
    "    nearest_mrt_dist = distance[nearest_mrt]\n",
    "\n",
    "    hc_tampines_projected.at[index1, \"nearest_mrt\"] = nearest_mrt\n",
    "    hc_tampines_projected.at[index1, \"nearest_mrt_dist\"] = nearest_mrt_dist"
   ]
  },
  {
   "cell_type": "code",
   "execution_count": null,
   "metadata": {},
   "outputs": [],
   "source": [
    "hc_tampines_projected"
   ]
  },
  {
   "cell_type": "markdown",
   "metadata": {},
   "source": [
    "## <a id='toc1_6_'></a>[Wrap up for second section](#toc0_)"
   ]
  },
  {
   "cell_type": "markdown",
   "metadata": {},
   "source": [
    "We learned about the three most common types of geospatial data: **vector, raster, and network**, and how to process them in Python.\n",
    "\n",
    "Each type of data has a prominent package commonly used for processing:\n",
    "\n",
    "- For vector data, it is **GeoPandas**.  \n",
    "- For raster data, it is **Rasterio**.  \n",
    "- For network data, it is **NetworkX**.  \n",
    "\n",
    "When using these packages in your data processing workflows, you may encounter situations where their built-in functions do not fully meet your needs. In such cases, make good use of resources like Google, Stack Overflow and AI tools to explore existing solutions or determine if you need to write custom code from scratch.\n",
    "\n",
    "**Note:** \n",
    "\n",
    "When working with different types of data and pursuing various research objectives, there is an abundance of packages available to suit your needs. \n",
    "\n",
    "The selection of the appropriate tools depends on the specific requirements of your analysis and goals.  \n",
    "\n",
    "As we move into the second session, the coding content becomes more intensive. However, there’s no need to memorise every detail or command. \n",
    "\n",
    "In practice, you will always have access to the internet, which serves as an invaluable resource for exploring documentation, tutorials, and examples. \n",
    "\n",
    "Focus on understanding the core concepts and workflows—these will empower you to confidently tackle real-world challenges, regardless of the tools or packages involved."
   ]
  },
  {
   "cell_type": "markdown",
   "metadata": {},
   "source": [
    "## <a id='toc1_7_'></a>[Next Section](#toc0_)"
   ]
  },
  {
   "cell_type": "markdown",
   "metadata": {},
   "source": [
    "Please bring one point data type file of your own to the class tomorrow!\n",
    "\n",
    "We will create a static and interactive map based on the data."
   ]
  },
  {
   "cell_type": "markdown",
   "metadata": {},
   "source": [
    "Go to [3-01: Geospatial Data Wrangling](./3-01_datawrangling_geo.ipynb)"
   ]
  }
 ],
 "metadata": {
  "kernelspec": {
   "display_name": "geospatial",
   "language": "python",
   "name": "python3"
  },
  "language_info": {
   "codemirror_mode": {
    "name": "ipython",
    "version": 3
   },
   "file_extension": ".py",
   "mimetype": "text/x-python",
   "name": "python",
   "nbconvert_exporter": "python",
   "pygments_lexer": "ipython3",
   "version": "3.12.3"
  }
 },
 "nbformat": 4,
 "nbformat_minor": 2
}
