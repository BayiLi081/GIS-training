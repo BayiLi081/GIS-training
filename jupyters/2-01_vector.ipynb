{
 "cells": [
  {
   "cell_type": "markdown",
   "metadata": {},
   "source": [
    "<div align=\"center\"><img src=\"../images/LKYCIC_Header.jpg\"></div>"
   ]
  },
  {
   "cell_type": "markdown",
   "metadata": {},
   "source": [
    "**Table of contents**<a id='toc0_'></a>    \n",
    "- [2-01: Vector Data Analysis](#toc1_)    \n",
    "  - [Vector](#toc1_1_)    \n",
    "    - [Point](#toc1_1_1_)    \n",
    "      - [Creating single point](#toc1_1_1_1_)    \n",
    "      - [Creating a point collection](#toc1_1_1_2_)    \n",
    "    - [Read Local Files as GeoDataFrame](#toc1_1_2_)    \n",
    "      - [Read point data from file (ESRI Shapefile)](#toc1_1_2_1_)    \n",
    "  - [Line](#toc1_2_)    \n",
    "    - [Read line data from file (GeoJSON)](#toc1_2_1_)    \n",
    "    - [Create line from point (From MRT station to MRT line)](#toc1_2_2_)    \n",
    "  - [Polygon](#toc1_3_)    \n",
    "    - [Read polygon data from file (ESRI shapefile)](#toc1_3_1_)    \n",
    "  - [Join Extra tabular data to the GeoDataFrame](#toc1_4_)    \n",
    "  - [Spatial Queries](#toc1_5_)    \n",
    "    - [Point Query](#toc1_5_1_)    \n",
    "    - [Polygon Query](#toc1_5_2_)    \n",
    "  - [Next Section](#toc1_6_)    \n",
    "\n",
    "<!-- vscode-jupyter-toc-config\n",
    "\tnumbering=false\n",
    "\tanchor=true\n",
    "\tflat=false\n",
    "\tminLevel=1\n",
    "\tmaxLevel=6\n",
    "\t/vscode-jupyter-toc-config -->\n",
    "<!-- THIS CELL WILL BE REPLACED ON TOC UPDATE. DO NOT WRITE YOUR TEXT IN THIS CELL -->"
   ]
  },
  {
   "cell_type": "markdown",
   "metadata": {},
   "source": [
    "# <a id='toc1_'></a>[2-01: Vector Data Analysis](#toc0_)"
   ]
  },
  {
   "cell_type": "markdown",
   "metadata": {},
   "source": [
    "Learn to read **vector data** from formats like **GeoJSON, Shapefile, and KML**. \n",
    "\n",
    "This section covers basic spatial analysis with **GeoDataFrames**, including **spatial queries, joins**, and **plotting**. \n",
    "\n",
    "You'll also calculate key spatial attributes for **points, lines**, and **polygons**, and explore methods for analysing **point density, intersections**, and **buffers**."
   ]
  },
  {
   "cell_type": "markdown",
   "metadata": {},
   "source": [
    "## <a id='toc1_1_'></a>[Vector](#toc0_)\n",
    "\n",
    "<div align=\"center\">\n",
    "    <img src=\"../images/points-lines-polygons.png\">\n",
    "    <br>Source: https://michaelminn.net/tutorials/python-areas/\n",
    "</div>"
   ]
  },
  {
   "cell_type": "markdown",
   "metadata": {},
   "source": [
    "Step 0: Import the libraries"
   ]
  },
  {
   "cell_type": "code",
   "execution_count": null,
   "metadata": {},
   "outputs": [],
   "source": [
    "%pip install geopandas"
   ]
  },
  {
   "cell_type": "code",
   "execution_count": null,
   "metadata": {},
   "outputs": [],
   "source": [
    "import geopandas as gpd\n",
    "import pandas as pd"
   ]
  },
  {
   "cell_type": "markdown",
   "metadata": {},
   "source": [
    "### <a id='toc1_1_1_'></a>[Point](#toc0_)"
   ]
  },
  {
   "cell_type": "markdown",
   "metadata": {},
   "source": [
    "#### <a id='toc1_1_1_1_'></a>[Creating single point](#toc0_)"
   ]
  },
  {
   "cell_type": "markdown",
   "metadata": {},
   "source": [
    "The `Point` class from the `shapely.geometry` module is used to create point geometries."
   ]
  },
  {
   "cell_type": "code",
   "execution_count": null,
   "metadata": {},
   "outputs": [],
   "source": [
    "from shapely.geometry import Point"
   ]
  },
  {
   "cell_type": "markdown",
   "metadata": {},
   "source": [
    "**Geometry** is the property that defines the geographic location(s) of a GeoDataFrame.\n",
    "\n",
    "For a DataFrame without a geometry column, you can create/specify a geometry column from the existing columns:"
   ]
  },
  {
   "cell_type": "code",
   "execution_count": null,
   "metadata": {},
   "outputs": [],
   "source": [
    "pt = {'col1': ['name1'], 'coordinate': [Point(1, 2)]}\n",
    "pt_gdf = gpd.GeoDataFrame(pt, geometry='coordinate')\n",
    "pt_gdf"
   ]
  },
  {
   "cell_type": "code",
   "execution_count": null,
   "metadata": {},
   "outputs": [],
   "source": [
    "pt_gdf.plot()"
   ]
  },
  {
   "cell_type": "code",
   "execution_count": null,
   "metadata": {},
   "outputs": [],
   "source": [
    "pt = {'col1': ['name1'], 'geometry': [Point(1, 2)]}\n",
    "pt_gdf = gpd.GeoDataFrame(pt)\n",
    "pt_gdf"
   ]
  },
  {
   "cell_type": "markdown",
   "metadata": {},
   "source": [
    "#### <a id='toc1_1_1_2_'></a>[Creating a point collection](#toc0_)"
   ]
  },
  {
   "cell_type": "markdown",
   "metadata": {},
   "source": [
    "Task: Add another point (Point(2, 1)) to the point collection\n",
    "\n",
    "*Because GeoDataFrame is an extended format of DataFrame, we can use same function `pd.concat()` within pandas to append the GeoDataFrame*"
   ]
  },
  {
   "cell_type": "code",
   "execution_count": null,
   "metadata": {},
   "outputs": [],
   "source": [
    "# Add another point (Point(2, 1)) to the point collection pt_gdf\n",
    "pts_gdf = pd.concat([pt_gdf, gpd.GeoDataFrame({'col1': ['name2'], 'geometry': [Point(2, 1)]})])\n",
    "pts_gdf"
   ]
  },
  {
   "cell_type": "markdown",
   "metadata": {},
   "source": [
    "Simply plot the point use the plot function"
   ]
  },
  {
   "cell_type": "code",
   "execution_count": null,
   "metadata": {},
   "outputs": [],
   "source": [
    "pts_gdf.plot()"
   ]
  },
  {
   "cell_type": "markdown",
   "metadata": {},
   "source": [
    "### <a id='toc1_1_2_'></a>[Read Local Files as GeoDataFrame](#toc0_)\n",
    "\n",
    "```python\n",
    "file_path = \"path_to_file/your_geospatial\"\n",
    "file_data = gpd.read_file(file_path)\n",
    "```\n",
    "\n",
    "Refer to [Official Document: Read files](https://geopandas.org/en/stable/docs/reference/api/geopandas.read_file.html)"
   ]
  },
  {
   "cell_type": "markdown",
   "metadata": {},
   "source": [
    "GeoPandas can read most common types of vector data:\n",
    "\n",
    "1. **Shapefile**, developed by **Esri**.\n",
    "\n",
    "2. **GeoJSON**: A lightweight format based on JSON, often used for web mapping and data exchange.\n",
    "\n",
    "3. **KML (Keyhole Markup Language)**: Commonly used with **Google Earth** for visualising geographic data.\n",
    "\n",
    "4. **GPKG (GeoPackage)**: A modern, open standard format that supports both vector and raster data."
   ]
  },
  {
   "cell_type": "markdown",
   "metadata": {},
   "source": [
    "#### <a id='toc1_1_2_1_'></a>[Read point data from file (ESRI Shapefile)](#toc0_)"
   ]
  },
  {
   "cell_type": "markdown",
   "metadata": {},
   "source": [
    "We are reading the file of metro stations in Singapore:"
   ]
  },
  {
   "cell_type": "code",
   "execution_count": null,
   "metadata": {},
   "outputs": [],
   "source": [
    "data_path = '../data/raw/part_ii/'\n",
    "data_name = 'mrt_sg/MRT_LRT_Stations.shp'\n",
    "full_path = data_path + data_name\n",
    "full_path"
   ]
  },
  {
   "cell_type": "code",
   "execution_count": null,
   "metadata": {},
   "outputs": [],
   "source": [
    "metro_sg = gpd.read_file(full_path)"
   ]
  },
  {
   "cell_type": "code",
   "execution_count": null,
   "metadata": {},
   "outputs": [],
   "source": [
    "type(metro_sg)"
   ]
  },
  {
   "cell_type": "code",
   "execution_count": null,
   "metadata": {},
   "outputs": [],
   "source": [
    "metro_sg.head()"
   ]
  },
  {
   "cell_type": "code",
   "execution_count": null,
   "metadata": {},
   "outputs": [],
   "source": [
    "metro_sg.plot()"
   ]
  },
  {
   "cell_type": "markdown",
   "metadata": {},
   "source": [
    "## <a id='toc1_2_'></a>[Line](#toc0_)"
   ]
  },
  {
   "cell_type": "code",
   "execution_count": null,
   "metadata": {},
   "outputs": [],
   "source": [
    "from shapely.geometry import LineString"
   ]
  },
  {
   "cell_type": "markdown",
   "metadata": {},
   "source": [
    "You can see a line as a series of points."
   ]
  },
  {
   "cell_type": "markdown",
   "metadata": {},
   "source": [
    "Create a line from coordinates of two points"
   ]
  },
  {
   "cell_type": "code",
   "execution_count": null,
   "metadata": {},
   "outputs": [],
   "source": [
    "line = {'col1': ['name1'], 'geometry': [LineString([(1, 2), (2, 1)])]}\n",
    "\n",
    "line_gdf = gpd.GeoDataFrame(line)\n",
    "\n",
    "line_gdf"
   ]
  },
  {
   "cell_type": "code",
   "execution_count": null,
   "metadata": {},
   "outputs": [],
   "source": [
    "line_gdf.plot()"
   ]
  },
  {
   "cell_type": "markdown",
   "metadata": {},
   "source": [
    "### <a id='toc1_2_1_'></a>[Read line data from file (GeoJSON)](#toc0_)"
   ]
  },
  {
   "cell_type": "markdown",
   "metadata": {},
   "source": [
    "We will import cycling path network of Singapore.\n",
    "\n",
    "Data source: https://data.gov.sg/collections/359/view"
   ]
  },
  {
   "cell_type": "code",
   "execution_count": null,
   "metadata": {},
   "outputs": [],
   "source": [
    "data_name = 'cycling_path_network.geojson'\n",
    "full_path = data_path + data_name\n",
    "full_path"
   ]
  },
  {
   "cell_type": "code",
   "execution_count": null,
   "metadata": {},
   "outputs": [],
   "source": [
    "cycle_sg = gpd.read_file(full_path)"
   ]
  },
  {
   "cell_type": "code",
   "execution_count": null,
   "metadata": {},
   "outputs": [],
   "source": [
    "type(cycle_sg)"
   ]
  },
  {
   "cell_type": "code",
   "execution_count": null,
   "metadata": {},
   "outputs": [],
   "source": [
    "cycle_sg.plot()"
   ]
  },
  {
   "cell_type": "markdown",
   "metadata": {},
   "source": [
    "For line shape, there are more possible attributes to explore. For example, length of each cycling path:"
   ]
  },
  {
   "cell_type": "code",
   "execution_count": null,
   "metadata": {},
   "outputs": [],
   "source": [
    "# calculate the length of each line in the cycle_sg GeoDataFrame\n",
    "cycle_sg['length'] = cycle_sg.length"
   ]
  },
  {
   "cell_type": "code",
   "execution_count": null,
   "metadata": {},
   "outputs": [],
   "source": [
    "cycle_sg.head()"
   ]
  },
  {
   "cell_type": "markdown",
   "metadata": {},
   "source": [
    "There is **a warning** that the data is in geographic coordinate reference system. \n",
    "\n",
    "The calcuation of length will be in unit of degree and potentially biased. \n",
    "\n",
    "Therefore, we need to reproject it to projected reference system."
   ]
  },
  {
   "cell_type": "markdown",
   "metadata": {},
   "source": [
    "**Geographic and Projected** Coordinate Referece Systerm (CRS)\n",
    "\n",
    "It is important that you are working with **the correct CRS**.\n",
    "\n",
    "<div align=\"center\">\n",
    "    <img src=\"../images/gcs_pcs.png\">\n",
    "    <br>Source: https://www.esri.com/arcgis-blog/products/arcgis-pro/mapping/gcs_vs_pcs/\n",
    "</div>\n",
    "\n",
    "Anyway, with **projected CRS**, we can express the location in the **unit: metres**.\n",
    "\n",
    "*Note:* You can go to this website: [Interactive Album of Map Projections 2.0 (psu.edu)](https://projections.mgis.psu.edu/), check the difference of projected CRSs. Different CRS may introduce bias. For example, you can go to [How big the world actually is: The true size](https://www.thetruesize.com/) to check the distortion it gives to real size."
   ]
  },
  {
   "cell_type": "markdown",
   "metadata": {},
   "source": [
    "EPSG is the unique ID linked to a specific coordinate reference system.\n",
    "\n",
    "The common coordinate systems and their EPSG codes\n",
    "\n",
    "- EPSG: 4326\n",
    "- EPSG: 3857\n",
    "- EPSG: 7789\n",
    "\n",
    "Recommended EPSG codes for Singapore:\n",
    "\n",
    "[Coordinate reference systems for \"Singapore\" (epsg.io)](https://epsg.io/?q=Singapore)"
   ]
  },
  {
   "cell_type": "code",
   "execution_count": null,
   "metadata": {},
   "outputs": [],
   "source": [
    "# reproject the cycle_sg GeoDataFrame to EPSG:3414\n",
    "cycle_sg = cycle_sg.to_crs(\"EPSG:3414\")"
   ]
  },
  {
   "cell_type": "code",
   "execution_count": null,
   "metadata": {},
   "outputs": [],
   "source": [
    "# calculate the length of each line in the cycle_sg GeoDataFrame\n",
    "cycle_sg['length'] = cycle_sg.length\n",
    "cycle_sg.head()"
   ]
  },
  {
   "cell_type": "code",
   "execution_count": null,
   "metadata": {},
   "outputs": [],
   "source": [
    "# colour the cycle_sg GeoDataFrame by the length of each line\n",
    "cycle_sg.plot(column='length', legend=True)"
   ]
  },
  {
   "cell_type": "markdown",
   "metadata": {},
   "source": [
    "### <a id='toc1_2_2_'></a>[Create line from point (From MRT station to MRT line)](#toc0_)"
   ]
  },
  {
   "cell_type": "code",
   "execution_count": null,
   "metadata": {},
   "outputs": [],
   "source": [
    "metro_sg = gpd.read_file(data_path + 'mrt_sg/MRT_LRT_Stations_seqed.shp')\n",
    "\n",
    "metro_sg.plot()\n",
    "metro_sg.head()"
   ]
  },
  {
   "cell_type": "code",
   "execution_count": null,
   "metadata": {},
   "outputs": [],
   "source": [
    "# Convert 'mrt_sequence' to numeric values to ensure proper sorting\n",
    "metro_sg['mrt_sequen'] = pd.to_numeric(metro_sg['mrt_sequen'], errors='coerce')\n",
    "\n",
    "metro_sg = metro_sg.sort_values(['mrt_line', 'mrt_sequen'])\n",
    "\n",
    "metro_sg"
   ]
  },
  {
   "cell_type": "code",
   "execution_count": null,
   "metadata": {},
   "outputs": [],
   "source": [
    "#import LineString from shapely.geometry\n",
    "from shapely.geometry import LineString"
   ]
  },
  {
   "cell_type": "code",
   "execution_count": null,
   "metadata": {},
   "outputs": [],
   "source": [
    "# Group by MRT line\n",
    "pd.DataFrame(metro_sg.groupby('mrt_line'))"
   ]
  },
  {
   "cell_type": "code",
   "execution_count": null,
   "metadata": {},
   "outputs": [],
   "source": [
    "for mrt_line, group in metro_sg.groupby('mrt_line'):\n",
    "    # Sort points by sequence\n",
    "    group_sorted = group.sort_values(by='mrt_sequen')\n",
    "\n",
    "    list_of_points = group_sorted.geometry.tolist()\n",
    "\n",
    "    print(\"Metro stations of Each Line:\", list_of_points)"
   ]
  },
  {
   "cell_type": "code",
   "execution_count": null,
   "metadata": {},
   "outputs": [],
   "source": [
    "for mrt_line, group in metro_sg.groupby('mrt_line'):\n",
    "    # Sort points by sequence\n",
    "    group_sorted = group.sort_values(by='mrt_sequen')\n",
    "\n",
    "    list_of_points = group_sorted.geometry.tolist()\n",
    "\n",
    "    line = LineString(list_of_points)\n",
    "\n",
    "    print(\"Line:\", line)"
   ]
  },
  {
   "cell_type": "code",
   "execution_count": null,
   "metadata": {},
   "outputs": [],
   "source": [
    "from pprint import pprint\n",
    "\n",
    "lines = []\n",
    "\n",
    "for mrt_line, group in metro_sg.groupby('mrt_line'):\n",
    "    # Sort points by sequence\n",
    "    group_sorted = group.sort_values(by='mrt_sequen')\n",
    "    # Get the list of points\n",
    "    list_of_points = group_sorted.geometry.tolist()\n",
    "\n",
    "    line = LineString(list_of_points) # Create a LineString from the points\n",
    "\n",
    "    lines.append({'mrt_line': mrt_line, 'geometry': line})\n",
    "\n",
    "pprint(lines)"
   ]
  },
  {
   "cell_type": "code",
   "execution_count": null,
   "metadata": {},
   "outputs": [],
   "source": [
    "lines = []\n",
    "\n",
    "for mrt_line, group in metro_sg.groupby('mrt_line'):\n",
    "    \n",
    "    group_sorted = group.sort_values(by='mrt_sequen')\n",
    "\n",
    "    list_of_points = group_sorted.geometry.tolist()\n",
    "\n",
    "    line = LineString(list_of_points)\n",
    "    # Append the LineString with its MRT line\n",
    "    lines.append({'mrt_line': mrt_line, 'geometry': line})\n",
    "\n",
    "metro_lines = gpd.GeoDataFrame(lines, crs = metro_sg.crs)\n",
    "\n",
    "metro_lines"
   ]
  },
  {
   "cell_type": "code",
   "execution_count": null,
   "metadata": {},
   "outputs": [],
   "source": [
    "metro_lines.plot()"
   ]
  },
  {
   "cell_type": "code",
   "execution_count": null,
   "metadata": {},
   "outputs": [],
   "source": [
    "metro_lines.to_file('../data/processed/part_ii/mrt_sg/metro_lines.shp')"
   ]
  },
  {
   "cell_type": "markdown",
   "metadata": {},
   "source": [
    "## <a id='toc1_3_'></a>[Polygon](#toc0_)"
   ]
  },
  {
   "cell_type": "code",
   "execution_count": null,
   "metadata": {},
   "outputs": [],
   "source": [
    "from shapely.geometry import Polygon"
   ]
  },
  {
   "cell_type": "code",
   "execution_count": null,
   "metadata": {},
   "outputs": [],
   "source": [
    "d = {'col1': ['name1'], 'geometry': [Polygon([(1, 2), (2, 1), (2, 2)])]}\n",
    "\n",
    "gdf = gpd.GeoDataFrame(d, crs=\"EPSG:4326\")\n",
    "\n",
    "gdf"
   ]
  },
  {
   "cell_type": "code",
   "execution_count": null,
   "metadata": {},
   "outputs": [],
   "source": [
    "gdf.plot()"
   ]
  },
  {
   "cell_type": "markdown",
   "metadata": {},
   "source": [
    "### <a id='toc1_3_1_'></a>[Read polygon data from file (ESRI shapefile)](#toc0_)"
   ]
  },
  {
   "cell_type": "code",
   "execution_count": null,
   "metadata": {},
   "outputs": [],
   "source": [
    "data_name = 'planningarea_sg/sg_planning_area_nosea.shp'\n",
    "full_path = data_path + data_name\n",
    "full_path"
   ]
  },
  {
   "cell_type": "code",
   "execution_count": null,
   "metadata": {},
   "outputs": [],
   "source": [
    "planningarea_sg = gpd.read_file(full_path)"
   ]
  },
  {
   "cell_type": "code",
   "execution_count": null,
   "metadata": {},
   "outputs": [],
   "source": [
    "type(planningarea_sg)"
   ]
  },
  {
   "cell_type": "code",
   "execution_count": null,
   "metadata": {},
   "outputs": [],
   "source": [
    "planningarea_sg.head()"
   ]
  },
  {
   "cell_type": "code",
   "execution_count": null,
   "metadata": {},
   "outputs": [],
   "source": [
    "planningarea_sg.plot()"
   ]
  },
  {
   "cell_type": "markdown",
   "metadata": {},
   "source": [
    "`Challenge 1`: Can you colour different planning area by different colour?\n",
    "\n",
    "Hint: We coloured cycling path on length. The syntax is similar."
   ]
  },
  {
   "cell_type": "code",
   "execution_count": null,
   "metadata": {},
   "outputs": [],
   "source": [
    "#————————————————————————————————————————————————#\n",
    "\n",
    "#————————————————————————————————————————————————#"
   ]
  },
  {
   "cell_type": "markdown",
   "metadata": {},
   "source": [
    "## <a id='toc1_4_'></a>[Join Extra tabular data to the GeoDataFrame](#toc0_)"
   ]
  },
  {
   "cell_type": "markdown",
   "metadata": {},
   "source": [
    "`Challenge 2`: Read the CSV file of income by planning area in Singapore\n",
    "\n",
    "The file path is `../data/raw/part_ii/income_sg/income.csv`"
   ]
  },
  {
   "cell_type": "code",
   "execution_count": null,
   "metadata": {},
   "outputs": [],
   "source": [
    "#————————————————————————————————————————————————#\n",
    "\n",
    "#————————————————————————————————————————————————#"
   ]
  },
  {
   "cell_type": "code",
   "execution_count": null,
   "metadata": {},
   "outputs": [],
   "source": [
    "planningarea_sg.head(2)"
   ]
  },
  {
   "cell_type": "markdown",
   "metadata": {},
   "source": [
    "Join the attribute tables based on the **common column**\n",
    "\n",
    "The common field is 'PLN_AREA_N' or 'Name'."
   ]
  },
  {
   "cell_type": "code",
   "execution_count": null,
   "metadata": {},
   "outputs": [],
   "source": [
    "merge = pd.merge(planningarea_sg, income, on='PLN_AREA_N', how='left')\n",
    "\n",
    "merge.head()"
   ]
  },
  {
   "cell_type": "markdown",
   "metadata": {},
   "source": [
    "You can export the GeoDataFrame as ESRI Shapefile for future use:"
   ]
  },
  {
   "cell_type": "code",
   "execution_count": null,
   "metadata": {},
   "outputs": [],
   "source": [
    "# export the merge GeoDataFrame to a shapefile\n",
    "merge.to_file('../data/processed/part_ii/planningarea_income_sg.shp')"
   ]
  },
  {
   "cell_type": "markdown",
   "metadata": {},
   "source": [
    "## <a id='toc1_5_'></a>[Spatial Queries](#toc0_)"
   ]
  },
  {
   "cell_type": "markdown",
   "metadata": {},
   "source": [
    "<div align=\"center\"><img src=\"../images/spatialqueries.jpg\"><br>Source: https://doi.org/10.1080/10095020.2022.2163924</div>"
   ]
  },
  {
   "cell_type": "markdown",
   "metadata": {},
   "source": [
    "### <a id='toc1_5_1_'></a>[Point Query](#toc0_)"
   ]
  },
  {
   "cell_type": "code",
   "execution_count": null,
   "metadata": {},
   "outputs": [],
   "source": [
    "# The coordinates of SUTD is 103.96239544519815, 1.3406916475105508\n",
    "query_pt = Point(103.96239544519815, 1.3406916475105508)\n",
    "\n",
    "\n",
    "# Find the planning area that contains the query point\n",
    "\n",
    "planningarea_sg[planningarea_sg.contains(query_pt)]"
   ]
  },
  {
   "cell_type": "code",
   "execution_count": null,
   "metadata": {},
   "outputs": [],
   "source": [
    "planningarea_tampines = planningarea_sg[planningarea_sg.contains(query_pt)]"
   ]
  },
  {
   "cell_type": "markdown",
   "metadata": {},
   "source": [
    "### <a id='toc1_5_2_'></a>[Polygon Query](#toc0_)"
   ]
  },
  {
   "cell_type": "markdown",
   "metadata": {},
   "source": [
    "`Task`: Find the cycling path that intersects with the Tampines planning area."
   ]
  },
  {
   "cell_type": "code",
   "execution_count": null,
   "metadata": {},
   "outputs": [],
   "source": [
    "print(type(planningarea_tampines.geometry.values[0]))\n",
    "planningarea_tampines.geometry.values[0]"
   ]
  },
  {
   "cell_type": "code",
   "execution_count": null,
   "metadata": {},
   "outputs": [],
   "source": [
    "cycle_sg[cycle_sg.intersects(planningarea_tampines.geometry.values[0])]"
   ]
  },
  {
   "cell_type": "markdown",
   "metadata": {},
   "source": [
    "Why there is nothing intersected between these two files?\n",
    "\n",
    "It is the unmatched CRS!"
   ]
  },
  {
   "cell_type": "code",
   "execution_count": null,
   "metadata": {},
   "outputs": [],
   "source": [
    "cycle_sg.crs == planningarea_tampines.crs"
   ]
  },
  {
   "cell_type": "code",
   "execution_count": null,
   "metadata": {},
   "outputs": [],
   "source": [
    "planningarea_tampines_projected = planningarea_tampines.to_crs(\"EPSG:3414\")"
   ]
  },
  {
   "cell_type": "code",
   "execution_count": null,
   "metadata": {},
   "outputs": [],
   "source": [
    "cycle_sg.crs == planningarea_tampines_projected.crs"
   ]
  },
  {
   "cell_type": "code",
   "execution_count": null,
   "metadata": {},
   "outputs": [],
   "source": [
    "cycle_tampines = cycle_sg[cycle_sg.intersects(planningarea_tampines_projected.geometry.values[0])]"
   ]
  },
  {
   "cell_type": "code",
   "execution_count": null,
   "metadata": {},
   "outputs": [],
   "source": [
    "cycle_tampines.plot()"
   ]
  },
  {
   "cell_type": "markdown",
   "metadata": {},
   "source": [
    "## <a id='toc1_6_'></a>[Next Section](#toc0_)"
   ]
  },
  {
   "cell_type": "markdown",
   "metadata": {},
   "source": [
    "Go to [2-02: Raster Analysis](./2-02_raster.ipynb)"
   ]
  }
 ],
 "metadata": {
  "kernelspec": {
   "display_name": "geospatial",
   "language": "python",
   "name": "python3"
  },
  "language_info": {
   "codemirror_mode": {
    "name": "ipython",
    "version": 3
   },
   "file_extension": ".py",
   "mimetype": "text/x-python",
   "name": "python",
   "nbconvert_exporter": "python",
   "pygments_lexer": "ipython3",
   "version": "3.12.3"
  }
 },
 "nbformat": 4,
 "nbformat_minor": 2
}
