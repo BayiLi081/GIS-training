{
 "cells": [
  {
   "cell_type": "markdown",
   "metadata": {},
   "source": [
    "<div align=\"center\"><img src=\"../images/LKYCIC_Header.jpg\"></div>"
   ]
  },
  {
   "cell_type": "markdown",
   "metadata": {},
   "source": [
    "**Table of contents**<a id='toc0_'></a>    \n",
    "- [2-02: Raster Data Analysis](#toc1_)    \n",
    "  - [Remote Sensing Image Processing](#toc1_1_)    \n",
    "    - [Read GeoTIFF files](#toc1_1_1_)    \n",
    "      - [Multi-band TIFF](#toc1_1_1_1_)    \n",
    "  - [Data](#toc1_2_)    \n",
    "  - [Clip raster from Polygon](#toc1_3_)    \n",
    "  - [Calculation](#toc1_4_)    \n",
    "    - [Plot the raster](#toc1_4_1_)    \n",
    "    - [Filter Values](#toc1_4_2_)    \n",
    "    - [Remote Sensing Analysis and Urban Research](#toc1_4_3_)    \n",
    "  - [Next Section](#toc1_5_)    \n",
    "\n",
    "<!-- vscode-jupyter-toc-config\n",
    "\tnumbering=false\n",
    "\tanchor=true\n",
    "\tflat=false\n",
    "\tminLevel=1\n",
    "\tmaxLevel=6\n",
    "\t/vscode-jupyter-toc-config -->\n",
    "<!-- THIS CELL WILL BE REPLACED ON TOC UPDATE. DO NOT WRITE YOUR TEXT IN THIS CELL -->"
   ]
  },
  {
   "cell_type": "markdown",
   "metadata": {},
   "source": [
    "# <a id='toc1_'></a>[2-02: Raster Data Analysis](#toc0_)"
   ]
  },
  {
   "cell_type": "markdown",
   "metadata": {},
   "source": [
    "Raster data consists of cells of a fixed size and is widely used in **remote sensing**. In this section, we will calculate **Normalized Difference Vegetation Index (NDVI)**, plot it and filter the NDVI index value, showcasing a practical application of raster analysis."
   ]
  },
  {
   "cell_type": "markdown",
   "metadata": {},
   "source": [
    "## <a id='toc1_1_'></a>[Remote Sensing Image Processing](#toc0_)"
   ]
  },
  {
   "cell_type": "markdown",
   "metadata": {},
   "source": [
    "<div align=\"center\">\n",
    "    <img src=\"../images/raster_concept.png\" width=\"50%\">\n",
    "    <br><b>Value of a pixel in a raster</b>\n",
    "    <br><u>Source: National Ecological Observatory Network (NEON)</u>\n",
    "</div>"
   ]
  },
  {
   "cell_type": "markdown",
   "metadata": {},
   "source": [
    "The most common raster data format is the **GeoTIFF**. This format is a standard for georeferencing information and is widely used in the remote sensing community. In this notebook, we will learn how to read and write GeoTIFF files using Python."
   ]
  },
  {
   "cell_type": "markdown",
   "metadata": {},
   "source": [
    "### <a id='toc1_1_1_'></a>[Read GeoTIFF files](#toc0_)"
   ]
  },
  {
   "cell_type": "markdown",
   "metadata": {},
   "source": [
    "#### <a id='toc1_1_1_1_'></a>[Multi-band TIFF](#toc0_)\n",
    "\n",
    "A raster can contain one or more bands. \n",
    "\n",
    "One type of multi-band raster dataset that is familiar to many of us is a coloured image:\n",
    "\n",
    "<div align=\"center\">\n",
    "    <img src=\"../images/RGBSTack_1.jpg\" width=\"50%\">\n",
    "    <br><b>RGB bands (Red, Green, Blue)</b>\n",
    "    <br><u>Source: National Ecological Observatory Network (NEON)</u>\n",
    "</div>"
   ]
  },
  {
   "cell_type": "markdown",
   "metadata": {},
   "source": [
    "## <a id='toc1_2_'></a>[Data](#toc0_)\n",
    "\n",
    "We will be using [landsat 8](https://developers.google.com/earth-engine/datasets/catalog/LANDSAT_LC08_C02_T1) satellite images. Average values from Jan 01, 2024 to Jan 30, 2024 in the area of Ho Chi Minh City.\n",
    "\n",
    "How to download remote sensing data:\n",
    "\n",
    "**1. Landsat (NASA/USGS)**\n",
    "Description:\n",
    "- Long-term satellite imagery with moderate spatial resolution (30 m for most bands).\n",
    "- Available from Landsat 1 to the current Landsat 9.\n",
    "\n",
    "Applications:\n",
    "- Land cover classification, vegetation monitoring, urban studies.\n",
    "\n",
    "How to Download:\n",
    "\n",
    "**Google Earth Engine (GEE)**\n",
    "\n",
    "Cloud-based geospatial analysis platform with access to multiple datasets, including Landsat, Sentinel, MODIS, and more.\n",
    "\n",
    "How to Access:\n",
    "\n",
    "- **[GEE Directly](https://earthengine.google.com/)**:\n",
    "\n",
    "  1. Apply for free access.\n",
    "\n",
    "  2. Write scripts in JavaScript to analyse and export data.\n",
    "\n",
    "- **[GEEMap](https://geemap.org/)**:\n",
    "\n",
    "  1. A Python package that interfaces with GEE. \n",
    "  \n",
    "  2. geemap simplifies the process of accessing and visualising geospatial datasets directly from GEE."
   ]
  },
  {
   "cell_type": "markdown",
   "metadata": {},
   "source": [
    "Rasterio will be used to read the TIFF file.\n",
    "\n",
    "Install the rasterio package:"
   ]
  },
  {
   "cell_type": "code",
   "execution_count": null,
   "metadata": {},
   "outputs": [],
   "source": [
    "# uncomment to install rasterio\n",
    "#!pip install rasterio"
   ]
  },
  {
   "cell_type": "code",
   "execution_count": null,
   "metadata": {},
   "outputs": [],
   "source": [
    "import rasterio"
   ]
  },
  {
   "cell_type": "markdown",
   "metadata": {},
   "source": [
    "Firstly, we can print the meta data:"
   ]
  },
  {
   "cell_type": "code",
   "execution_count": null,
   "metadata": {},
   "outputs": [],
   "source": [
    "# Open the GeoTIFF file\n",
    "with rasterio.open('../data/raw/part_ii/landsat8_hcmc/lansat_hcmc_jan2024.tif') as dataset:\n",
    "    \n",
    "    # Read the dataset's metadata\n",
    "    print(dataset.meta)\n",
    "\n",
    "    # Get the number of bands\n",
    "    num_bands = dataset.count\n",
    "\n",
    "    # Get the ID of the bands\n",
    "    band_names = dataset.indexes\n",
    "\n",
    "    # Get the crs\n",
    "    crs = dataset.crs\n",
    "    epsg = crs.to_epsg()\n",
    "\n",
    "# Print the number of bands\n",
    "print(f'Number of bands: {num_bands}')\n",
    "\n",
    "# Print the band names\n",
    "print(f'Band names: {band_names}')\n",
    "\n",
    "# Print the crs\n",
    "print(f'CRS: {crs}')\n",
    "print(f'EPSG: {epsg}')"
   ]
  },
  {
   "cell_type": "markdown",
   "metadata": {},
   "source": [
    "## <a id='toc1_3_'></a>[Clip raster from Polygon](#toc0_)"
   ]
  },
  {
   "cell_type": "code",
   "execution_count": null,
   "metadata": {},
   "outputs": [],
   "source": [
    "import geopandas as gpd\n",
    "\n",
    "hcmc_boundary = gpd.read_file('../data/raw/part_iii/HCMC_Boundary.geojson')\n",
    "\n",
    "hcmc_boundary.plot()"
   ]
  },
  {
   "cell_type": "code",
   "execution_count": null,
   "metadata": {},
   "outputs": [],
   "source": [
    "# Check the CRS of the boundary equal to the CRS of the raster\n",
    "hcmc_boundary.crs == crs"
   ]
  },
  {
   "cell_type": "code",
   "execution_count": null,
   "metadata": {},
   "outputs": [],
   "source": [
    "# clip the NDVI raster with the boundary of Ho Chi Minh City\n",
    "from rasterio.mask import mask\n",
    "\n",
    "with rasterio.open('../data/raw/part_ii/landsat8_hcmc/lansat_hcmc_jan2024.tif') as src:\n",
    "    lansat_clipped, lansat_transform = mask(src, hcmc_boundary.geometry, crop=True)\n",
    "    lansat_meta = src.meta\n",
    "\n",
    "# Print the shape of the clipped NDVI raster\n",
    "print(lansat_clipped.shape)"
   ]
  },
  {
   "cell_type": "markdown",
   "metadata": {},
   "source": [
    "There is only two bands within the GeoTIFF.\n",
    "\n",
    "To calculate the NDVI map for the city of Ho Chi Minh City, Vietnam.\n",
    "\n",
    "It is calculated using the reflectance values of the red (R) and near-infrared (NIR) bands of the electromagnetic spectrum. The formula for NDVI is:\n",
    "\n",
    "$$\n",
    "\\text{NDVI} = \\frac{(\\text{NIR} - \\text{Red})}{(\\text{NIR} + \\text{Red})}\n",
    "$$\n",
    "\n",
    "Where:\n",
    "\n",
    "- NIR is the reflectance in the near-infrared band.\n",
    "\n",
    "- Red is the reflectance in the red band.\n",
    "\n",
    "The GeoTiff is preprocessed, where:\n",
    "\n",
    "- Band 1 is the NIR band;\n",
    "\n",
    "- Band 2 is the red band."
   ]
  },
  {
   "cell_type": "code",
   "execution_count": null,
   "metadata": {},
   "outputs": [],
   "source": [
    "NIR_band = lansat_clipped[0]\n",
    "\n",
    "Red_band = lansat_clipped[1]"
   ]
  },
  {
   "cell_type": "code",
   "execution_count": null,
   "metadata": {},
   "outputs": [],
   "source": [
    "type(NIR_band)"
   ]
  },
  {
   "cell_type": "markdown",
   "metadata": {},
   "source": [
    "When you read a raster file using libraries like `rasterio`, it returns the data as a `NumPy ndarray` because the primary content of a raster file is a grid of pixel values, which can be naturally represented as `a multi-dimensional array`. This array contains the actual data values (e.g., elevation, temperature, reflectance) for each pixel in the raster.\n",
    "\n",
    "However, the geographical information (such as the coordinate reference system, geotransform, and extent) is not lost. This information is stored in `the metadata` of the raster file and can be accessed separately."
   ]
  },
  {
   "cell_type": "markdown",
   "metadata": {},
   "source": [
    "## <a id='toc1_4_'></a>[Calculation](#toc0_)\n",
    "\n",
    "$$\n",
    "\\text{NDVI} = \\frac{(\\text{NIR} - \\text{Red})}{(\\text{NIR} + \\text{Red})}\n",
    "$$"
   ]
  },
  {
   "cell_type": "code",
   "execution_count": null,
   "metadata": {},
   "outputs": [],
   "source": [
    "ndvi_hcmc = (NIR_band - Red_band) / (NIR_band + Red_band)"
   ]
  },
  {
   "cell_type": "markdown",
   "metadata": {},
   "source": [
    "The NDVI values range from -1 to 1:\n",
    "\n",
    "- Values close to 1 indicate healthy, dense vegetation.\n",
    "\n",
    "- Values close to 0 indicate sparse or no vegetation.\n",
    "\n",
    "- Negative values indicate non-vegetated surfaces such as water, snow, or bare soil."
   ]
  },
  {
   "cell_type": "code",
   "execution_count": null,
   "metadata": {},
   "outputs": [],
   "source": [
    "ndvi_hcmc.shape"
   ]
  },
  {
   "cell_type": "markdown",
   "metadata": {},
   "source": [
    "### <a id='toc1_4_1_'></a>[Plot the raster](#toc0_)"
   ]
  },
  {
   "cell_type": "code",
   "execution_count": null,
   "metadata": {},
   "outputs": [],
   "source": [
    "import matplotlib.pyplot as plt"
   ]
  },
  {
   "cell_type": "code",
   "execution_count": null,
   "metadata": {},
   "outputs": [],
   "source": [
    "plt.figure(figsize=(10, 10)) # Set the size of the plot\n",
    "plt.imshow(ndvi_hcmc, cmap='Greens') # Display the NDVI using a grayscale colormap\n",
    "plt.colorbar() # Display the colorbar\n",
    "plt.title('NDVI Ho Chi Minh City 2024') # Set the title of the plot\n",
    "plt.show()"
   ]
  },
  {
   "cell_type": "code",
   "execution_count": null,
   "metadata": {},
   "outputs": [],
   "source": [
    "import numpy as np\n",
    "from matplotlib.colors import ListedColormap"
   ]
  },
  {
   "cell_type": "markdown",
   "metadata": {},
   "source": [
    "### <a id='toc1_4_2_'></a>[Filter Values](#toc0_)\n",
    "\n",
    "Let's take a value of \"0.3\" as threshold value of vegetation.\n",
    "\n",
    "Which means:\n",
    "\n",
    "VoP >= 0.3: Vegetation cover\n",
    "\n",
    "VoP < 0.3: Other Surface Material\n",
    "\n",
    "*Note: 0.3 is selected for demonstration, not scientifically derived*"
   ]
  },
  {
   "cell_type": "markdown",
   "metadata": {},
   "source": [
    "Let's extract the values of pixels with NDVI values greater than 0.3 as a new array."
   ]
  },
  {
   "cell_type": "code",
   "execution_count": null,
   "metadata": {},
   "outputs": [],
   "source": [
    "# Create a new array with the NDVI values greater than 0.3\n",
    "ndvi_hcmc_high = np.where(ndvi_hcmc > 0.3, ndvi_hcmc, np.nan)"
   ]
  },
  {
   "cell_type": "code",
   "execution_count": null,
   "metadata": {},
   "outputs": [],
   "source": [
    "plt.figure(figsize=(10, 10)) # Set the size of the plot\n",
    "plt.imshow(ndvi_hcmc_high, cmap='Greens') # Display the NDVI using a green colormap\n",
    "plt.colorbar() # Display the colorbar\n",
    "plt.title('Vegetation Cover HCMC 2024') # Set the title of the plot\n",
    "plt.show()"
   ]
  },
  {
   "cell_type": "code",
   "execution_count": null,
   "metadata": {},
   "outputs": [],
   "source": [
    "# save as tif\n",
    "with rasterio.open('../data/processed/part_ii/processed_ndvi/ndvi_hcmc_2024_high.tif', # Name of the output file\n",
    "                   'w', # Write the file\n",
    "                   driver='GTiff', # Specify the driver to be used\n",
    "                   height=ndvi_hcmc_high.shape[0], # Dimensions of the image \n",
    "                   width=ndvi_hcmc_high.shape[1],  # Dimensions of the image\n",
    "                   count=1,  # Number of bands\n",
    "                   dtype=ndvi_hcmc_high.dtype, # Use the same datatype as the input file\n",
    "                   crs=crs, # Use the same crs as the input file\n",
    "                   transform=dataset.transform # Use the same transformation as the input file\n",
    "                   ) as dst:\n",
    "    dst.write(ndvi_hcmc_high, 1) # Write the new band to the file"
   ]
  },
  {
   "cell_type": "markdown",
   "metadata": {},
   "source": [
    "\n",
    "<div align=\"center\">\n",
    "    <img src=\"../images/ndvi_vis.gif\" width=\"50%\">\n",
    "    <br><b>Vegetation identification through NDVI in HCMC.</b>\n",
    "</div>"
   ]
  },
  {
   "cell_type": "markdown",
   "metadata": {},
   "source": [
    "### <a id='toc1_4_3_'></a>[Remote Sensing Analysis and Urban Research](#toc0_)\n",
    "\n",
    "The advantages:  \n",
    "\n",
    "- **Large-Scale Coverage**: Remote sensing provides data over vast areas\n",
    "\n",
    "- **High Temporal Resolution**: Frequent data collection allows for monitoring changes over time, such as urban expansion, deforestation, or disaster impact assessment.  \n",
    "\n",
    "- **Non-Invasive Data Collection**: Remote sensing is a passive, non-invasive method, making it ideal for studying inaccessible, sensitive, or hazardous areas without direct fieldwork.  "
   ]
  },
  {
   "cell_type": "markdown",
   "metadata": {},
   "source": [
    "## <a id='toc1_5_'></a>[Next Section](#toc0_)"
   ]
  },
  {
   "cell_type": "markdown",
   "metadata": {},
   "source": [
    "Go to [2-03: Network Analysis](./2-03_network.ipynb)"
   ]
  }
 ],
 "metadata": {
  "kernelspec": {
   "display_name": "geospatial",
   "language": "python",
   "name": "python3"
  },
  "language_info": {
   "codemirror_mode": {
    "name": "ipython",
    "version": 3
   },
   "file_extension": ".py",
   "mimetype": "text/x-python",
   "name": "python",
   "nbconvert_exporter": "python",
   "pygments_lexer": "ipython3",
   "version": "3.12.3"
  }
 },
 "nbformat": 4,
 "nbformat_minor": 2
}
