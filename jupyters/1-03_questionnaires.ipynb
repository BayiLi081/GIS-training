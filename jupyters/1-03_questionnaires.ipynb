{
 "cells": [
  {
   "cell_type": "markdown",
   "metadata": {},
   "source": [
    "<div align=\"center\"><img src=\"../images/LKYCIC_Header.jpg\"></div>"
   ]
  },
  {
   "cell_type": "markdown",
   "metadata": {},
   "source": [
    "# 1-03: Survey Responses Data Cleaning"
   ]
  },
  {
   "cell_type": "markdown",
   "metadata": {},
   "source": [
    "Surveys, a common method of collecting opinions, often produce rich yet complex datasets.  \n",
    "\n",
    "In survey responses, these datasets typically include **categorical, textual, and numerical variables**.  \n",
    "\n",
    "We will address tasks such as **recoding categorical variables** and summarising the characteristics of **categorical variables** and **textual variables**."
   ]
  },
  {
   "cell_type": "markdown",
   "metadata": {},
   "source": [
    "## Dataset\n",
    "\n",
    "In this practice, we will be using a dataset of survey responses from London Assembly Cycle Survey Responses.\n",
    "\n",
    "References:\n",
    "\n",
    "None (2023). london-assembly-cycle-survey-responses (from London Assembly Cycle Survey Responses) [Data set resource]. University of Glasgow. https://data.ubdc.ac.uk/dataset/london-assembly-cycle-survey-responses/resource/bd0aed6f-f5f8-4143-9200-ee26e13e6525"
   ]
  },
  {
   "cell_type": "markdown",
   "metadata": {},
   "source": [
    "### Import Data"
   ]
  },
  {
   "cell_type": "code",
   "execution_count": null,
   "metadata": {},
   "outputs": [],
   "source": [
    "%pip install matplotlib"
   ]
  },
  {
   "cell_type": "code",
   "execution_count": null,
   "metadata": {},
   "outputs": [],
   "source": [
    "import pandas as pd\n",
    "import matplotlib.pyplot as plt"
   ]
  },
  {
   "cell_type": "markdown",
   "metadata": {},
   "source": [
    "Read the responses csv file as dataframe:\n",
    "\n",
    "<div align=\"center\">\n",
    "    <img src=\"../images/example_survey.png\" width=500px>\n",
    "</div>\n",
    "\n",
    "you can <u>assign the unique ID column \"RespondentID\" to the index of the dataframe.</u>"
   ]
  },
  {
   "cell_type": "code",
   "execution_count": null,
   "metadata": {},
   "outputs": [],
   "source": [
    "pfolder = '../data/raw/part_i/' # path to the data folder"
   ]
  },
  {
   "cell_type": "code",
   "execution_count": null,
   "metadata": {},
   "outputs": [],
   "source": [
    "df = pd.read_csv(pfolder + 'assembly-bike-survey-data.csv', index_col=\"RespondentID\")\n",
    "\n",
    "df.head(2)"
   ]
  },
  {
   "cell_type": "markdown",
   "metadata": {},
   "source": [
    "`Recommended:` Specifying an index column if there is existing ID column in your data. So you can access the row by the specified index column using `.loc[]`.\n",
    "\n",
    "*Note:* `.loc` is not a function but an indexer, so it uses square brackets."
   ]
  },
  {
   "cell_type": "code",
   "execution_count": null,
   "metadata": {},
   "outputs": [],
   "source": [
    "df.loc[1202170092]"
   ]
  },
  {
   "cell_type": "markdown",
   "metadata": {},
   "source": [
    "`Challenge 1`: How many respondents and how many questions are there in the data?\n",
    "\n",
    "`Output:`\n",
    "\n",
    "```\n",
    "(1297, 37)\n",
    "There are total 1297 respondents\n",
    "There are total 37 questions\n",
    "```\n",
    "\n",
    "`Hint:` Check the shape of the dataframe"
   ]
  },
  {
   "cell_type": "code",
   "execution_count": null,
   "metadata": {},
   "outputs": [],
   "source": [
    "#————————————————————————————————————————————————#\n",
    "\n",
    "#————————————————————————————————————————————————#"
   ]
  },
  {
   "cell_type": "markdown",
   "metadata": {},
   "source": [
    "`Challenge 2`: How many age groups are there in the data? And what are them?"
   ]
  },
  {
   "cell_type": "markdown",
   "metadata": {},
   "source": [
    "`Question:`\n",
    "\n",
    "\"Q2-Age\": \n",
    "\n",
    "<u>How old are you?<u>\n",
    "\n",
    "`Output:`\n",
    "\n",
    "```\n",
    "The number of unique age groups in the 'Q2-Age' column is: 5\n",
    "The unique age groups in the 'Q2-Age' column are: ['30-39' '40-49' '18-29' '50+' nan 'under 18']\n",
    "```"
   ]
  },
  {
   "cell_type": "code",
   "execution_count": null,
   "metadata": {},
   "outputs": [],
   "source": [
    "#————————————————————————————————————————————————#\n",
    "\n",
    "#————————————————————————————————————————————————#"
   ]
  },
  {
   "cell_type": "markdown",
   "metadata": {},
   "source": [
    "## Categorical variables"
   ]
  },
  {
   "cell_type": "markdown",
   "metadata": {},
   "source": [
    "### Nominal\n",
    "\n",
    "A categorical variable with unordered categories. For example, sex is a nominal variable because the order of the categories doesn't matter."
   ]
  },
  {
   "cell_type": "markdown",
   "metadata": {},
   "source": [
    "| R                                                            | Python                                                       |\n",
    "| ------------------------------------------------------------ | ------------------------------------------------------------ |\n",
    "| Factors                                                      | Categorical Data                                             |\n",
    "| Factors are used for categorical variables, storing levels as integers internally. | Pandas `Categorical` data type is the equivalent.            |\n",
    "| factor_var <- factor(c(\"low\", \"medium\", \"high\"))             | import pandas as pd<br/>cat_var = pd.Categorical([\"low\", \"medium\", \"high\"]) |\n",
    "\n",
    "Both optimize memory usage for categorical data and simplify group-based operations."
   ]
  },
  {
   "cell_type": "code",
   "execution_count": null,
   "metadata": {},
   "outputs": [],
   "source": [
    "cat_var = pd.Categorical([\"low\", \"medium\", \"high\"]) \n",
    "\n",
    "cat_var"
   ]
  },
  {
   "cell_type": "markdown",
   "metadata": {},
   "source": [
    "For column \"Q3-Gender\"\n",
    "\n",
    "The original question is\n",
    "\n",
    "<u>Are you male or female?<u>"
   ]
  },
  {
   "cell_type": "markdown",
   "metadata": {},
   "source": [
    "`Task`: What is the gender distribution of responsers?"
   ]
  },
  {
   "cell_type": "code",
   "execution_count": null,
   "metadata": {},
   "outputs": [],
   "source": [
    "df['Q3-Gender'].head()"
   ]
  },
  {
   "cell_type": "code",
   "execution_count": null,
   "metadata": {},
   "outputs": [],
   "source": [
    "df['Q3-Gender'].value_counts()"
   ]
  },
  {
   "cell_type": "markdown",
   "metadata": {},
   "source": [
    "`Task`: To draw a pie chart to show the proportion of genders?\n",
    "\n",
    "The pie chart should include:\n",
    "\n",
    "1. Labels for each slice showing the gender values.\n",
    "\n",
    "2. Percentage values displayed as integers on each slice.\n",
    "\n",
    "3. Sets the radius of the pie chart, making it smaller than the default size (default is 1)."
   ]
  },
  {
   "cell_type": "markdown",
   "metadata": {},
   "source": [
    "Firstly, read the help instruction through `help(plt.pie)` or `plt.pie?`"
   ]
  },
  {
   "cell_type": "code",
   "execution_count": null,
   "metadata": {},
   "outputs": [],
   "source": [
    "# help(plt.pie)\n",
    "\n",
    "# plt.pie?"
   ]
  },
  {
   "cell_type": "markdown",
   "metadata": {},
   "source": [
    "We can read the list of parameters controlling the appearance of the plot:\n",
    "\n",
    "- `labels`\n",
    "\n",
    "    list, default: None\n",
    "\n",
    "    A sequence of strings providing the labels for each wedge\n",
    "\n",
    "- `autopct`\n",
    "\n",
    "    None or str or callable, default: None\n",
    "    \n",
    "    If not *None*, *autopct* is a string or function used to label the\n",
    "    wedges with their numeric value. The label will be placed inside\n",
    "    the wedge. If *autopct* is a format string, the label will be\n",
    "    ``fmt % pct``. If *autopct* is a function, then it will be called.\n",
    "\n",
    "- `radius` : float, default: 1\n",
    "\n",
    "    The radius of the pie."
   ]
  },
  {
   "cell_type": "markdown",
   "metadata": {},
   "source": [
    "For the argument `autopct`, we need to use **format specification** in Python:\n",
    "\n",
    "`%`: Indicates the start of the format specification.\n",
    "\n",
    "| Data type of variable | Format Specifiers |\n",
    "| ----------------------- | ------------------------------ |\n",
    "| String | `%s` |\n",
    "| Floating Point Decimal | `%f` |\n",
    "| Floating Point Exponential | `%e` |\n",
    "| Signed Integer Decimal | `%d` |\n",
    "\n",
    "For more about format string in Python, please refer to [A Guide to Modern Python String Formatting Tools](https://realpython.com/python-formatted-output/)"
   ]
  },
  {
   "cell_type": "code",
   "execution_count": null,
   "metadata": {},
   "outputs": [],
   "source": [
    "# Get the value counts of the 'Q3-Gender' column\n",
    "gender_counts = df['Q3-Gender'].value_counts()\n",
    "\n",
    "# Plot a pie chart of the gender distribution; fill your answer here\n",
    "#————————————————————————————————————————————————#\n",
    "plt.pie(gender_counts, labels=gender_counts.index, radius = 0.5, autopct='%d%%')\n",
    "#————————————————————————————————————————————————#\n",
    "\n",
    "# A title 'Gender Distribution'.\n",
    "plt.title('Gender Distribution')\n",
    "plt.show()"
   ]
  },
  {
   "cell_type": "markdown",
   "metadata": {},
   "source": [
    "### Ordinal\n",
    "\n",
    "A categorical variable with ordered categories. For example, education level is an ordinal variable because the levels can be put in order, even if there isn't an exact difference between them."
   ]
  },
  {
   "cell_type": "markdown",
   "metadata": {},
   "source": [
    "For column \"Q19-Frequency\"\n",
    "\n",
    "The original question is\n",
    "\n",
    "<u>How often do you ride a cycle hire bike?<u>"
   ]
  },
  {
   "cell_type": "markdown",
   "metadata": {},
   "source": [
    "Task 2: Draw a distribution infographics of the distribution of frequency of riding a cycle hire bike"
   ]
  },
  {
   "cell_type": "code",
   "execution_count": null,
   "metadata": {},
   "outputs": [],
   "source": [
    "df['Q19-Frequency']"
   ]
  },
  {
   "cell_type": "code",
   "execution_count": null,
   "metadata": {},
   "outputs": [],
   "source": [
    "df['Q19-Frequency'].unique()"
   ]
  },
  {
   "cell_type": "code",
   "execution_count": null,
   "metadata": {},
   "outputs": [],
   "source": [
    "df['Q19-Frequency'].value_counts()"
   ]
  },
  {
   "cell_type": "code",
   "execution_count": null,
   "metadata": {},
   "outputs": [],
   "source": [
    "# manually order the frequency\n",
    "order_freq = [\"Only tried it once\", \"Occasionally\", \"Once a fortnight\", \"Once a week\", \"Several times a week\"]"
   ]
  },
  {
   "cell_type": "code",
   "execution_count": null,
   "metadata": {},
   "outputs": [],
   "source": [
    "df['Q19-Frequency'] = pd.Categorical(df['Q19-Frequency'], categories = order_freq, ordered=True)\n",
    "\n",
    "df['Q19-Frequency'].head(10)"
   ]
  },
  {
   "cell_type": "code",
   "execution_count": null,
   "metadata": {},
   "outputs": [],
   "source": [
    "df_sortedfre = df.sort_values('Q19-Frequency')\n",
    "\n",
    "df_sortedfre['Q19-Frequency'].head(10)"
   ]
  },
  {
   "cell_type": "code",
   "execution_count": null,
   "metadata": {},
   "outputs": [],
   "source": [
    "df_sortedfre['Q19-Frequency'].tail(10)"
   ]
  },
  {
   "cell_type": "markdown",
   "metadata": {},
   "source": [
    "### Code the column"
   ]
  },
  {
   "cell_type": "code",
   "execution_count": null,
   "metadata": {},
   "outputs": [],
   "source": [
    "# Check some attributes\n",
    "print(\"Categories:\", df_sortedfre['Q19-Frequency'].cat.categories) \n",
    "print(\"-------------------------------------------------------------\") \n",
    "print(\"Codes:\", df_sortedfre['Q19-Frequency'].cat.codes)            # Displays the numerical codes for each category\n",
    "print(\"-------------------------------------------------------------\") \n",
    "print(\"Is Ordered:\", df_sortedfre['Q19-Frequency'].cat.ordered)"
   ]
  },
  {
   "cell_type": "markdown",
   "metadata": {},
   "source": [
    "NaN values are typically represented by -1."
   ]
  },
  {
   "cell_type": "code",
   "execution_count": null,
   "metadata": {},
   "outputs": [],
   "source": [
    "# Get the codebook (mapping of categories to numerical codes)\n",
    "codebook = dict(enumerate(order_freq))\n",
    "\n",
    "# Add the mapping for NaN values\n",
    "codebook[-1] = 'NaN'\n",
    "\n",
    "print(\"\\nCodebook:\")\n",
    "codebook"
   ]
  },
  {
   "cell_type": "code",
   "execution_count": null,
   "metadata": {},
   "outputs": [],
   "source": [
    "df_coded = df_sortedfre.copy()\n",
    "\n",
    "df_coded['Q19-Frequency'] = df_sortedfre['Q19-Frequency'].cat.codes\n",
    "\n",
    "df_coded = df_coded.query('`Q19-Frequency` >= 0') # remove NaN values\n",
    "\n",
    "df_coded.head(3)"
   ]
  },
  {
   "cell_type": "code",
   "execution_count": null,
   "metadata": {},
   "outputs": [],
   "source": [
    "df_coded['Q19-Frequency'].describe()"
   ]
  },
  {
   "cell_type": "code",
   "execution_count": null,
   "metadata": {},
   "outputs": [],
   "source": [
    "freq_summary = pd.DataFrame(df['Q19-Frequency'].value_counts())\n",
    "\n",
    "freq_summary"
   ]
  },
  {
   "cell_type": "code",
   "execution_count": null,
   "metadata": {},
   "outputs": [],
   "source": [
    "# plot the frequency of bike usage\n",
    "freq_summary.plot(kind='bar')"
   ]
  },
  {
   "cell_type": "markdown",
   "metadata": {},
   "source": [
    "However the order of the x-axis does not really make sense."
   ]
  },
  {
   "cell_type": "code",
   "execution_count": null,
   "metadata": {},
   "outputs": [],
   "source": [
    "freq_summary.loc[order_freq].plot(kind='bar')"
   ]
  },
  {
   "cell_type": "markdown",
   "metadata": {},
   "source": [
    "### Cross-Columns Statistics"
   ]
  },
  {
   "cell_type": "markdown",
   "metadata": {},
   "source": [
    "`Task`: For different age groups, what are their frequency of riding a cycle hire bike"
   ]
  },
  {
   "cell_type": "markdown",
   "metadata": {},
   "source": [
    "Columns to use:\n",
    "\n",
    "\"Q2-Age\": \n",
    "\n",
    "<u>How old are you?<u>\n",
    "\n",
    "\"Q19-Frequency\": \n",
    "\n",
    "<u>How often do you ride a cycle hire bike?<u>"
   ]
  },
  {
   "cell_type": "markdown",
   "metadata": {},
   "source": [
    "Firstly, subsetting these two columns from the original dataset"
   ]
  },
  {
   "cell_type": "code",
   "execution_count": null,
   "metadata": {},
   "outputs": [],
   "source": [
    "df_subset = df[[\"Q2-Age\", \"Q19-Frequency\"]]\n",
    "\n",
    "df_subset.head()"
   ]
  },
  {
   "cell_type": "code",
   "execution_count": null,
   "metadata": {},
   "outputs": [],
   "source": [
    "# pd.DataFrame.groupby?"
   ]
  },
  {
   "cell_type": "code",
   "execution_count": null,
   "metadata": {},
   "outputs": [],
   "source": [
    "# Group the data by age groups and calculate the frequency counts for each group\n",
    "age_group_frequency = df_subset.groupby(['Q2-Age', 'Q19-Frequency']).size()\n",
    "age_group_frequency"
   ]
  },
  {
   "cell_type": "code",
   "execution_count": null,
   "metadata": {},
   "outputs": [],
   "source": [
    "age_group_frequency = df_subset.groupby(['Q2-Age', 'Q19-Frequency'], dropna=False).size()\n",
    "age_group_frequency"
   ]
  },
  {
   "cell_type": "markdown",
   "metadata": {},
   "source": [
    "*Note:* NaN values are automatically removed from the dataframe from `groupby`"
   ]
  },
  {
   "cell_type": "code",
   "execution_count": null,
   "metadata": {},
   "outputs": [],
   "source": [
    "# pd.DataFrame.unstack?"
   ]
  },
  {
   "cell_type": "code",
   "execution_count": null,
   "metadata": {},
   "outputs": [],
   "source": [
    "age_group_frequency = age_group_frequency.unstack()\n",
    "\n",
    "age_group_frequency"
   ]
  },
  {
   "cell_type": "markdown",
   "metadata": {},
   "source": [
    "`Challenge 4`: Add more elements to the graph.\n",
    "\n",
    "plt.title(): Add a title to the graph\n",
    "\n",
    "plt.xlabel(): Change the x-axis label\n",
    "\n",
    "plt.ylabel(): Change the y-axis label\n",
    "\n",
    "plt.legend(title = ''): add legend and legend title"
   ]
  },
  {
   "cell_type": "code",
   "execution_count": null,
   "metadata": {},
   "outputs": [],
   "source": [
    "# Plot the results\n",
    "age_group_frequency.plot(kind='bar', stacked=False)\n",
    "\n",
    "#————————————————————————————————————————————————#\n",
    "\n",
    "#————————————————————————————————————————————————#\n",
    "\n",
    "plt.show()"
   ]
  },
  {
   "cell_type": "markdown",
   "metadata": {},
   "source": [
    "`Task:`: What will happen if you change the stacked argument to `True`?\n",
    "\n",
    "Try and see if the graph changed"
   ]
  },
  {
   "cell_type": "code",
   "execution_count": null,
   "metadata": {},
   "outputs": [],
   "source": [
    "# Plot the results\n",
    "age_group_frequency.plot(kind='bar', stacked=True)\n",
    "\n",
    "plt.show()"
   ]
  },
  {
   "cell_type": "markdown",
   "metadata": {},
   "source": [
    "## Textual variable analysis\n",
    "\n",
    "`Task`: What is the most frequetly mentioned problem for users?\n",
    "\n",
    "'Q22-SupportCentre': \n",
    "\n",
    "<u>Have you had to contact the support centre to report a problem?<u>\n",
    "\n",
    "'Q23-Problem': \n",
    "\n",
    "<u>If yes, what was the problem?<u>"
   ]
  },
  {
   "cell_type": "code",
   "execution_count": null,
   "metadata": {},
   "outputs": [],
   "source": [
    "df[df['Q22-SupportCentre'] == 'Yes']['Q23-Problem']"
   ]
  },
  {
   "cell_type": "markdown",
   "metadata": {},
   "source": [
    "For **open-ended questions**, summarising the frequency of responses can be challenging due to the variability in the way users describe their problems."
   ]
  },
  {
   "cell_type": "code",
   "execution_count": null,
   "metadata": {},
   "outputs": [],
   "source": [
    "# Filter the DataFrame to include only rows where users reported a problem\n",
    "reported_problems = df[df['Q22-SupportCentre'] == 'Yes']\n",
    "\n",
    "# Analyze the 'Q23-Problem' column to find the most frequently mentioned problem\n",
    "most_frequent_problem = reported_problems['Q23-Problem'].value_counts().idxmax()\n",
    "\n",
    "print(\"The most frequently mentioned problem is:\", most_frequent_problem)"
   ]
  },
  {
   "cell_type": "code",
   "execution_count": null,
   "metadata": {},
   "outputs": [],
   "source": [
    "reported_problems['Q23-Problem'].value_counts()"
   ]
  },
  {
   "cell_type": "markdown",
   "metadata": {},
   "source": [
    "In this case, we will be using [NLTK: A Natural Language Toolkit](https://www.nltk.org/).\n",
    "\n",
    "It will tokenize textual information."
   ]
  },
  {
   "cell_type": "markdown",
   "metadata": {},
   "source": [
    "What is tokenization?\n",
    "\n",
    "Tokenization is the process of **breaking down a text into smaller units** called tokens. These tokens can be words, phrases, or even characters, depending on the level of tokenization.\n",
    "\n",
    "*Note: If you used ChatGPT API before, you will find that the API charges by the number of tokens. The algorithm of tokenization is different. But you can see token as the smallest unit in NLP field.*"
   ]
  },
  {
   "cell_type": "code",
   "execution_count": null,
   "metadata": {},
   "outputs": [],
   "source": [
    "!pip install nltk"
   ]
  },
  {
   "cell_type": "code",
   "execution_count": null,
   "metadata": {},
   "outputs": [],
   "source": [
    "import pandas as pd\n",
    "from collections import Counter\n",
    "import nltk\n",
    "from nltk.corpus import stopwords\n",
    "from nltk.tokenize import word_tokenize"
   ]
  },
  {
   "cell_type": "code",
   "execution_count": null,
   "metadata": {},
   "outputs": [],
   "source": [
    "sentence = \"SUTD is a great place to study. It is located in Singapore.\"\n",
    "tokens = nltk.word_tokenize(sentence)\n",
    "tokens"
   ]
  },
  {
   "cell_type": "code",
   "execution_count": null,
   "metadata": {},
   "outputs": [],
   "source": [
    "# Download NLTK data files (only need to run once)\n",
    "nltk.download('punkt_tab')\n",
    "nltk.download('punkt')\n",
    "nltk.download('stopwords')"
   ]
  },
  {
   "cell_type": "code",
   "execution_count": null,
   "metadata": {},
   "outputs": [],
   "source": [
    "# Filter the DataFrame to include only rows where users reported a problem\n",
    "reported_problems = df[df['Q22-SupportCentre'] == 'Yes']\n",
    "\n",
    "# Combine all responses into a single text\n",
    "all_responses = ' '.join(reported_problems['Q23-Problem'].dropna().tolist())\n",
    "\n",
    "# Tokenize the text\n",
    "tokens = word_tokenize(all_responses)"
   ]
  },
  {
   "cell_type": "code",
   "execution_count": null,
   "metadata": {},
   "outputs": [],
   "source": [
    "# Remove stopwords and punctuation\n",
    "stop_words = set(stopwords.words('english'))\n",
    "\n",
    "# Remove stopwords and punctuation\n",
    "filtered_tokens = [word for word in tokens if word.isalnum() and word.lower() not in stop_words]\n",
    "\n",
    "# Count the frequency of each word\n",
    "word_counts = Counter(filtered_tokens)\n",
    "\n",
    "# Get the most common words\n",
    "most_common_words = word_counts.most_common(10)\n",
    "\n",
    "print(\"The most frequently mentioned problems are:\")\n",
    "for word, count in most_common_words:\n",
    "    print(f\"{word}: {count}\")"
   ]
  },
  {
   "cell_type": "markdown",
   "metadata": {},
   "source": [
    "There are still words that don't have meaning, therefore, we need to add our own stopwords."
   ]
  },
  {
   "cell_type": "code",
   "execution_count": null,
   "metadata": {},
   "outputs": [],
   "source": [
    "stopwords.words?"
   ]
  },
  {
   "cell_type": "code",
   "execution_count": null,
   "metadata": {},
   "outputs": [],
   "source": [
    "# Define custom stopwords\n",
    "custom_stopwords = {'bike', 'bikes', 'one', 'could', 'would'}\n",
    "\n",
    "# Combine NLTK stopwords with custom stopwords\n",
    "stop_words = set(stopwords.words('english')).union(custom_stopwords)\n",
    "\n",
    "filtered_tokens = [word for word in tokens if word.isalnum() and word.lower() not in stop_words]\n",
    "\n",
    "word_counts = Counter(filtered_tokens)\n",
    "\n",
    "most_common_words = word_counts.most_common(10)\n",
    "\n",
    "print(\"The most frequently mentioned problems are:\")\n",
    "for word, count in most_common_words:\n",
    "    print(f\"{word}: {count}\")"
   ]
  },
  {
   "cell_type": "code",
   "execution_count": null,
   "metadata": {},
   "outputs": [],
   "source": [
    "# plot a bar chart of the most common words\n",
    "word_counts_df = pd.DataFrame(most_common_words, columns=['Word', 'Frequency'])\n",
    "word_counts_df.set_index('Word', inplace=True)\n",
    "word_counts_df.plot(kind='bar')"
   ]
  },
  {
   "cell_type": "code",
   "execution_count": null,
   "metadata": {},
   "outputs": [],
   "source": [
    "# Plot a horizontal bar chart of the most common words\n",
    "word_counts_df.plot(kind='barh', legend=False)\n",
    "plt.title('Most Common Words in Reported Problems')\n",
    "plt.xlabel('Frequency')\n",
    "plt.ylabel('Words')\n",
    "plt.show()"
   ]
  },
  {
   "cell_type": "markdown",
   "metadata": {},
   "source": [
    "Extention of applications of **topic modelling**:\n",
    "\n",
    "Hotspots change analysis over time:\n",
    "\n",
    "- News\n",
    "\n",
    "- Literatures"
   ]
  },
  {
   "cell_type": "markdown",
   "metadata": {},
   "source": [
    "## Wrap up for first section"
   ]
  },
  {
   "cell_type": "markdown",
   "metadata": {},
   "source": [
    "- **Data Types**: Introduces **integers**, **floats**, and **strings** in Python.\n",
    "\n",
    "- **Data Structures**: Covers **lists** and **dictionaries** for data organization.\n",
    "\n",
    "- **DataFrame**: Explains **Pandas DataFrame** for managing tabular data.\n",
    "\n",
    "- **GeoDataFrame**: Introduces **GeoPandas GeoDataFrame** for geospatial data.\n",
    "\n",
    "- **Survey Data Statistics**: How to deal with **categorical variables** and **textual variables** in survey responses."
   ]
  },
  {
   "cell_type": "markdown",
   "metadata": {},
   "source": [
    "## Next Section"
   ]
  },
  {
   "cell_type": "markdown",
   "metadata": {},
   "source": [
    "Go to [2-01: Vector Data Analysis](./2-01_vector.ipynb)"
   ]
  }
 ],
 "metadata": {
  "kernelspec": {
   "display_name": "geospatial",
   "language": "python",
   "name": "python3"
  },
  "language_info": {
   "codemirror_mode": {
    "name": "ipython",
    "version": 3
   },
   "file_extension": ".py",
   "mimetype": "text/x-python",
   "name": "python",
   "nbconvert_exporter": "python",
   "pygments_lexer": "ipython3",
   "version": "3.12.3"
  }
 },
 "nbformat": 4,
 "nbformat_minor": 2
}
