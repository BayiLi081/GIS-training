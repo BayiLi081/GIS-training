{
 "cells": [
  {
   "cell_type": "markdown",
   "metadata": {},
   "source": [
    "<div align=\"center\"><img src=\"../images/LKYCIC_Header.jpg\"></div>"
   ]
  },
  {
   "cell_type": "markdown",
   "metadata": {},
   "source": [
    "**Table of contents**<a id='toc0_'></a>    \n",
    "- [3-01: Geocoding](#toc1_)    \n",
    "  - [Geocoding](#toc1_1_)    \n",
    "    - [Reverse geocoding](#toc1_1_1_)    \n",
    "    - [Use Cases of Geocoding](#toc1_1_2_)    \n",
    "  - [Data](#toc1_2_)    \n",
    "  - [Nominatim](#toc1_3_)    \n",
    "    - [Additional Information on Package Use in Python](#toc1_3_1_)    \n",
    "      - [Returned data from API call](#toc1_3_1_1_)    \n",
    "  - [Batch Geocoding (For Loop)](#toc1_4_)    \n",
    "    - [Rounds of Modification](#toc1_4_1_)    \n",
    "    - [Utilising Regular Expression to rearrange within string column](#toc1_4_2_)    \n",
    "      - [Example string](#toc1_4_2_1_)    \n",
    "  - [Optional steps: Caching the queried output](#toc1_5_)    \n",
    "  - [Reference](#toc1_6_)    \n",
    "  - [Next Section](#toc1_7_)    \n",
    "\n",
    "<!-- vscode-jupyter-toc-config\n",
    "\tnumbering=false\n",
    "\tanchor=true\n",
    "\tflat=false\n",
    "\tminLevel=1\n",
    "\tmaxLevel=6\n",
    "\t/vscode-jupyter-toc-config -->\n",
    "<!-- THIS CELL WILL BE REPLACED ON TOC UPDATE. DO NOT WRITE YOUR TEXT IN THIS CELL -->"
   ]
  },
  {
   "cell_type": "markdown",
   "metadata": {},
   "source": [
    "# <a id='toc1_'></a>[3-01: Geocoding](#toc0_)"
   ]
  },
  {
   "cell_type": "markdown",
   "metadata": {},
   "source": [
    "## <a id='toc1_1_'></a>[Geocoding](#toc0_)\n",
    "\n",
    "Geocoding is the process where it converts address into spatial data and associates the exact geographical coordinates for that address.\n",
    "\n",
    "| ![geocoding_001](../images/geocoding_001.jpg)                  |\n",
    "| ------------------------------------------------------------ |\n",
    "| [Geocoding Service - Google for Developers](https://developers.google.com/maps/documentation/javascript/examples/geocoding-simple) |"
   ]
  },
  {
   "cell_type": "markdown",
   "metadata": {},
   "source": [
    "### <a id='toc1_1_1_'></a>[Reverse geocoding](#toc0_)\n",
    "\n",
    "Occasionally, we need to transform coordinates to addresses, namely reverse geocoding.\n",
    "\n",
    "| ![geocoding_002](../images/geocoding_002.png)                  |\n",
    "| ------------------------------------------------------------ |\n",
    "| [Reverse Geocoding - Google for Developers](https://developers.google.com/maps/documentation/javascript/examples/geocoding-reverse) |"
   ]
  },
  {
   "cell_type": "markdown",
   "metadata": {},
   "source": [
    "### <a id='toc1_1_2_'></a>[Use Cases of Geocoding](#toc0_)\n",
    "\n",
    "Geocoding is commonly used to translate vague address information into accurate geospatial data.  \n",
    "\n",
    "- For instance, if **postcodes** are collected from a survey and you need to analyse the survey responses, geocoding services become invaluable. \n",
    "\n",
    "- Or behind the map services like Google Maps, it uses geocoding to convert **user-inputted addresses** into latitude and longitude coordinates.\n",
    "\n",
    "In general, geocoding serves as a bridge between **text-based spatial information and numerical coordinate pairs**.  "
   ]
  },
  {
   "cell_type": "markdown",
   "metadata": {},
   "source": [
    "**Common Geocoding tools:**\n",
    "\n",
    "- [Google Maps Platform](https://developers.google.com/maps): Provides APIs for map, including for geocoding and reverse geocoding\n",
    "- [Nominatum](https://nominatim.openstreetmap.org): An open source geocoding services\n",
    "- [geopy](https://github.com/geopy/geopy): A Python library to use geocoding services\n",
    "- [Mapbox](https://mapbox.com): An alternative to Google Maps\n",
    "- [Esri ArcGIS Platform or ArcGIS pro](https://esri.com): Design for Esri User, but with limitation of quota"
   ]
  },
  {
   "cell_type": "markdown",
   "metadata": {},
   "source": [
    "**For Geocoding in Singapore:**\n",
    "\n",
    "| ![onemap api](../images/onemap_services.png)                  |\n",
    "| ------------------------------------------------------------ |\n",
    "| OneMap Available Services |"
   ]
  },
  {
   "cell_type": "markdown",
   "metadata": {},
   "source": [
    "Processes to use OneMap Geocoding Services:\n",
    "\n",
    "1. Register on the [OneMap API website](https://www.onemap.gov.sg/apidocs/)\n",
    "\n",
    "| ![onemap api](../images/OneMap_apikey.png)                  |\n",
    "| ------------------------------------------------------------ |\n",
    "| The generated API key after registeration |"
   ]
  },
  {
   "cell_type": "code",
   "execution_count": null,
   "metadata": {},
   "outputs": [],
   "source": [
    "import requests\n",
    "from pprint import pprint"
   ]
  },
  {
   "cell_type": "code",
   "execution_count": null,
   "metadata": {},
   "outputs": [],
   "source": [
    "# Read the stored api key from the file other_files/donttrack_mapapi second line\n",
    "\n",
    "with open(\"../other_files/donttrack_mapapi\") as f:\n",
    "    api_key = f.readlines()[1].strip()\n",
    "\n",
    "# print(api_key)"
   ]
  },
  {
   "cell_type": "code",
   "execution_count": null,
   "metadata": {},
   "outputs": [
    {
     "name": "stdout",
     "output_type": "stream",
     "text": [
      "{\n",
      "  \"found\": 6,\n",
      "  \"totalNumPages\": 1,\n",
      "  \"pageNum\": 1,\n",
      "  \"results\": [\n",
      "    {\n",
      "      \"SEARCHVAL\": \"SINGAPORE UNIVERSITY OF TECHNOLOGY AND DESIGN\",\n",
      "      \"BLK_NO\": \"8\",\n",
      "      \"ROAD_NAME\": \"SOMAPAH ROAD\",\n",
      "      \"BUILDING\": \"SINGAPORE UNIVERSITY OF TECHNOLOGY AND DESIGN\",\n",
      "      \"ADDRESS\": \"8 SOMAPAH ROAD SINGAPORE UNIVERSITY OF TECHNOLOGY AND DESIGN SINGAPORE 487372\",\n",
      "      \"POSTAL\": \"487372\",\n",
      "      \"X\": \"42416.5920993574\",\n",
      "      \"Y\": \"35815.2679505069\",\n",
      "      \"LATITUDE\": \"1.3401716369901\",\n",
      "      \"LONGITUDE\": \"103.962860116421\"\n",
      "    },\n",
      "    {\n",
      "      \"SEARCHVAL\": \"SINGAPORE UNIVERSITY OF TECHNOLOGY AND DESIGN (BUILDING 1)\",\n",
      "      \"BLK_NO\": \"8\",\n",
      "      \"ROAD_NAME\": \"SOMAPAH ROAD\",\n",
      "      \"BUILDING\": \"SINGAPORE UNIVERSITY OF TECHNOLOGY AND DESIGN (BUILDING 1)\",\n",
      "      \"ADDRESS\": \"8 SOMAPAH ROAD SINGAPORE UNIVERSITY OF TECHNOLOGY AND DESIGN (BUILDING 1) SINGAPORE 487372\",\n",
      "      \"POSTAL\": \"487372\",\n",
      "      \"X\": \"42372.2915454404\",\n",
      "      \"Y\": \"35819.9252548926\",\n",
      "      \"LATITUDE\": \"1.34021377704081\",\n",
      "      \"LONGITUDE\": \"103.962462052841\"\n",
      "    },\n",
      "    {\n",
      "      \"SEARCHVAL\": \"SINGAPORE UNIVERSITY OF TECHNOLOGY AND DESIGN (BUILDING 2)\",\n",
      "      \"BLK_NO\": \"8\",\n",
      "      \"ROAD_NAME\": \"SOMAPAH ROAD\",\n",
      "      \"BUILDING\": \"SINGAPORE UNIVERSITY OF TECHNOLOGY AND DESIGN (BUILDING 2)\",\n",
      "      \"ADDRESS\": \"8 SOMAPAH ROAD SINGAPORE UNIVERSITY OF TECHNOLOGY AND DESIGN (BUILDING 2) SINGAPORE 487372\",\n",
      "      \"POSTAL\": \"487372\",\n",
      "      \"X\": \"42381.1880020192\",\n",
      "      \"Y\": \"35882.9895372763\",\n",
      "      \"LATITUDE\": \"1.34078410232498\",\n",
      "      \"LONGITUDE\": \"103.962542022484\"\n",
      "    },\n",
      "    {\n",
      "      \"SEARCHVAL\": \"SINGAPORE UNIVERSITY OF TECHNOLOGY AND DESIGN (BUILDING 3)\",\n",
      "      \"BLK_NO\": \"8\",\n",
      "      \"ROAD_NAME\": \"SOMAPAH ROAD\",\n",
      "      \"BUILDING\": \"SINGAPORE UNIVERSITY OF TECHNOLOGY AND DESIGN (BUILDING 3)\",\n",
      "      \"ADDRESS\": \"8 SOMAPAH ROAD SINGAPORE UNIVERSITY OF TECHNOLOGY AND DESIGN (BUILDING 3) SINGAPORE 487372\",\n",
      "      \"POSTAL\": \"487372\",\n",
      "      \"X\": \"42476.3999401759\",\n",
      "      \"Y\": \"35895.6651332285\",\n",
      "      \"LATITUDE\": \"1.34089869003173\",\n",
      "      \"LONGITUDE\": \"103.963397562394\"\n",
      "    },\n",
      "    {\n",
      "      \"SEARCHVAL\": \"SINGAPORE UNIVERSITY OF TECHNOLOGY AND DESIGN (BUILDING 5)\",\n",
      "      \"BLK_NO\": \"8\",\n",
      "      \"ROAD_NAME\": \"SOMAPAH ROAD\",\n",
      "      \"BUILDING\": \"SINGAPORE UNIVERSITY OF TECHNOLOGY AND DESIGN (BUILDING 5)\",\n",
      "      \"ADDRESS\": \"8 SOMAPAH ROAD SINGAPORE UNIVERSITY OF TECHNOLOGY AND DESIGN (BUILDING 5) SINGAPORE 487372\",\n",
      "      \"POSTAL\": \"487372\",\n",
      "      \"X\": \"42419.0114495633\",\n",
      "      \"Y\": \"35976.2717703991\",\n",
      "      \"LATITUDE\": \"1.34162769348347\",\n",
      "      \"LONGITUDE\": \"103.962881932212\"\n",
      "    },\n",
      "    {\n",
      "      \"SEARCHVAL\": \"SINGAPORE UNIVERSITY OF TECHNOLOGY AND DESIGN (SUTD)\",\n",
      "      \"BLK_NO\": \"8\",\n",
      "      \"ROAD_NAME\": \"SOMAPAH ROAD\",\n",
      "      \"BUILDING\": \"SINGAPORE UNIVERSITY OF TECHNOLOGY AND DESIGN (SUTD)\",\n",
      "      \"ADDRESS\": \"8 SOMAPAH ROAD SINGAPORE UNIVERSITY OF TECHNOLOGY AND DESIGN (SUTD) SINGAPORE 487372\",\n",
      "      \"POSTAL\": \"487372\",\n",
      "      \"X\": \"42431.7004845012\",\n",
      "      \"Y\": \"35871.1339010019\",\n",
      "      \"LATITUDE\": \"1.34067686028768\",\n",
      "      \"LONGITUDE\": \"103.962995900466\"\n",
      "    }\n",
      "  ]\n",
      "}\n"
     ]
    }
   ],
   "source": [
    "searchVal=\"8 Somapah Rd, Singapore 487372\"\n",
    "      \n",
    "url = f\"https://www.onemap.gov.sg/api/common/elastic/search?searchVal={searchVal}&returnGeom=Y&getAddrDetails=Y&pageNum=1\"\n",
    "      \n",
    "headers = {\"Authorization\": api_key}\n",
    "      \n",
    "response = requests.get(url, headers=headers)\n",
    "\n",
    "response_dict = response.json()\n",
    "      \n",
    "pprint(response_dict)"
   ]
  },
  {
   "cell_type": "code",
   "execution_count": null,
   "metadata": {},
   "outputs": [],
   "source": [
    "import pandas as pd"
   ]
  },
  {
   "cell_type": "markdown",
   "metadata": {},
   "source": [
    "## <a id='toc1_2_'></a>[Data](#toc0_)\n",
    "\n",
    "Dengue clusters were collected from the NEA website:  \n",
    "\n",
    "[https://www.nea.gov.sg/dengue-zika/dengue/dengue-clusters](https://www.nea.gov.sg/dengue-zika/dengue/dengue-clusters)  \n",
    "\n",
    "Instructions on how to collect tabular data from the NEA webpage can be found in the Jupyter Notebook file: [NEA Dengue Scraper](./extra_practices/X-02_nea_dengue_scraper.ipynb).  \n",
    "\n",
    "While web scraping is not covered in this bootcamp, you may find this resource useful.  "
   ]
  },
  {
   "cell_type": "markdown",
   "metadata": {},
   "source": [
    "The path to the file is <u>../data/raw/part_iii/dengue_clusters_with_subtables_17_Jan_2025.csv</u>"
   ]
  },
  {
   "cell_type": "code",
   "execution_count": null,
   "metadata": {},
   "outputs": [],
   "source": [
    "project_path = '../data/raw/part_iii/'\n",
    "df = pd.read_csv(project_path + 'dengue_clusters_with_subtables_17_Jan_2025.csv')"
   ]
  },
  {
   "cell_type": "code",
   "execution_count": null,
   "metadata": {},
   "outputs": [],
   "source": [
    "df.head()"
   ]
  },
  {
   "cell_type": "markdown",
   "metadata": {},
   "source": [
    "## <a id='toc1_3_'></a>[Nominatim](#toc0_)\n",
    "\n",
    "`Nominatim` is a search engine for OpenStreetMap (OSM) data.\n",
    "\n",
    "- **Geocoding**: Converts addresses or place names into geographic coordinates (latitude and longitude).\n",
    "\n",
    "- **Reverse Geocoding**: Converts geographic coordinates into human-readable addresses.\n",
    "\n",
    "To use the Nominatim service, we are using a Python library, `geopy`. \n",
    "\n",
    "It enables easy integration of geocoding functionality, allowing us to convert addresses into coordinates and vice versa with simple Python code."
   ]
  },
  {
   "cell_type": "markdown",
   "metadata": {},
   "source": [
    "### <a id='toc1_3_1_'></a>[Additional Information on Package Use in Python](#toc0_)\n",
    "\n",
    "**As of 6 May 2024, more than 530,000 Python packages are available.**  \n",
    "(Source: [Wikipedia](https://en.wikipedia.org/wiki/Python_Package_Index#:~:text=As%20of%206%20May%202024,modules%20from%20a%20compiled%20language.))  \n",
    "\n",
    "When including scattered Python code hosted on platforms like GitHub or GitLab, it is likely that 90% of the functionality you need has already been written by someone.  \n",
    "\n",
    "<div align=\"center\">  \n",
    "    <img src=\"../images/programmer_tailor_pixabay.png\" width=\"500px\">  \n",
    "    <br>  \n",
    "    <p><b>Programmer? No, Tailor!</b> Source: Pixabay</p>  \n",
    "</div>  \n",
    "\n",
    "---\n",
    "\n",
    "There is probably no single package available for every need, and some packages may overlap in functionality. Selecting a well-maintained package can reduce potential errors.  \n",
    "\n",
    "Most Python package source code is hosted on GitHub. [GitHub Search](https://github.com/search?q=bibliographic+analysis&type=repositories) is a useful tool to identify existing code or packages you can reuse.  \n",
    "\n",
    "For example, if a package has not been updated for years, it is better to choose one with more stars and regular maintenance:  \n",
    "\n",
    "<div align=\"center\">  \n",
    "    <img src=\"../images/github_search.png\" width=\"500px\">  \n",
    "    <br>  \n",
    "    <p>You can search through a sea of published code using <b><a href=\"https://github.com/search?q=bibliographic+analysis&type=repositories\">GitHub Search</a>.</b> </p>  \n",
    "</div>"
   ]
  },
  {
   "cell_type": "code",
   "execution_count": null,
   "metadata": {},
   "outputs": [],
   "source": [
    "# Uncomment to install geopy\n",
    "# %pip install geopy"
   ]
  },
  {
   "cell_type": "code",
   "execution_count": null,
   "metadata": {},
   "outputs": [],
   "source": [
    "from geopy.geocoders import Nominatim\n",
    "from pprint import pprint"
   ]
  },
  {
   "cell_type": "markdown",
   "metadata": {},
   "source": [
    "1. Keyboard input:"
   ]
  },
  {
   "cell_type": "markdown",
   "metadata": {},
   "source": [
    "Let's put `SUTD` to test:"
   ]
  },
  {
   "cell_type": "code",
   "execution_count": null,
   "metadata": {},
   "outputs": [],
   "source": [
    "# Instantiates a new Nominatim client with a user agent string. The user agent string is required by Nominatim to identify your application.\n",
    "app = Nominatim(user_agent=\"tutorial\")\n",
    "\n",
    "# Prompts the user to enter a location (address or place name)\n",
    "your_loc = input(\"Enter your location: \")\n",
    "\n",
    "# Geocodes the entered location and retrieves the raw location \n",
    "location = app.geocode(your_loc).raw \n",
    "\n",
    "# Pretty-prints the raw location data for better readability.\n",
    "pprint(location)"
   ]
  },
  {
   "cell_type": "markdown",
   "metadata": {},
   "source": [
    "```json\n",
    "{'addresstype': 'peak',\n",
    " 'boundingbox': ['32.2566178', '32.2567178', '77.7040811', '77.7041811'],\n",
    " 'class': 'natural',\n",
    " 'display_name': 'SUTD, Lahul, Lahaul and Spiti, Himachal Pradesh, India',\n",
    " 'importance': 0.16000999999999999,\n",
    " 'lat': '32.2566678',\n",
    " 'licence': 'Data © OpenStreetMap contributors, ODbL 1.0. '\n",
    "            'http://osm.org/copyright',\n",
    " 'lon': '77.7041311',\n",
    " 'name': 'SUTD',\n",
    " 'osm_id': 8601419457,\n",
    " 'osm_type': 'node',\n",
    " 'place_id': 197204667,\n",
    " 'place_rank': 18,\n",
    " 'type': 'peak'}\n",
    " ```"
   ]
  },
  {
   "cell_type": "markdown",
   "metadata": {},
   "source": [
    "You may notice that the returned location for SUTD is a place in India.  \n",
    "\n",
    "This is because there is a high likelihood of **duplicate place names** when using **inaccurate or incomplete information** for geocoding.  \n",
    "\n",
    "Let us provide more accurate supplemental details, including the district and country information this time: "
   ]
  },
  {
   "cell_type": "code",
   "execution_count": null,
   "metadata": {},
   "outputs": [],
   "source": [
    "# Prompts the user to enter a location (address or place name)\n",
    "your_loc = \"SUTD, Tampines, Singapore\"\n",
    "\n",
    "# Geocodes the entered location and retrieves the raw location \n",
    "location = app.geocode(your_loc).raw \n",
    "\n",
    "# Pretty-prints the raw location data for better readability.\n",
    "pprint(location)"
   ]
  },
  {
   "cell_type": "markdown",
   "metadata": {},
   "source": [
    "#### <a id='toc1_3_1_1_'></a>[Returned data from API call](#toc0_)"
   ]
  },
  {
   "cell_type": "markdown",
   "metadata": {},
   "source": [
    "Normally, API returns data in `JSON format`. \n",
    "\n",
    "JSON has a very similar structure with Dictionary. Therefore, in Python, the acquired JSON is always read as `dictionary`. "
   ]
  },
  {
   "cell_type": "code",
   "execution_count": null,
   "metadata": {},
   "outputs": [],
   "source": [
    "type(location)"
   ]
  },
  {
   "cell_type": "markdown",
   "metadata": {},
   "source": [
    "Therefore, we can access the infomrtaion through the following syntax:"
   ]
  },
  {
   "cell_type": "code",
   "execution_count": null,
   "metadata": {},
   "outputs": [],
   "source": [
    "location['osm_id']"
   ]
  },
  {
   "cell_type": "code",
   "execution_count": null,
   "metadata": {},
   "outputs": [],
   "source": [
    "lat, lon = float(location['lat']), float(location['lon'])"
   ]
  },
  {
   "cell_type": "markdown",
   "metadata": {},
   "source": [
    "## <a id='toc1_4_'></a>[Batch Geocoding (For Loop)](#toc0_)\n",
    "\n",
    "Because there could be streets with same name in other countries. \n",
    "\n",
    "To acquire the coordinates as accurate as possible, we need to append \"Singapore\" to <u>each address as detailed as possible</u>."
   ]
  },
  {
   "cell_type": "code",
   "execution_count": null,
   "metadata": {},
   "outputs": [],
   "source": [
    "for index, row in df.iterrows():\n",
    "    address = row['Location'] + ', Singapore'\n",
    "    print(address)\n",
    "    try:\n",
    "        location = app.geocode(address).raw\n",
    "        df.at[index, 'Latitude'] = location['lat']\n",
    "        df.at[index, 'Longitude'] = location['lon']\n",
    "    except:\n",
    "        print('!!!Error!!!: ', address)\n",
    "    print(\"---------------------------------------\")"
   ]
  },
  {
   "cell_type": "code",
   "execution_count": null,
   "metadata": {},
   "outputs": [],
   "source": [
    "print(f'There are {df['Latitude'].notnull().sum()} geo-coded addresses')\n",
    "print(f'There are {df['Latitude'].isnull().sum()} ungeo-coded addresses')"
   ]
  },
  {
   "cell_type": "code",
   "execution_count": null,
   "metadata": {},
   "outputs": [],
   "source": [
    "df[df['Latitude'].isnull()]"
   ]
  },
  {
   "cell_type": "markdown",
   "metadata": {},
   "source": [
    "### <a id='toc1_4_1_'></a>[Data Cleaning: Rounds of Modification](#toc0_)\n",
    "\n",
    "When we observe the pattern of ungeocoded address, we can find they are most likely in the format of `<Road Name>(<Blk + Building Number>)`\n",
    "\n",
    "For example, when we search the address in Google Map, you can find the common written way of the address is `<Building Number> <Road Name>`\n",
    "\n",
    "<div align=\"center\">  \n",
    "    <img src=\"../images/geocoded_failure.png\" width=\"500px\">  \n",
    "    <br>  \n",
    "    <p>Failed geocoded outputs in Google Map</p>  \n",
    "</div>"
   ]
  },
  {
   "cell_type": "markdown",
   "metadata": {},
   "source": [
    "Therefore, we need to do some data reorganisation on the address column in a desirable format:"
   ]
  },
  {
   "cell_type": "markdown",
   "metadata": {},
   "source": [
    "### <a id='toc1_4_2_'></a>[Utilising Regular Expression to rearrange within string column](#toc0_)\n",
    "\n",
    "A **regular expression** (often abbreviated as **regex** or **regexp**) is a sequence of characters that defines a search pattern. \n",
    "\n",
    "1. Pattern Matching\n",
    "\n",
    "    Identify text patterns in strings (e.g., finding all email addresses in a document).\n",
    "\n",
    "2. Validation\n",
    "\n",
    "    Check if a string matches a specific format (e.g., validating phone numbers or postal codes).\n",
    "\n",
    "3. Substitution\n",
    "\n",
    "    Replace parts of a string based on a pattern.\n",
    "\n",
    "4. Extraction\n",
    "\n",
    "    Extract specific parts of a string, like dates or identifiers."
   ]
  },
  {
   "cell_type": "markdown",
   "metadata": {},
   "source": [
    "| **Pattern**        | **Description**                             | **Example**                     |\n",
    "|--------------------|---------------------------------------------|---------------------------------|\n",
    "| `.`                | Matches any single character except a newline | `a.c` matches `abc`, `a1c`     |\n",
    "| `\\d`               | Matches a digit (0–9)                       | `\\d+` matches `123`, `42`      |\n",
    "| `\\w`               | Matches a word character (letters, digits, and underscores) | `\\w+` matches `hello`, `_abc` |\n",
    "| `\\s`               | Matches a whitespace character              | `a\\s+b` matches `a b`, `a   b` |\n",
    "| `^`                | Matches the start of a string               | `^Hello` matches `Hello world` if it starts with `Hello` |\n",
    "| `$`                | Matches the end of a string                 | `world$` matches `Hello world` if it ends with `world` |\n",
    "| `[abc]`            | Matches any character in the brackets        | `[aeiou]` matches vowels       |\n",
    "| `[^abc]`           | Matches any character not in the brackets    | `[^aeiou]` matches consonants  |\n",
    "| `(a|b)`            | Matches either `a` or `b`                   | `(cat|dog)` matches `cat` or `dog` |\n",
    "| `*`                | Matches 0 or more of the preceding character | `ab*` matches `a`, `ab`, `abb` |\n",
    "| `+`                | Matches 1 or more of the preceding character | `ab+` matches `ab`, `abb`      |\n",
    "| `?`                | Matches 0 or 1 of the preceding character    | `ab?` matches `a`, `ab`        |\n",
    "| `{n,m}`            | Matches between `n` and `m` repetitions      | `a{2,4}` matches `aa`, `aaa`, `aaaa` |\n",
    "\n",
    "*Note:* You don't have to remember the symbols and patterns. You can ask AI bots to write the regular expression for you."
   ]
  },
  {
   "cell_type": "code",
   "execution_count": null,
   "metadata": {},
   "outputs": [],
   "source": [
    "import re"
   ]
  },
  {
   "cell_type": "markdown",
   "metadata": {},
   "source": [
    "#### <a id='toc1_4_2_1_'></a>[Example string](#toc0_)"
   ]
  },
  {
   "cell_type": "code",
   "execution_count": null,
   "metadata": {},
   "outputs": [],
   "source": [
    "text = \"Contact us at support@example.com or call 123-456-7890.\"\n",
    "\n",
    "# Find an email address\n",
    "email_pattern = r'[a-zA-Z0-9._%+-]+@[a-zA-Z0-9.-]+\\.[a-zA-Z]{2,}'\n",
    "email = re.findall(email_pattern, text)\n",
    "print(\"Email found:\", email)\n",
    "\n",
    "# Find a phone number\n",
    "phone_pattern = r'\\d{3}-\\d{3}-\\d{4}'\n",
    "phone = re.findall(phone_pattern, text)\n",
    "print(\"Phone number found:\", phone)"
   ]
  },
  {
   "cell_type": "markdown",
   "metadata": {},
   "source": [
    "In this case, we want to extract the building number contains in `(Blk <Building Number>)`.\n",
    "\n",
    "For example, from `Jurong West Avenue 1(Blk 537A)` to `537A Jurong West Avenue 1`\n",
    "\n",
    "We can prompt the task to ChatGPT (or other chat bots), and ask for code instruction:\n",
    "\n",
    "<div align=\"center\">  \n",
    "    <img src=\"../images/ai_prompted_codesolution.png\" width=\"500px\">  \n",
    "    <br>  \n",
    "    <p>Ask ChatGPT to write the cleaning code.</p>  \n",
    "</div>"
   ]
  },
  {
   "cell_type": "code",
   "execution_count": null,
   "metadata": {},
   "outputs": [],
   "source": [
    "example = \"Jurong West Avenue 1(Blk 537A)\"\n",
    "\n",
    "# Use regular expression to extract the block number\n",
    "match = re.search(r'\\(Blk (\\d+\\w*)\\)', example)\n",
    "if match:\n",
    "    block_number = match.group(1)  # Extracted block number\n",
    "    # Remove the \"(Blk 537)\" part and prepend the block number\n",
    "    transformed = f\"{block_number} {example.split('(')[0].strip()}\"\n",
    "    print(transformed)"
   ]
  },
  {
   "cell_type": "markdown",
   "metadata": {},
   "source": [
    "To be able to apply it on the whole column, we need to <u>define it as a function</u>:"
   ]
  },
  {
   "cell_type": "code",
   "execution_count": null,
   "metadata": {},
   "outputs": [],
   "source": [
    "def transform_address(address):\n",
    "    # Updated regex to capture numbers and optional letters\n",
    "    match = re.search(r'\\(Blk (\\d+\\w*)\\)', address)\n",
    "    if match:\n",
    "        block_number = match.group(1)\n",
    "        return f\"{block_number} {address.split('(')[0].strip()}\"\n",
    "    return address  # Return unchanged if no match is found"
   ]
  },
  {
   "cell_type": "code",
   "execution_count": null,
   "metadata": {},
   "outputs": [],
   "source": [
    "transform_address(example)"
   ]
  },
  {
   "cell_type": "code",
   "execution_count": null,
   "metadata": {},
   "outputs": [],
   "source": [
    "for index, row in df.iterrows():\n",
    "    try:\n",
    "        df.at[index, 'address_changed'] = transform_address(row['Location'])\n",
    "    except:\n",
    "        df.at[index, 'address_changed'] = row['Location']"
   ]
  },
  {
   "cell_type": "code",
   "execution_count": null,
   "metadata": {},
   "outputs": [],
   "source": [
    "for index, row in df.iterrows():\n",
    "    # Skip if already geocoded\n",
    "    if pd.isnull(row['Latitude']):\n",
    "        address = row['address_changed'] + ', Singapore'\n",
    "        print(address)\n",
    "        try:\n",
    "            location = app.geocode(address).raw\n",
    "            df.at[index, 'Latitude'] = location['lat']\n",
    "            df.at[index, 'Longitude'] = location['lon']\n",
    "        except:\n",
    "            print('!!!Error!!!: ', address)\n",
    "        print(\"---------------------------------------\")"
   ]
  },
  {
   "cell_type": "code",
   "execution_count": null,
   "metadata": {},
   "outputs": [],
   "source": [
    "print(f'There are {df['Latitude'].notnull().sum()} geo-coded addresses')\n",
    "print(f'There are {df['Latitude'].isnull().sum()} ungeo-coded addresses')"
   ]
  },
  {
   "cell_type": "markdown",
   "metadata": {},
   "source": [
    "#### Google API for Challenging Cases\n",
    "\n",
    "For the next step, you can manually query the [Google Geocoding Service](https://developers.google.com/maps/documentation/javascript/examples/geocoding-simple) or use another geocoding API, such as the [Google Maps API](https://geopy.readthedocs.io/en/stable/index.html?highlight=google#googlev3).\n",
    "\n",
    "*Note: The Google Maps API incurs usage fees.*\n",
    "\n",
    "<div align=\"center\">  \n",
    "    <img src=\"../images/google_geocoding_api.png\" width=\"700px\">  \n",
    "    <br>  \n",
    "    <p>Geocoding pricing for the Google Maps API.</p>  \n",
    "</div>\n",
    "\n",
    "The overall strategy is:\n",
    "\n",
    "**Maintaining data quality while minimising the usage of costly APIs wherever possible.**"
   ]
  },
  {
   "cell_type": "markdown",
   "metadata": {},
   "source": [
    "Save your Google Map API as plain file, then run the following two cells:"
   ]
  },
  {
   "cell_type": "code",
   "execution_count": null,
   "metadata": {},
   "outputs": [],
   "source": [
    "# read api key from file donttrack_googlemapapi\n",
    "with open('../other_files/donttrack_googlemapapi') as f:\n",
    "    Gmapapi_key = f.readline()"
   ]
  },
  {
   "cell_type": "code",
   "execution_count": null,
   "metadata": {},
   "outputs": [],
   "source": [
    "from geopy import geocoders\n",
    "g = geocoders.GoogleV3(api_key=Gmapapi_key)\n",
    "\n",
    "\n",
    "for index, row in df.iterrows():\n",
    "    # Skip if already geocoded\n",
    "    if pd.isnull(row['Latitude']):\n",
    "        address = row['Location'] + ', Singapore'\n",
    "        print(address)\n",
    "        try:\n",
    "            location = g.geocode(address, timeout=10)\n",
    "            pprint(location.raw)\n",
    "            df.at[index, 'Latitude'] = location.latitude\n",
    "            df.at[index, 'Longitude'] = location.longitude\n",
    "        except:\n",
    "            print('Error: ', address)"
   ]
  },
  {
   "cell_type": "code",
   "execution_count": null,
   "metadata": {},
   "outputs": [],
   "source": [
    "print(f'There are {df['Latitude'].notnull().sum()} geo-coded addresses')\n",
    "print(f'There are {df['Latitude'].isnull().sum()} ungeo-coded addresses')"
   ]
  },
  {
   "cell_type": "code",
   "execution_count": null,
   "metadata": {},
   "outputs": [],
   "source": [
    "df[df.duplicated(subset=['Latitude', 'Longitude'], keep=False)]"
   ]
  },
  {
   "cell_type": "code",
   "execution_count": null,
   "metadata": {},
   "outputs": [],
   "source": [
    "# find the exact same Latitude and Longitude\n",
    "duplicate_index = df[df.duplicated(subset=['Latitude', 'Longitude'], keep=False)].index\n",
    "df.loc[duplicate_index, ['Latitude', 'Longitude']] = None"
   ]
  },
  {
   "cell_type": "code",
   "execution_count": null,
   "metadata": {},
   "outputs": [],
   "source": [
    "print(f'There are {df['Latitude'].notnull().sum()} geo-coded addresses')\n",
    "print(f'There are {df['Latitude'].isnull().sum()} ungeo-coded addresses')"
   ]
  },
  {
   "cell_type": "code",
   "execution_count": null,
   "metadata": {},
   "outputs": [],
   "source": [
    "for index, row in df.iterrows():\n",
    "    # Skip if already geocoded\n",
    "    if pd.isnull(row['Latitude']):\n",
    "        address = row['Location'] + ', Singapore'\n",
    "        print(address)\n",
    "        try:\n",
    "            location = g.geocode(address, timeout=10)\n",
    "            pprint(location.raw)\n",
    "            df.at[index, 'Latitude'] = location.latitude\n",
    "            df.at[index, 'Longitude'] = location.longitude\n",
    "        except:\n",
    "            print('Error: ', address)"
   ]
  },
  {
   "cell_type": "code",
   "execution_count": null,
   "metadata": {},
   "outputs": [],
   "source": [
    "print(f'There are {df['Latitude'].notnull().sum()} geo-coded addresses')\n",
    "print(f'There are {df['Latitude'].isnull().sum()} ungeo-coded addresses')"
   ]
  },
  {
   "cell_type": "code",
   "execution_count": null,
   "metadata": {},
   "outputs": [],
   "source": [
    "df[df.duplicated(subset=['Latitude', 'Longitude'], keep=False)]"
   ]
  },
  {
   "cell_type": "code",
   "execution_count": null,
   "metadata": {},
   "outputs": [],
   "source": [
    "df"
   ]
  },
  {
   "cell_type": "markdown",
   "metadata": {},
   "source": [
    "`Task:` Transform it to GeoDataFrame"
   ]
  },
  {
   "cell_type": "code",
   "execution_count": null,
   "metadata": {},
   "outputs": [],
   "source": [
    "import geopandas as gpd"
   ]
  },
  {
   "cell_type": "code",
   "execution_count": null,
   "metadata": {},
   "outputs": [],
   "source": [
    "gdf = gpd.GeoDataFrame(df, geometry=gpd.points_from_xy(df.Longitude, df.Latitude))"
   ]
  },
  {
   "cell_type": "code",
   "execution_count": null,
   "metadata": {},
   "outputs": [],
   "source": [
    "gdf.plot()"
   ]
  },
  {
   "cell_type": "code",
   "execution_count": null,
   "metadata": {},
   "outputs": [],
   "source": [
    "project_path"
   ]
  },
  {
   "cell_type": "code",
   "execution_count": null,
   "metadata": {},
   "outputs": [],
   "source": [
    "gdf.to_file('../data/processed/part_iii/dengue_clusters_with_subtables_17_Jan_2025.geojson', driver='GeoJSON')"
   ]
  },
  {
   "cell_type": "markdown",
   "metadata": {},
   "source": [
    "*Note:*\n",
    "\n",
    "Data cleaning is a very exhausting step in data analysis.\n",
    "\n",
    "It is crucial to **constantly check** your intermediate data and optimise its accuracy.\n",
    "\n",
    "Once you have acquired clean data, you can import the GeoJSON file into other GUI-based GIS software.\n",
    "\n",
    "<div align=\"center\">\n",
    "    <img src=\"../images/dengue_vis.png\" width = 500px>\n",
    "</div>"
   ]
  },
  {
   "cell_type": "markdown",
   "metadata": {},
   "source": [
    "## <a id='toc1_5_'></a>[Optional steps: Caching the queried output](#toc0_)\n",
    "\n",
    "Saving queried/calculated outputs is common for saving resources for repeating requests.\n",
    "\n",
    "This is not mandatory knowledge in this bootcamp, so feel free to read the following part if you are interested."
   ]
  },
  {
   "cell_type": "code",
   "execution_count": null,
   "metadata": {},
   "outputs": [],
   "source": [
    "import pickle\n",
    "import os"
   ]
  },
  {
   "cell_type": "code",
   "execution_count": null,
   "metadata": {},
   "outputs": [],
   "source": [
    "df.head()"
   ]
  },
  {
   "cell_type": "code",
   "execution_count": null,
   "metadata": {},
   "outputs": [],
   "source": [
    "# Path to the pickle file\n",
    "pickle_file_path = '../data/processed/part_iii/geocode_cache.pkl'"
   ]
  },
  {
   "cell_type": "code",
   "execution_count": null,
   "metadata": {},
   "outputs": [],
   "source": [
    "# Save a single row to the cache\n",
    "def save_row_to_cache(row, file_path):\n",
    "    # Load existing cache if available\n",
    "    if os.path.exists(file_path):\n",
    "        with open(file_path, 'rb') as file:\n",
    "            cache = pickle.load(file)\n",
    "    else:\n",
    "        cache = {}\n",
    "    \n",
    "    # Add or update the cache with the new row\n",
    "    cache[row['Location']] = {'lat': row['Latitude'], 'lon': row['Longitude']}\n",
    "    \n",
    "    # Save the updated cache\n",
    "    with open(file_path, 'wb') as file:\n",
    "        pickle.dump(cache, file)\n",
    "    print(f\"Saved row for address: {row['Location']}\")\n",
    "\n",
    "# Example usage: Save each row to the cache\n",
    "for _, row in df.iterrows():\n",
    "    save_row_to_cache(row, pickle_file_path)\n"
   ]
  },
  {
   "cell_type": "markdown",
   "metadata": {},
   "source": [
    "The following code shows how can you extract data from previous cache"
   ]
  },
  {
   "cell_type": "code",
   "execution_count": null,
   "metadata": {},
   "outputs": [],
   "source": [
    "# Load the cache\n",
    "def load_cache(file_path):\n",
    "    if os.path.exists(file_path):\n",
    "        with open(file_path, 'rb') as file:\n",
    "            cache = pickle.load(file)\n",
    "        print(f\"Cache loaded from {file_path}\")\n",
    "        return cache\n",
    "    else:\n",
    "        print(f\"No cache file found at {file_path}. Returning an empty dictionary.\")\n",
    "        return {}\n",
    "\n",
    "# Load the cache and print it\n",
    "cache = load_cache(pickle_file_path)\n",
    "print(\"\\nCached Data:\")\n",
    "for address, coords in cache.items():\n",
    "    print(f\"Address: {address}: Lat: {coords['lat']}, Lon: {coords['lon']}\")"
   ]
  },
  {
   "cell_type": "markdown",
   "metadata": {},
   "source": [
    "Difference between pickle cache and saving as csv:\n",
    "\n",
    "| **Aspect**         | **Pickle Cache**                      | **CSV File**                      |\n",
    "|---------------------|---------------------------------------|------------------------------------|\n",
    "| **Format**          | Binary, Python-specific              | Text, widely compatible           |\n",
    "| **Readability**     | Not human-readable                   | Human-readable                    |\n",
    "| **Interoperability**| Limited to Python                    | Supported across platforms/tools  |\n",
    "| **Performance**     | Fast, ideal for Python objects       | Slower, ideal for tabular data    |\n",
    "| **File Size**       | Can be larger due to metadata        | Compact for simple tabular data   |\n",
    "| **Use Case**        | Temporary, quick storage of objects  | Sharing or long-term storage      |\n",
    "\n",
    "Caching the calculated outputs is quite common process in Big Data Analysis:\n",
    "\n",
    "For example,\n",
    "\n",
    "The computational cost for calculating shortest path from Point A to Point B is quite high.\n",
    "\n",
    "You do not want to calculate every time you want to know the shortest path from Point A to Point B.\n",
    "\n",
    "So you can cache it for the first time, and reuse it in the future. And it is fast to read than tabular data."
   ]
  },
  {
   "cell_type": "markdown",
   "metadata": {},
   "source": [
    "## <a id='toc1_6_'></a>[Reference](#toc0_)\n",
    "\n",
    "1. [What is geocoding and how can it help sell products (geospatialworld.net)](https://www.geospatialworld.net/blogs/what-is-geocoding-and-how-can-it-help-sell-products/)\n",
    "2. [Geocoding and postal codes, points to consider (opencagedata.com)](https://opencagedata.com/guides/how-to-think-about-postcodes-and-geocoding)"
   ]
  },
  {
   "cell_type": "markdown",
   "metadata": {},
   "source": [
    "## <a id='toc1_7_'></a>[Next Section](#toc0_)"
   ]
  },
  {
   "cell_type": "markdown",
   "metadata": {},
   "source": [
    "Go to [3-02: Data Visualization](./3-02_datavis.ipynb)"
   ]
  }
 ],
 "metadata": {
  "kernelspec": {
   "display_name": "geospatial",
   "language": "python",
   "name": "python3"
  },
  "language_info": {
   "codemirror_mode": {
    "name": "ipython",
    "version": 3
   },
   "file_extension": ".py",
   "mimetype": "text/x-python",
   "name": "python",
   "nbconvert_exporter": "python",
   "pygments_lexer": "ipython3",
   "version": "3.12.3"
  }
 },
 "nbformat": 4,
 "nbformat_minor": 2
}
