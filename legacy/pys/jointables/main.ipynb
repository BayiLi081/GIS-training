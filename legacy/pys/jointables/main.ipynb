{
 "cells": [
  {
   "cell_type": "markdown",
   "metadata": {},
   "source": [
    "# Join Attribute Tables of Spatial Data\n",
    "Required packages:\n",
    "1. geopandas"
   ]
  },
  {
   "cell_type": "code",
   "execution_count": 1,
   "metadata": {},
   "outputs": [],
   "source": [
    "import pandas as pd\n",
    "import geopandas as gpd"
   ]
  },
  {
   "cell_type": "markdown",
   "metadata": {},
   "source": [
    "## 1. Load the data"
   ]
  },
  {
   "cell_type": "markdown",
   "metadata": {},
   "source": [
    "Data description:\n",
    "\n",
    "1. Data 1: access.shp\n",
    "\n",
    "2. Data 2: income.shp"
   ]
  },
  {
   "cell_type": "code",
   "execution_count": 8,
   "metadata": {},
   "outputs": [
    {
     "data": {
      "text/html": [
       "<div>\n",
       "<style scoped>\n",
       "    .dataframe tbody tr th:only-of-type {\n",
       "        vertical-align: middle;\n",
       "    }\n",
       "\n",
       "    .dataframe tbody tr th {\n",
       "        vertical-align: top;\n",
       "    }\n",
       "\n",
       "    .dataframe thead th {\n",
       "        text-align: right;\n",
       "    }\n",
       "</style>\n",
       "<table border=\"1\" class=\"dataframe\">\n",
       "  <thead>\n",
       "    <tr style=\"text-align: right;\">\n",
       "      <th></th>\n",
       "      <th>PLN_AREA_N</th>\n",
       "      <th>rat_un_he</th>\n",
       "      <th>geometry</th>\n",
       "    </tr>\n",
       "  </thead>\n",
       "  <tbody>\n",
       "    <tr>\n",
       "      <th>0</th>\n",
       "      <td>ANG MO KIO</td>\n",
       "      <td>0.186899</td>\n",
       "      <td>POLYGON ((30658.5 42047.527, 30679.195 42020.8...</td>\n",
       "    </tr>\n",
       "    <tr>\n",
       "      <th>1</th>\n",
       "      <td>BEDOK</td>\n",
       "      <td>0.181129</td>\n",
       "      <td>POLYGON ((38974.269 36138.243, 39371.471 35747...</td>\n",
       "    </tr>\n",
       "    <tr>\n",
       "      <th>2</th>\n",
       "      <td>BISHAN</td>\n",
       "      <td>0.074724</td>\n",
       "      <td>POLYGON ((29772.191 38311.805, 29784.826 38304...</td>\n",
       "    </tr>\n",
       "    <tr>\n",
       "      <th>3</th>\n",
       "      <td>BOON LAY</td>\n",
       "      <td>0.000000</td>\n",
       "      <td>POLYGON ((12861.383 32207.492, 12860.555 32208...</td>\n",
       "    </tr>\n",
       "    <tr>\n",
       "      <th>4</th>\n",
       "      <td>BUKIT BATOK</td>\n",
       "      <td>0.287983</td>\n",
       "      <td>POLYGON ((20294.455 39114.528, 20334.318 39054...</td>\n",
       "    </tr>\n",
       "  </tbody>\n",
       "</table>\n",
       "</div>"
      ],
      "text/plain": [
       "    PLN_AREA_N  rat_un_he                                           geometry\n",
       "0   ANG MO KIO   0.186899  POLYGON ((30658.5 42047.527, 30679.195 42020.8...\n",
       "1        BEDOK   0.181129  POLYGON ((38974.269 36138.243, 39371.471 35747...\n",
       "2       BISHAN   0.074724  POLYGON ((29772.191 38311.805, 29784.826 38304...\n",
       "3     BOON LAY   0.000000  POLYGON ((12861.383 32207.492, 12860.555 32208...\n",
       "4  BUKIT BATOK   0.287983  POLYGON ((20294.455 39114.528, 20334.318 39054..."
      ]
     },
     "execution_count": 8,
     "metadata": {},
     "output_type": "execute_result"
    }
   ],
   "source": [
    "access = gpd.read_file('../../data/jointables/access.shp')\n",
    "access.head()"
   ]
  },
  {
   "cell_type": "code",
   "execution_count": 9,
   "metadata": {},
   "outputs": [
    {
     "data": {
      "text/html": [
       "<div>\n",
       "<style scoped>\n",
       "    .dataframe tbody tr th:only-of-type {\n",
       "        vertical-align: middle;\n",
       "    }\n",
       "\n",
       "    .dataframe tbody tr th {\n",
       "        vertical-align: top;\n",
       "    }\n",
       "\n",
       "    .dataframe thead th {\n",
       "        text-align: right;\n",
       "    }\n",
       "</style>\n",
       "<table border=\"1\" class=\"dataframe\">\n",
       "  <thead>\n",
       "    <tr style=\"text-align: right;\">\n",
       "      <th></th>\n",
       "      <th>Name</th>\n",
       "      <th>PLN_AREA_N</th>\n",
       "      <th>lowinc_1k</th>\n",
       "      <th>lowinc_2k</th>\n",
       "      <th>lowinc_3k</th>\n",
       "      <th>geometry</th>\n",
       "    </tr>\n",
       "  </thead>\n",
       "  <tbody>\n",
       "    <tr>\n",
       "      <th>0</th>\n",
       "      <td>kml_1</td>\n",
       "      <td>BEDOK</td>\n",
       "      <td>0.027287</td>\n",
       "      <td>0.092661</td>\n",
       "      <td>0.157627</td>\n",
       "      <td>POLYGON ((103.93208 1.30555, 103.93208 1.30555...</td>\n",
       "    </tr>\n",
       "    <tr>\n",
       "      <th>1</th>\n",
       "      <td>kml_2</td>\n",
       "      <td>BOON LAY</td>\n",
       "      <td>0.000000</td>\n",
       "      <td>0.000000</td>\n",
       "      <td>0.000000</td>\n",
       "      <td>POLYGON ((103.72042 1.32824, 103.72003 1.3276,...</td>\n",
       "    </tr>\n",
       "    <tr>\n",
       "      <th>2</th>\n",
       "      <td>kml_3</td>\n",
       "      <td>BUKIT BATOK</td>\n",
       "      <td>0.017531</td>\n",
       "      <td>0.086412</td>\n",
       "      <td>0.149146</td>\n",
       "      <td>POLYGON ((103.76408 1.37001, 103.76444 1.36947...</td>\n",
       "    </tr>\n",
       "    <tr>\n",
       "      <th>3</th>\n",
       "      <td>kml_4</td>\n",
       "      <td>BUKIT MERAH</td>\n",
       "      <td>0.040185</td>\n",
       "      <td>0.137165</td>\n",
       "      <td>0.210762</td>\n",
       "      <td>POLYGON ((103.82361 1.26018, 103.82362 1.26026...</td>\n",
       "    </tr>\n",
       "    <tr>\n",
       "      <th>4</th>\n",
       "      <td>kml_5</td>\n",
       "      <td>BUKIT PANJANG</td>\n",
       "      <td>0.016969</td>\n",
       "      <td>0.059454</td>\n",
       "      <td>0.120975</td>\n",
       "      <td>POLYGON ((103.77445 1.39029, 103.77499 1.38607...</td>\n",
       "    </tr>\n",
       "  </tbody>\n",
       "</table>\n",
       "</div>"
      ],
      "text/plain": [
       "    Name     PLN_AREA_N  lowinc_1k  lowinc_2k  lowinc_3k  \\\n",
       "0  kml_1          BEDOK   0.027287   0.092661   0.157627   \n",
       "1  kml_2       BOON LAY   0.000000   0.000000   0.000000   \n",
       "2  kml_3    BUKIT BATOK   0.017531   0.086412   0.149146   \n",
       "3  kml_4    BUKIT MERAH   0.040185   0.137165   0.210762   \n",
       "4  kml_5  BUKIT PANJANG   0.016969   0.059454   0.120975   \n",
       "\n",
       "                                            geometry  \n",
       "0  POLYGON ((103.93208 1.30555, 103.93208 1.30555...  \n",
       "1  POLYGON ((103.72042 1.32824, 103.72003 1.3276,...  \n",
       "2  POLYGON ((103.76408 1.37001, 103.76444 1.36947...  \n",
       "3  POLYGON ((103.82361 1.26018, 103.82362 1.26026...  \n",
       "4  POLYGON ((103.77445 1.39029, 103.77499 1.38607...  "
      ]
     },
     "execution_count": 9,
     "metadata": {},
     "output_type": "execute_result"
    }
   ],
   "source": [
    "income = gpd.read_file('../../data/jointables/income.shp')\n",
    "income.head()"
   ]
  },
  {
   "cell_type": "markdown",
   "metadata": {},
   "source": [
    "## 2. Join the attribute tables based on the common field\n",
    "\n",
    "The common field is 'PLN_AREA_N'."
   ]
  },
  {
   "cell_type": "code",
   "execution_count": 14,
   "metadata": {},
   "outputs": [
    {
     "data": {
      "text/html": [
       "<div>\n",
       "<style scoped>\n",
       "    .dataframe tbody tr th:only-of-type {\n",
       "        vertical-align: middle;\n",
       "    }\n",
       "\n",
       "    .dataframe tbody tr th {\n",
       "        vertical-align: top;\n",
       "    }\n",
       "\n",
       "    .dataframe thead th {\n",
       "        text-align: right;\n",
       "    }\n",
       "</style>\n",
       "<table border=\"1\" class=\"dataframe\">\n",
       "  <thead>\n",
       "    <tr style=\"text-align: right;\">\n",
       "      <th></th>\n",
       "      <th>PLN_AREA_N</th>\n",
       "      <th>rat_un_he</th>\n",
       "      <th>geometry_x</th>\n",
       "      <th>Name</th>\n",
       "      <th>lowinc_1k</th>\n",
       "      <th>lowinc_2k</th>\n",
       "      <th>lowinc_3k</th>\n",
       "    </tr>\n",
       "  </thead>\n",
       "  <tbody>\n",
       "    <tr>\n",
       "      <th>0</th>\n",
       "      <td>ANG MO KIO</td>\n",
       "      <td>0.186899</td>\n",
       "      <td>POLYGON ((30658.5 42047.527, 30679.195 42020.8...</td>\n",
       "      <td>kml_52</td>\n",
       "      <td>0.032053</td>\n",
       "      <td>0.118758</td>\n",
       "      <td>0.192010</td>\n",
       "    </tr>\n",
       "    <tr>\n",
       "      <th>1</th>\n",
       "      <td>BEDOK</td>\n",
       "      <td>0.181129</td>\n",
       "      <td>POLYGON ((38974.269 36138.243, 39371.471 35747...</td>\n",
       "      <td>kml_1</td>\n",
       "      <td>0.027287</td>\n",
       "      <td>0.092661</td>\n",
       "      <td>0.157627</td>\n",
       "    </tr>\n",
       "    <tr>\n",
       "      <th>2</th>\n",
       "      <td>BISHAN</td>\n",
       "      <td>0.074724</td>\n",
       "      <td>POLYGON ((29772.191 38311.805, 29784.826 38304...</td>\n",
       "      <td>kml_51</td>\n",
       "      <td>0.020294</td>\n",
       "      <td>0.059564</td>\n",
       "      <td>0.095917</td>\n",
       "    </tr>\n",
       "    <tr>\n",
       "      <th>3</th>\n",
       "      <td>BOON LAY</td>\n",
       "      <td>0.000000</td>\n",
       "      <td>POLYGON ((12861.383 32207.492, 12860.555 32208...</td>\n",
       "      <td>kml_2</td>\n",
       "      <td>0.000000</td>\n",
       "      <td>0.000000</td>\n",
       "      <td>0.000000</td>\n",
       "    </tr>\n",
       "    <tr>\n",
       "      <th>4</th>\n",
       "      <td>BUKIT BATOK</td>\n",
       "      <td>0.287983</td>\n",
       "      <td>POLYGON ((20294.455 39114.528, 20334.318 39054...</td>\n",
       "      <td>kml_3</td>\n",
       "      <td>0.017531</td>\n",
       "      <td>0.086412</td>\n",
       "      <td>0.149146</td>\n",
       "    </tr>\n",
       "  </tbody>\n",
       "</table>\n",
       "</div>"
      ],
      "text/plain": [
       "    PLN_AREA_N  rat_un_he                                         geometry_x  \\\n",
       "0   ANG MO KIO   0.186899  POLYGON ((30658.5 42047.527, 30679.195 42020.8...   \n",
       "1        BEDOK   0.181129  POLYGON ((38974.269 36138.243, 39371.471 35747...   \n",
       "2       BISHAN   0.074724  POLYGON ((29772.191 38311.805, 29784.826 38304...   \n",
       "3     BOON LAY   0.000000  POLYGON ((12861.383 32207.492, 12860.555 32208...   \n",
       "4  BUKIT BATOK   0.287983  POLYGON ((20294.455 39114.528, 20334.318 39054...   \n",
       "\n",
       "     Name  lowinc_1k  lowinc_2k  lowinc_3k  \n",
       "0  kml_52   0.032053   0.118758   0.192010  \n",
       "1   kml_1   0.027287   0.092661   0.157627  \n",
       "2  kml_51   0.020294   0.059564   0.095917  \n",
       "3   kml_2   0.000000   0.000000   0.000000  \n",
       "4   kml_3   0.017531   0.086412   0.149146  "
      ]
     },
     "execution_count": 14,
     "metadata": {},
     "output_type": "execute_result"
    }
   ],
   "source": [
    "merge = pd.merge(access, income, on='PLN_AREA_N', how='left').drop('geometry_y', axis=1)\n",
    "\n",
    "merge.head()"
   ]
  },
  {
   "cell_type": "code",
   "execution_count": 15,
   "metadata": {},
   "outputs": [],
   "source": [
    "merge.to_file('../../data/jointables/outputs/merged.shp')"
   ]
  }
 ],
 "metadata": {
  "kernelspec": {
   "display_name": "GIS",
   "language": "python",
   "name": "python3"
  },
  "language_info": {
   "codemirror_mode": {
    "name": "ipython",
    "version": 3
   },
   "file_extension": ".py",
   "mimetype": "text/x-python",
   "name": "python",
   "nbconvert_exporter": "python",
   "pygments_lexer": "ipython3",
   "version": "3.11.9"
  }
 },
 "nbformat": 4,
 "nbformat_minor": 2
}
